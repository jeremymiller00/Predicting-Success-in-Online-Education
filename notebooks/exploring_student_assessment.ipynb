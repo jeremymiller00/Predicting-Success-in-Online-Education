{
 "cells": [
  {
   "cell_type": "code",
   "execution_count": 1,
   "metadata": {},
   "outputs": [],
   "source": [
    "import numpy as np \n",
    "import pandas as pd\n",
    "import seaborn as sns\n",
    "sns.reset_defaults\n",
    "sns.set_style(style='darkgrid')\n",
    "sns.set_context(context='notebook')\n",
    "import matplotlib.pyplot as plt\n",
    "#plt.style.use('ggplot')\n",
    "plt.rcParams[\"patch.force_edgecolor\"] = True\n",
    "plt.rcParams['figure.figsize'] = (20.0, 10.0)\n",
    "font = {'size'   : 20}\n",
    "plt.rc('font', **font)\n",
    "plt.ion()\n",
    "%matplotlib inline"
   ]
  },
  {
   "cell_type": "code",
   "execution_count": 2,
   "metadata": {},
   "outputs": [],
   "source": [
    "import altair"
   ]
  },
  {
   "cell_type": "markdown",
   "metadata": {},
   "source": [
    "Observations: most students have average scores around 80, should look at number of assessments"
   ]
  },
  {
   "cell_type": "code",
   "execution_count": null,
   "metadata": {},
   "outputs": [],
   "source": [
    "To Do:"
   ]
  },
  {
   "cell_type": "code",
   "execution_count": 3,
   "metadata": {},
   "outputs": [],
   "source": [
    "st_assess = pd.read_csv('studentAssessment.csv')"
   ]
  },
  {
   "cell_type": "code",
   "execution_count": 3,
   "metadata": {},
   "outputs": [
    {
     "name": "stdout",
     "output_type": "stream",
     "text": [
      "<class 'pandas.core.frame.DataFrame'>\n",
      "RangeIndex: 173912 entries, 0 to 173911\n",
      "Data columns (total 5 columns):\n",
      "id_assessment     173912 non-null int64\n",
      "id_student        173912 non-null int64\n",
      "date_submitted    173912 non-null int64\n",
      "is_banked         173912 non-null int64\n",
      "score             173739 non-null float64\n",
      "dtypes: float64(1), int64(4)\n",
      "memory usage: 6.6 MB\n"
     ]
    }
   ],
   "source": [
    "st_assess.info()"
   ]
  },
  {
   "cell_type": "code",
   "execution_count": 5,
   "metadata": {},
   "outputs": [
    {
     "data": {
      "text/plain": [
       "23369"
      ]
     },
     "execution_count": 5,
     "metadata": {},
     "output_type": "execute_result"
    }
   ],
   "source": [
    "st_assess['id_student'].nunique()"
   ]
  },
  {
   "cell_type": "code",
   "execution_count": 6,
   "metadata": {},
   "outputs": [
    {
     "data": {
      "text/html": [
       "<div>\n",
       "<style scoped>\n",
       "    .dataframe tbody tr th:only-of-type {\n",
       "        vertical-align: middle;\n",
       "    }\n",
       "\n",
       "    .dataframe tbody tr th {\n",
       "        vertical-align: top;\n",
       "    }\n",
       "\n",
       "    .dataframe thead th {\n",
       "        text-align: right;\n",
       "    }\n",
       "</style>\n",
       "<table border=\"1\" class=\"dataframe\">\n",
       "  <thead>\n",
       "    <tr style=\"text-align: right;\">\n",
       "      <th></th>\n",
       "      <th>id_assessment</th>\n",
       "      <th>id_student</th>\n",
       "      <th>date_submitted</th>\n",
       "      <th>is_banked</th>\n",
       "      <th>score</th>\n",
       "    </tr>\n",
       "  </thead>\n",
       "  <tbody>\n",
       "    <tr>\n",
       "      <th>52504</th>\n",
       "      <td>24289</td>\n",
       "      <td>511473</td>\n",
       "      <td>209</td>\n",
       "      <td>0</td>\n",
       "      <td>50.0</td>\n",
       "    </tr>\n",
       "    <tr>\n",
       "      <th>149707</th>\n",
       "      <td>34903</td>\n",
       "      <td>2020628</td>\n",
       "      <td>152</td>\n",
       "      <td>0</td>\n",
       "      <td>56.0</td>\n",
       "    </tr>\n",
       "    <tr>\n",
       "      <th>135054</th>\n",
       "      <td>34888</td>\n",
       "      <td>612528</td>\n",
       "      <td>87</td>\n",
       "      <td>0</td>\n",
       "      <td>87.0</td>\n",
       "    </tr>\n",
       "    <tr>\n",
       "      <th>78682</th>\n",
       "      <td>25350</td>\n",
       "      <td>396292</td>\n",
       "      <td>88</td>\n",
       "      <td>0</td>\n",
       "      <td>96.0</td>\n",
       "    </tr>\n",
       "    <tr>\n",
       "      <th>37447</th>\n",
       "      <td>15018</td>\n",
       "      <td>623845</td>\n",
       "      <td>154</td>\n",
       "      <td>0</td>\n",
       "      <td>100.0</td>\n",
       "    </tr>\n",
       "  </tbody>\n",
       "</table>\n",
       "</div>"
      ],
      "text/plain": [
       "        id_assessment  id_student  date_submitted  is_banked  score\n",
       "52504           24289      511473             209          0   50.0\n",
       "149707          34903     2020628             152          0   56.0\n",
       "135054          34888      612528              87          0   87.0\n",
       "78682           25350      396292              88          0   96.0\n",
       "37447           15018      623845             154          0  100.0"
      ]
     },
     "execution_count": 6,
     "metadata": {},
     "output_type": "execute_result"
    }
   ],
   "source": [
    "st_assess.sample(5)"
   ]
  },
  {
   "cell_type": "code",
   "execution_count": 8,
   "metadata": {},
   "outputs": [
    {
     "data": {
      "text/plain": [
       "1909"
      ]
     },
     "execution_count": 8,
     "metadata": {},
     "output_type": "execute_result"
    }
   ],
   "source": [
    "st_assess['is_banked'].sum()"
   ]
  },
  {
   "cell_type": "code",
   "execution_count": 11,
   "metadata": {},
   "outputs": [],
   "source": [
    "by_student = st_assess.groupby(by='id_student').mean().drop('id_assessment', axis=1)"
   ]
  },
  {
   "cell_type": "code",
   "execution_count": 17,
   "metadata": {},
   "outputs": [],
   "source": [
    "by_student.sort_values(by=['score'], axis=0, ascending=False, inplace=True)"
   ]
  },
  {
   "cell_type": "code",
   "execution_count": 23,
   "metadata": {},
   "outputs": [
    {
     "name": "stderr",
     "output_type": "stream",
     "text": [
      "/Users/jeremymiller/anaconda3/lib/python3.6/site-packages/scipy/stats/stats.py:1713: FutureWarning: Using a non-tuple sequence for multidimensional indexing is deprecated; use `arr[tuple(seq)]` instead of `arr[seq]`. In the future this will be interpreted as an array index, `arr[np.array(seq)]`, which will result either in an error or a different result.\n",
      "  return np.add.reduce(sorted[indexer] * weights, axis=axis) / sumval\n"
     ]
    },
    {
     "data": {
      "text/plain": [
       "<matplotlib.axes._subplots.AxesSubplot at 0x1a1f0375f8>"
      ]
     },
     "execution_count": 23,
     "metadata": {},
     "output_type": "execute_result"
    },
    {
     "data": {
      "image/png": "[encoded data removed]",
      "text/plain": [
       "<Figure size 864x720 with 1 Axes>"
      ]
     },
     "metadata": {
      "needs_background": "light"
     },
     "output_type": "display_data"
    }
   ],
   "source": [
    "fig, ax = plt.subplots(figsize=(12,10))\n",
    "sns.distplot(by_student.dropna()['score'], kde=False, axlabel='Average Scores by Student' )"
   ]
  },
  {
   "cell_type": "markdown",
   "metadata": {},
   "source": [
    "Altair"
   ]
  },
  {
   "cell_type": "code",
   "execution_count": 4,
   "metadata": {},
   "outputs": [
    {
     "data": {
      "text/html": [
       "<div>\n",
       "<style scoped>\n",
       "    .dataframe tbody tr th:only-of-type {\n",
       "        vertical-align: middle;\n",
       "    }\n",
       "\n",
       "    .dataframe tbody tr th {\n",
       "        vertical-align: top;\n",
       "    }\n",
       "\n",
       "    .dataframe thead th {\n",
       "        text-align: right;\n",
       "    }\n",
       "</style>\n",
       "<table border=\"1\" class=\"dataframe\">\n",
       "  <thead>\n",
       "    <tr style=\"text-align: right;\">\n",
       "      <th></th>\n",
       "      <th>id_assessment</th>\n",
       "      <th>id_student</th>\n",
       "      <th>date_submitted</th>\n",
       "      <th>is_banked</th>\n",
       "      <th>score</th>\n",
       "    </tr>\n",
       "  </thead>\n",
       "  <tbody>\n",
       "    <tr>\n",
       "      <th>0</th>\n",
       "      <td>1752</td>\n",
       "      <td>11391</td>\n",
       "      <td>18</td>\n",
       "      <td>0</td>\n",
       "      <td>78.0</td>\n",
       "    </tr>\n",
       "    <tr>\n",
       "      <th>1</th>\n",
       "      <td>1752</td>\n",
       "      <td>28400</td>\n",
       "      <td>22</td>\n",
       "      <td>0</td>\n",
       "      <td>70.0</td>\n",
       "    </tr>\n",
       "    <tr>\n",
       "      <th>2</th>\n",
       "      <td>1752</td>\n",
       "      <td>31604</td>\n",
       "      <td>17</td>\n",
       "      <td>0</td>\n",
       "      <td>72.0</td>\n",
       "    </tr>\n",
       "    <tr>\n",
       "      <th>3</th>\n",
       "      <td>1752</td>\n",
       "      <td>32885</td>\n",
       "      <td>26</td>\n",
       "      <td>0</td>\n",
       "      <td>69.0</td>\n",
       "    </tr>\n",
       "    <tr>\n",
       "      <th>4</th>\n",
       "      <td>1752</td>\n",
       "      <td>38053</td>\n",
       "      <td>19</td>\n",
       "      <td>0</td>\n",
       "      <td>79.0</td>\n",
       "    </tr>\n",
       "  </tbody>\n",
       "</table>\n",
       "</div>"
      ],
      "text/plain": [
       "   id_assessment  id_student  date_submitted  is_banked  score\n",
       "0           1752       11391              18          0   78.0\n",
       "1           1752       28400              22          0   70.0\n",
       "2           1752       31604              17          0   72.0\n",
       "3           1752       32885              26          0   69.0\n",
       "4           1752       38053              19          0   79.0"
      ]
     },
     "execution_count": 4,
     "metadata": {},
     "output_type": "execute_result"
    }
   ],
   "source": [
    "st_assess.head()"
   ]
  },
  {
   "cell_type": "code",
   "execution_count": 7,
   "metadata": {},
   "outputs": [
    {
     "ename": "MaxRowsError",
     "evalue": "The number of rows in your dataset is greater than the maximum allowed (5000). For information on how to plot larger datasets in Altair, see the documentation",
     "output_type": "error",
     "traceback": [
      "\u001b[0;31m---------------------------------------------------------------------------\u001b[0m",
      "\u001b[0;31mMaxRowsError\u001b[0m                              Traceback (most recent call last)",
      "\u001b[0;32m~/anaconda3/lib/python3.6/site-packages/altair/vegalite/v2/api.py\u001b[0m in \u001b[0;36mto_dict\u001b[0;34m(self, *args, **kwargs)\u001b[0m\n\u001b[1;32m    396\u001b[0m         \u001b[0mcopy\u001b[0m \u001b[0;34m=\u001b[0m \u001b[0mself\u001b[0m\u001b[0;34m.\u001b[0m\u001b[0mcopy\u001b[0m\u001b[0;34m(\u001b[0m\u001b[0;34m)\u001b[0m\u001b[0;34m\u001b[0m\u001b[0m\n\u001b[1;32m    397\u001b[0m         \u001b[0moriginal_data\u001b[0m \u001b[0;34m=\u001b[0m \u001b[0mgetattr\u001b[0m\u001b[0;34m(\u001b[0m\u001b[0mcopy\u001b[0m\u001b[0;34m,\u001b[0m \u001b[0;34m'data'\u001b[0m\u001b[0;34m,\u001b[0m \u001b[0mUndefined\u001b[0m\u001b[0;34m)\u001b[0m\u001b[0;34m\u001b[0m\u001b[0m\n\u001b[0;32m--> 398\u001b[0;31m         \u001b[0mcopy\u001b[0m\u001b[0;34m.\u001b[0m\u001b[0mdata\u001b[0m \u001b[0;34m=\u001b[0m \u001b[0m_prepare_data\u001b[0m\u001b[0;34m(\u001b[0m\u001b[0moriginal_data\u001b[0m\u001b[0;34m,\u001b[0m \u001b[0mcontext\u001b[0m\u001b[0;34m)\u001b[0m\u001b[0;34m\u001b[0m\u001b[0m\n\u001b[0m\u001b[1;32m    399\u001b[0m \u001b[0;34m\u001b[0m\u001b[0m\n\u001b[1;32m    400\u001b[0m         \u001b[0;32mif\u001b[0m \u001b[0moriginal_data\u001b[0m \u001b[0;32mis\u001b[0m \u001b[0;32mnot\u001b[0m \u001b[0mUndefined\u001b[0m\u001b[0;34m:\u001b[0m\u001b[0;34m\u001b[0m\u001b[0m\n",
      "\u001b[0;32m~/anaconda3/lib/python3.6/site-packages/altair/vegalite/v2/api.py\u001b[0m in \u001b[0;36m_prepare_data\u001b[0;34m(data, context)\u001b[0m\n\u001b[1;32m     82\u001b[0m     \u001b[0;31m# convert dataframes to dict\u001b[0m\u001b[0;34m\u001b[0m\u001b[0;34m\u001b[0m\u001b[0m\n\u001b[1;32m     83\u001b[0m     \u001b[0;32mif\u001b[0m \u001b[0misinstance\u001b[0m\u001b[0;34m(\u001b[0m\u001b[0mdata\u001b[0m\u001b[0;34m,\u001b[0m \u001b[0mpd\u001b[0m\u001b[0;34m.\u001b[0m\u001b[0mDataFrame\u001b[0m\u001b[0;34m)\u001b[0m\u001b[0;34m:\u001b[0m\u001b[0;34m\u001b[0m\u001b[0m\n\u001b[0;32m---> 84\u001b[0;31m         \u001b[0mdata\u001b[0m \u001b[0;34m=\u001b[0m \u001b[0mpipe\u001b[0m\u001b[0;34m(\u001b[0m\u001b[0mdata\u001b[0m\u001b[0;34m,\u001b[0m \u001b[0mdata_transformers\u001b[0m\u001b[0;34m.\u001b[0m\u001b[0mget\u001b[0m\u001b[0;34m(\u001b[0m\u001b[0;34m)\u001b[0m\u001b[0;34m)\u001b[0m\u001b[0;34m\u001b[0m\u001b[0m\n\u001b[0m\u001b[1;32m     85\u001b[0m \u001b[0;34m\u001b[0m\u001b[0m\n\u001b[1;32m     86\u001b[0m     \u001b[0;31m# convert string input to a URLData\u001b[0m\u001b[0;34m\u001b[0m\u001b[0;34m\u001b[0m\u001b[0m\n",
      "\u001b[0;32m~/anaconda3/lib/python3.6/site-packages/toolz/functoolz.py\u001b[0m in \u001b[0;36mpipe\u001b[0;34m(data, *funcs)\u001b[0m\n\u001b[1;32m    550\u001b[0m     \"\"\"\n\u001b[1;32m    551\u001b[0m     \u001b[0;32mfor\u001b[0m \u001b[0mfunc\u001b[0m \u001b[0;32min\u001b[0m \u001b[0mfuncs\u001b[0m\u001b[0;34m:\u001b[0m\u001b[0;34m\u001b[0m\u001b[0m\n\u001b[0;32m--> 552\u001b[0;31m         \u001b[0mdata\u001b[0m \u001b[0;34m=\u001b[0m \u001b[0mfunc\u001b[0m\u001b[0;34m(\u001b[0m\u001b[0mdata\u001b[0m\u001b[0;34m)\u001b[0m\u001b[0;34m\u001b[0m\u001b[0m\n\u001b[0m\u001b[1;32m    553\u001b[0m     \u001b[0;32mreturn\u001b[0m \u001b[0mdata\u001b[0m\u001b[0;34m\u001b[0m\u001b[0m\n\u001b[1;32m    554\u001b[0m \u001b[0;34m\u001b[0m\u001b[0m\n",
      "\u001b[0;32m~/anaconda3/lib/python3.6/site-packages/toolz/functoolz.py\u001b[0m in \u001b[0;36m__call__\u001b[0;34m(self, *args, **kwargs)\u001b[0m\n\u001b[1;32m    281\u001b[0m     \u001b[0;32mdef\u001b[0m \u001b[0m__call__\u001b[0m\u001b[0;34m(\u001b[0m\u001b[0mself\u001b[0m\u001b[0;34m,\u001b[0m \u001b[0;34m*\u001b[0m\u001b[0margs\u001b[0m\u001b[0;34m,\u001b[0m \u001b[0;34m**\u001b[0m\u001b[0mkwargs\u001b[0m\u001b[0;34m)\u001b[0m\u001b[0;34m:\u001b[0m\u001b[0;34m\u001b[0m\u001b[0m\n\u001b[1;32m    282\u001b[0m         \u001b[0;32mtry\u001b[0m\u001b[0;34m:\u001b[0m\u001b[0;34m\u001b[0m\u001b[0m\n\u001b[0;32m--> 283\u001b[0;31m             \u001b[0;32mreturn\u001b[0m \u001b[0mself\u001b[0m\u001b[0;34m.\u001b[0m\u001b[0m_partial\u001b[0m\u001b[0;34m(\u001b[0m\u001b[0;34m*\u001b[0m\u001b[0margs\u001b[0m\u001b[0;34m,\u001b[0m \u001b[0;34m**\u001b[0m\u001b[0mkwargs\u001b[0m\u001b[0;34m)\u001b[0m\u001b[0;34m\u001b[0m\u001b[0m\n\u001b[0m\u001b[1;32m    284\u001b[0m         \u001b[0;32mexcept\u001b[0m \u001b[0mTypeError\u001b[0m \u001b[0;32mas\u001b[0m \u001b[0mexc\u001b[0m\u001b[0;34m:\u001b[0m\u001b[0;34m\u001b[0m\u001b[0m\n\u001b[1;32m    285\u001b[0m             \u001b[0;32mif\u001b[0m \u001b[0mself\u001b[0m\u001b[0;34m.\u001b[0m\u001b[0m_should_curry\u001b[0m\u001b[0;34m(\u001b[0m\u001b[0margs\u001b[0m\u001b[0;34m,\u001b[0m \u001b[0mkwargs\u001b[0m\u001b[0;34m,\u001b[0m \u001b[0mexc\u001b[0m\u001b[0;34m)\u001b[0m\u001b[0;34m:\u001b[0m\u001b[0;34m\u001b[0m\u001b[0m\n",
      "\u001b[0;32m~/anaconda3/lib/python3.6/site-packages/altair/vegalite/data.py\u001b[0m in \u001b[0;36mdefault_data_transformer\u001b[0;34m(data, max_rows)\u001b[0m\n\u001b[1;32m     10\u001b[0m \u001b[0;34m@\u001b[0m\u001b[0mcurry\u001b[0m\u001b[0;34m\u001b[0m\u001b[0m\n\u001b[1;32m     11\u001b[0m \u001b[0;32mdef\u001b[0m \u001b[0mdefault_data_transformer\u001b[0m\u001b[0;34m(\u001b[0m\u001b[0mdata\u001b[0m\u001b[0;34m,\u001b[0m \u001b[0mmax_rows\u001b[0m\u001b[0;34m=\u001b[0m\u001b[0;36m5000\u001b[0m\u001b[0;34m)\u001b[0m\u001b[0;34m:\u001b[0m\u001b[0;34m\u001b[0m\u001b[0m\n\u001b[0;32m---> 12\u001b[0;31m     \u001b[0;32mreturn\u001b[0m \u001b[0mpipe\u001b[0m\u001b[0;34m(\u001b[0m\u001b[0mdata\u001b[0m\u001b[0;34m,\u001b[0m \u001b[0mlimit_rows\u001b[0m\u001b[0;34m(\u001b[0m\u001b[0mmax_rows\u001b[0m\u001b[0;34m=\u001b[0m\u001b[0mmax_rows\u001b[0m\u001b[0;34m)\u001b[0m\u001b[0;34m,\u001b[0m \u001b[0mto_values\u001b[0m\u001b[0;34m)\u001b[0m\u001b[0;34m\u001b[0m\u001b[0m\n\u001b[0m\u001b[1;32m     13\u001b[0m \u001b[0;34m\u001b[0m\u001b[0m\n\u001b[1;32m     14\u001b[0m \u001b[0;34m\u001b[0m\u001b[0m\n",
      "\u001b[0;32m~/anaconda3/lib/python3.6/site-packages/toolz/functoolz.py\u001b[0m in \u001b[0;36mpipe\u001b[0;34m(data, *funcs)\u001b[0m\n\u001b[1;32m    550\u001b[0m     \"\"\"\n\u001b[1;32m    551\u001b[0m     \u001b[0;32mfor\u001b[0m \u001b[0mfunc\u001b[0m \u001b[0;32min\u001b[0m \u001b[0mfuncs\u001b[0m\u001b[0;34m:\u001b[0m\u001b[0;34m\u001b[0m\u001b[0m\n\u001b[0;32m--> 552\u001b[0;31m         \u001b[0mdata\u001b[0m \u001b[0;34m=\u001b[0m \u001b[0mfunc\u001b[0m\u001b[0;34m(\u001b[0m\u001b[0mdata\u001b[0m\u001b[0;34m)\u001b[0m\u001b[0;34m\u001b[0m\u001b[0m\n\u001b[0m\u001b[1;32m    553\u001b[0m     \u001b[0;32mreturn\u001b[0m \u001b[0mdata\u001b[0m\u001b[0;34m\u001b[0m\u001b[0m\n\u001b[1;32m    554\u001b[0m \u001b[0;34m\u001b[0m\u001b[0m\n",
      "\u001b[0;32m~/anaconda3/lib/python3.6/site-packages/toolz/functoolz.py\u001b[0m in \u001b[0;36m__call__\u001b[0;34m(self, *args, **kwargs)\u001b[0m\n\u001b[1;32m    281\u001b[0m     \u001b[0;32mdef\u001b[0m \u001b[0m__call__\u001b[0m\u001b[0;34m(\u001b[0m\u001b[0mself\u001b[0m\u001b[0;34m,\u001b[0m \u001b[0;34m*\u001b[0m\u001b[0margs\u001b[0m\u001b[0;34m,\u001b[0m \u001b[0;34m**\u001b[0m\u001b[0mkwargs\u001b[0m\u001b[0;34m)\u001b[0m\u001b[0;34m:\u001b[0m\u001b[0;34m\u001b[0m\u001b[0m\n\u001b[1;32m    282\u001b[0m         \u001b[0;32mtry\u001b[0m\u001b[0;34m:\u001b[0m\u001b[0;34m\u001b[0m\u001b[0m\n\u001b[0;32m--> 283\u001b[0;31m             \u001b[0;32mreturn\u001b[0m \u001b[0mself\u001b[0m\u001b[0;34m.\u001b[0m\u001b[0m_partial\u001b[0m\u001b[0;34m(\u001b[0m\u001b[0;34m*\u001b[0m\u001b[0margs\u001b[0m\u001b[0;34m,\u001b[0m \u001b[0;34m**\u001b[0m\u001b[0mkwargs\u001b[0m\u001b[0;34m)\u001b[0m\u001b[0;34m\u001b[0m\u001b[0m\n\u001b[0m\u001b[1;32m    284\u001b[0m         \u001b[0;32mexcept\u001b[0m \u001b[0mTypeError\u001b[0m \u001b[0;32mas\u001b[0m \u001b[0mexc\u001b[0m\u001b[0;34m:\u001b[0m\u001b[0;34m\u001b[0m\u001b[0m\n\u001b[1;32m    285\u001b[0m             \u001b[0;32mif\u001b[0m \u001b[0mself\u001b[0m\u001b[0;34m.\u001b[0m\u001b[0m_should_curry\u001b[0m\u001b[0;34m(\u001b[0m\u001b[0margs\u001b[0m\u001b[0;34m,\u001b[0m \u001b[0mkwargs\u001b[0m\u001b[0;34m,\u001b[0m \u001b[0mexc\u001b[0m\u001b[0;34m)\u001b[0m\u001b[0;34m:\u001b[0m\u001b[0;34m\u001b[0m\u001b[0m\n",
      "\u001b[0;32m~/anaconda3/lib/python3.6/site-packages/altair/utils/data.py\u001b[0m in \u001b[0;36mlimit_rows\u001b[0;34m(data, max_rows)\u001b[0m\n\u001b[1;32m     70\u001b[0m                            \u001b[0;34m'than the maximum allowed ({0}). '\u001b[0m\u001b[0;34m\u001b[0m\u001b[0m\n\u001b[1;32m     71\u001b[0m                            \u001b[0;34m'For information on how to plot larger datasets '\u001b[0m\u001b[0;34m\u001b[0m\u001b[0m\n\u001b[0;32m---> 72\u001b[0;31m                            'in Altair, see the documentation'.format(max_rows))\n\u001b[0m\u001b[1;32m     73\u001b[0m     \u001b[0;32mreturn\u001b[0m \u001b[0mdata\u001b[0m\u001b[0;34m\u001b[0m\u001b[0m\n\u001b[1;32m     74\u001b[0m \u001b[0;34m\u001b[0m\u001b[0m\n",
      "\u001b[0;31mMaxRowsError\u001b[0m: The number of rows in your dataset is greater than the maximum allowed (5000). For information on how to plot larger datasets in Altair, see the documentation"
     ]
    },
    {
     "data": {
      "text/plain": [
       "Chart({\n",
       "  data:         id_assessment  id_student  date_submitted  is_banked  score\n",
       "  0                1752       11391              18          0   78.0\n",
       "  1                1752       28400              22          0   70.0\n",
       "  2                1752       31604              17          0   72.0\n",
       "  3                1752       32885              26          0   69.0\n",
       "  4                1752       38053              19          0   79.0\n",
       "  5                1752       45462              20          0   70.0\n",
       "  6                1752       45642              18          0   72.0\n",
       "  7                1752       52130              19          0   72.0\n",
       "  8                1752       53025               9          0   71.0\n",
       "  9                1752       57506              18          0   68.0\n",
       "  10               1752       58873              19          0   73.0\n",
       "  11               1752       59185              18          0   67.0\n",
       "  12               1752       62155              17          0   73.0\n",
       "  13               1752       63400              19          0   83.0\n",
       "  14               1752       65002              17          0   66.0\n",
       "  15               1752       70464              19          0   59.0\n",
       "  16               1752       71361              19          0   82.0\n",
       "  17               1752       74372              22          0   60.0\n",
       "  18               1752       75091              18          0   67.0\n",
       "  19               1752       77367              18          0   73.0\n",
       "  20               1752       91265              21          0   75.0\n",
       "  21               1752       94961              17          0   74.0\n",
       "  22               1752       98094              18          0   62.0\n",
       "  23               1752      100893              17          0   63.0\n",
       "  24               1752      101781              16          0   84.0\n",
       "  25               1752      102806              19          0   80.0\n",
       "  26               1752      102952              19          0   76.0\n",
       "  27               1752      104476              30          0   85.0\n",
       "  28               1752      106247              32          0   67.0\n",
       "  29               1752      106577              18          0   57.0\n",
       "  ...               ...         ...             ...        ...    ...\n",
       "  173882          37443      343655             219          0  100.0\n",
       "  173883          37443      348837             227          0  100.0\n",
       "  173884          37443      350944             228          0  100.0\n",
       "  173885          37443      358341             230          0   20.0\n",
       "  173886          37443      358966             214          0  100.0\n",
       "  173887          37443      371402             226          0   80.0\n",
       "  173888          37443      380599             228          0  100.0\n",
       "  173889          37443      380668             231          0    0.0\n",
       "  173890          37443      386180             227          0   80.0\n",
       "  173891          37443      416700             216          0  100.0\n",
       "  173892          37443      423093             219          0  100.0\n",
       "  173893          37443      429004             229          0   80.0\n",
       "  173894          37443      439170             220          0  100.0\n",
       "  173895          37443      443765             214          0   60.0\n",
       "  173896          37443      465952             230          0   80.0\n",
       "  173897          37443      470187             219          0  100.0\n",
       "  173898          37443      470900             219          0   80.0\n",
       "  173899          37443      499187             222          0  100.0\n",
       "  173900          37443      501888             212          0   80.0\n",
       "  173901          37443      505216             214          0   80.0\n",
       "  173902          37443      505762             214          0  100.0\n",
       "  173903          37443      506205             229          0   60.0\n",
       "  173904          37443      514648             222          0  100.0\n",
       "  173905          37443      517263             219          0  100.0\n",
       "  173906          37443      521631             229          0   20.0\n",
       "  173907          37443      527538             227          0   60.0\n",
       "  173908          37443      534672             229          0  100.0\n",
       "  173909          37443      546286             215          0   80.0\n",
       "  173910          37443      546724             230          0  100.0\n",
       "  173911          37443      558486             224          0   80.0\n",
       "  \n",
       "  [173912 rows x 5 columns],\n",
       "  encoding: EncodingWithFacet({\n",
       "    x: X({\n",
       "      shorthand: 'date_submitted'\n",
       "    }),\n",
       "    y: Y({\n",
       "      shorthand: 'score'\n",
       "    })\n",
       "  }),\n",
       "  mark: 'point'\n",
       "})"
      ]
     },
     "execution_count": 7,
     "metadata": {},
     "output_type": "execute_result"
    }
   ],
   "source": [
    "altair.Chart(st_assess).mark_point().encode(\n",
    "    x = 'date_submitted',\n",
    "    y = 'score',\n",
    ")"
   ]
  },
  {
   "cell_type": "code",
   "execution_count": 10,
   "metadata": {},
   "outputs": [
    {
     "data": {
      "application/vnd.vegalite.v2+json": {
       "$schema": "https://vega.github.io/schema/vega-lite/v2.6.0.json",
       "config": {
        "view": {
         "height": 300,
         "width": 400
        }
       },
       "data": {
        "name": "data-f02450ab61490a1363517a0190416235"
       },
       "datasets": {
        "data-f02450ab61490a1363517a0190416235": [
         {
          "Acceleration": 12,
          "Cylinders": 8,
          "Displacement": 307,
          "Horsepower": 130,
          "Miles_per_Gallon": 18,
          "Name": "chevrolet chevelle malibu",
          "Origin": "USA",
          "Weight_in_lbs": 3504,
          "Year": "1970-01-01T00:00:00"
         },
         {
          "Acceleration": 11.5,
          "Cylinders": 8,
          "Displacement": 350,
          "Horsepower": 165,
          "Miles_per_Gallon": 15,
          "Name": "buick skylark 320",
          "Origin": "USA",
          "Weight_in_lbs": 3693,
          "Year": "1970-01-01T00:00:00"
         },
         {
          "Acceleration": 11,
          "Cylinders": 8,
          "Displacement": 318,
          "Horsepower": 150,
          "Miles_per_Gallon": 18,
          "Name": "plymouth satellite",
          "Origin": "USA",
          "Weight_in_lbs": 3436,
          "Year": "1970-01-01T00:00:00"
         },
         {
          "Acceleration": 12,
          "Cylinders": 8,
          "Displacement": 304,
          "Horsepower": 150,
          "Miles_per_Gallon": 16,
          "Name": "amc rebel sst",
          "Origin": "USA",
          "Weight_in_lbs": 3433,
          "Year": "1970-01-01T00:00:00"
         },
         {
          "Acceleration": 10.5,
          "Cylinders": 8,
          "Displacement": 302,
          "Horsepower": 140,
          "Miles_per_Gallon": 17,
          "Name": "ford torino",
          "Origin": "USA",
          "Weight_in_lbs": 3449,
          "Year": "1970-01-01T00:00:00"
         },
         {
          "Acceleration": 10,
          "Cylinders": 8,
          "Displacement": 429,
          "Horsepower": 198,
          "Miles_per_Gallon": 15,
          "Name": "ford galaxie 500",
          "Origin": "USA",
          "Weight_in_lbs": 4341,
          "Year": "1970-01-01T00:00:00"
         },
         {
          "Acceleration": 9,
          "Cylinders": 8,
          "Displacement": 454,
          "Horsepower": 220,
          "Miles_per_Gallon": 14,
          "Name": "chevrolet impala",
          "Origin": "USA",
          "Weight_in_lbs": 4354,
          "Year": "1970-01-01T00:00:00"
         },
         {
          "Acceleration": 8.5,
          "Cylinders": 8,
          "Displacement": 440,
          "Horsepower": 215,
          "Miles_per_Gallon": 14,
          "Name": "plymouth fury iii",
          "Origin": "USA",
          "Weight_in_lbs": 4312,
          "Year": "1970-01-01T00:00:00"
         },
         {
          "Acceleration": 10,
          "Cylinders": 8,
          "Displacement": 455,
          "Horsepower": 225,
          "Miles_per_Gallon": 14,
          "Name": "pontiac catalina",
          "Origin": "USA",
          "Weight_in_lbs": 4425,
          "Year": "1970-01-01T00:00:00"
         },
         {
          "Acceleration": 8.5,
          "Cylinders": 8,
          "Displacement": 390,
          "Horsepower": 190,
          "Miles_per_Gallon": 15,
          "Name": "amc ambassador dpl",
          "Origin": "USA",
          "Weight_in_lbs": 3850,
          "Year": "1970-01-01T00:00:00"
         },
         {
          "Acceleration": 17.5,
          "Cylinders": 4,
          "Displacement": 133,
          "Horsepower": 115,
          "Miles_per_Gallon": null,
          "Name": "citroen ds-21 pallas",
          "Origin": "Europe",
          "Weight_in_lbs": 3090,
          "Year": "1970-01-01T00:00:00"
         },
         {
          "Acceleration": 11.5,
          "Cylinders": 8,
          "Displacement": 350,
          "Horsepower": 165,
          "Miles_per_Gallon": null,
          "Name": "chevrolet chevelle concours (sw)",
          "Origin": "USA",
          "Weight_in_lbs": 4142,
          "Year": "1970-01-01T00:00:00"
         },
         {
          "Acceleration": 11,
          "Cylinders": 8,
          "Displacement": 351,
          "Horsepower": 153,
          "Miles_per_Gallon": null,
          "Name": "ford torino (sw)",
          "Origin": "USA",
          "Weight_in_lbs": 4034,
          "Year": "1970-01-01T00:00:00"
         },
         {
          "Acceleration": 10.5,
          "Cylinders": 8,
          "Displacement": 383,
          "Horsepower": 175,
          "Miles_per_Gallon": null,
          "Name": "plymouth satellite (sw)",
          "Origin": "USA",
          "Weight_in_lbs": 4166,
          "Year": "1970-01-01T00:00:00"
         },
         {
          "Acceleration": 11,
          "Cylinders": 8,
          "Displacement": 360,
          "Horsepower": 175,
          "Miles_per_Gallon": null,
          "Name": "amc rebel sst (sw)",
          "Origin": "USA",
          "Weight_in_lbs": 3850,
          "Year": "1970-01-01T00:00:00"
         },
         {
          "Acceleration": 10,
          "Cylinders": 8,
          "Displacement": 383,
          "Horsepower": 170,
          "Miles_per_Gallon": 15,
          "Name": "dodge challenger se",
          "Origin": "USA",
          "Weight_in_lbs": 3563,
          "Year": "1970-01-01T00:00:00"
         },
         {
          "Acceleration": 8,
          "Cylinders": 8,
          "Displacement": 340,
          "Horsepower": 160,
          "Miles_per_Gallon": 14,
          "Name": "plymouth 'cuda 340",
          "Origin": "USA",
          "Weight_in_lbs": 3609,
          "Year": "1970-01-01T00:00:00"
         },
         {
          "Acceleration": 8,
          "Cylinders": 8,
          "Displacement": 302,
          "Horsepower": 140,
          "Miles_per_Gallon": null,
          "Name": "ford mustang boss 302",
          "Origin": "USA",
          "Weight_in_lbs": 3353,
          "Year": "1970-01-01T00:00:00"
         },
         {
          "Acceleration": 9.5,
          "Cylinders": 8,
          "Displacement": 400,
          "Horsepower": 150,
          "Miles_per_Gallon": 15,
          "Name": "chevrolet monte carlo",
          "Origin": "USA",
          "Weight_in_lbs": 3761,
          "Year": "1970-01-01T00:00:00"
         },
         {
          "Acceleration": 10,
          "Cylinders": 8,
          "Displacement": 455,
          "Horsepower": 225,
          "Miles_per_Gallon": 14,
          "Name": "buick estate wagon (sw)",
          "Origin": "USA",
          "Weight_in_lbs": 3086,
          "Year": "1970-01-01T00:00:00"
         },
         {
          "Acceleration": 15,
          "Cylinders": 4,
          "Displacement": 113,
          "Horsepower": 95,
          "Miles_per_Gallon": 24,
          "Name": "toyota corona mark ii",
          "Origin": "Japan",
          "Weight_in_lbs": 2372,
          "Year": "1970-01-01T00:00:00"
         },
         {
          "Acceleration": 15.5,
          "Cylinders": 6,
          "Displacement": 198,
          "Horsepower": 95,
          "Miles_per_Gallon": 22,
          "Name": "plymouth duster",
          "Origin": "USA",
          "Weight_in_lbs": 2833,
          "Year": "1970-01-01T00:00:00"
         },
         {
          "Acceleration": 15.5,
          "Cylinders": 6,
          "Displacement": 199,
          "Horsepower": 97,
          "Miles_per_Gallon": 18,
          "Name": "amc hornet",
          "Origin": "USA",
          "Weight_in_lbs": 2774,
          "Year": "1970-01-01T00:00:00"
         },
         {
          "Acceleration": 16,
          "Cylinders": 6,
          "Displacement": 200,
          "Horsepower": 85,
          "Miles_per_Gallon": 21,
          "Name": "ford maverick",
          "Origin": "USA",
          "Weight_in_lbs": 2587,
          "Year": "1970-01-01T00:00:00"
         },
         {
          "Acceleration": 14.5,
          "Cylinders": 4,
          "Displacement": 97,
          "Horsepower": 88,
          "Miles_per_Gallon": 27,
          "Name": "datsun pl510",
          "Origin": "Japan",
          "Weight_in_lbs": 2130,
          "Year": "1970-01-01T00:00:00"
         },
         {
          "Acceleration": 20.5,
          "Cylinders": 4,
          "Displacement": 97,
          "Horsepower": 46,
          "Miles_per_Gallon": 26,
          "Name": "volkswagen 1131 deluxe sedan",
          "Origin": "Europe",
          "Weight_in_lbs": 1835,
          "Year": "1970-01-01T00:00:00"
         },
         {
          "Acceleration": 17.5,
          "Cylinders": 4,
          "Displacement": 110,
          "Horsepower": 87,
          "Miles_per_Gallon": 25,
          "Name": "peugeot 504",
          "Origin": "Europe",
          "Weight_in_lbs": 2672,
          "Year": "1970-01-01T00:00:00"
         },
         {
          "Acceleration": 14.5,
          "Cylinders": 4,
          "Displacement": 107,
          "Horsepower": 90,
          "Miles_per_Gallon": 24,
          "Name": "audi 100 ls",
          "Origin": "Europe",
          "Weight_in_lbs": 2430,
          "Year": "1970-01-01T00:00:00"
         },
         {
          "Acceleration": 17.5,
          "Cylinders": 4,
          "Displacement": 104,
          "Horsepower": 95,
          "Miles_per_Gallon": 25,
          "Name": "saab 99e",
          "Origin": "Europe",
          "Weight_in_lbs": 2375,
          "Year": "1970-01-01T00:00:00"
         },
         {
          "Acceleration": 12.5,
          "Cylinders": 4,
          "Displacement": 121,
          "Horsepower": 113,
          "Miles_per_Gallon": 26,
          "Name": "bmw 2002",
          "Origin": "Europe",
          "Weight_in_lbs": 2234,
          "Year": "1970-01-01T00:00:00"
         },
         {
          "Acceleration": 15,
          "Cylinders": 6,
          "Displacement": 199,
          "Horsepower": 90,
          "Miles_per_Gallon": 21,
          "Name": "amc gremlin",
          "Origin": "USA",
          "Weight_in_lbs": 2648,
          "Year": "1970-01-01T00:00:00"
         },
         {
          "Acceleration": 14,
          "Cylinders": 8,
          "Displacement": 360,
          "Horsepower": 215,
          "Miles_per_Gallon": 10,
          "Name": "ford f250",
          "Origin": "USA",
          "Weight_in_lbs": 4615,
          "Year": "1970-01-01T00:00:00"
         },
         {
          "Acceleration": 15,
          "Cylinders": 8,
          "Displacement": 307,
          "Horsepower": 200,
          "Miles_per_Gallon": 10,
          "Name": "chevy c20",
          "Origin": "USA",
          "Weight_in_lbs": 4376,
          "Year": "1970-01-01T00:00:00"
         },
         {
          "Acceleration": 13.5,
          "Cylinders": 8,
          "Displacement": 318,
          "Horsepower": 210,
          "Miles_per_Gallon": 11,
          "Name": "dodge d200",
          "Origin": "USA",
          "Weight_in_lbs": 4382,
          "Year": "1970-01-01T00:00:00"
         },
         {
          "Acceleration": 18.5,
          "Cylinders": 8,
          "Displacement": 304,
          "Horsepower": 193,
          "Miles_per_Gallon": 9,
          "Name": "hi 1200d",
          "Origin": "USA",
          "Weight_in_lbs": 4732,
          "Year": "1970-01-01T00:00:00"
         },
         {
          "Acceleration": 14.5,
          "Cylinders": 4,
          "Displacement": 97,
          "Horsepower": 88,
          "Miles_per_Gallon": 27,
          "Name": "datsun pl510",
          "Origin": "Japan",
          "Weight_in_lbs": 2130,
          "Year": "1971-01-01T00:00:00"
         },
         {
          "Acceleration": 15.5,
          "Cylinders": 4,
          "Displacement": 140,
          "Horsepower": 90,
          "Miles_per_Gallon": 28,
          "Name": "chevrolet vega 2300",
          "Origin": "USA",
          "Weight_in_lbs": 2264,
          "Year": "1971-01-01T00:00:00"
         },
         {
          "Acceleration": 14,
          "Cylinders": 4,
          "Displacement": 113,
          "Horsepower": 95,
          "Miles_per_Gallon": 25,
          "Name": "toyota corona",
          "Origin": "Japan",
          "Weight_in_lbs": 2228,
          "Year": "1971-01-01T00:00:00"
         },
         {
          "Acceleration": 19,
          "Cylinders": 4,
          "Displacement": 98,
          "Horsepower": null,
          "Miles_per_Gallon": 25,
          "Name": "ford pinto",
          "Origin": "USA",
          "Weight_in_lbs": 2046,
          "Year": "1971-01-01T00:00:00"
         },
         {
          "Acceleration": 20,
          "Cylinders": 4,
          "Displacement": 97,
          "Horsepower": 48,
          "Miles_per_Gallon": null,
          "Name": "volkswagen super beetle 117",
          "Origin": "Europe",
          "Weight_in_lbs": 1978,
          "Year": "1971-01-01T00:00:00"
         },
         {
          "Acceleration": 13,
          "Cylinders": 6,
          "Displacement": 232,
          "Horsepower": 100,
          "Miles_per_Gallon": 19,
          "Name": "amc gremlin",
          "Origin": "USA",
          "Weight_in_lbs": 2634,
          "Year": "1971-01-01T00:00:00"
         },
         {
          "Acceleration": 15.5,
          "Cylinders": 6,
          "Displacement": 225,
          "Horsepower": 105,
          "Miles_per_Gallon": 16,
          "Name": "plymouth satellite custom",
          "Origin": "USA",
          "Weight_in_lbs": 3439,
          "Year": "1971-01-01T00:00:00"
         },
         {
          "Acceleration": 15.5,
          "Cylinders": 6,
          "Displacement": 250,
          "Horsepower": 100,
          "Miles_per_Gallon": 17,
          "Name": "chevrolet chevelle malibu",
          "Origin": "USA",
          "Weight_in_lbs": 3329,
          "Year": "1971-01-01T00:00:00"
         },
         {
          "Acceleration": 15.5,
          "Cylinders": 6,
          "Displacement": 250,
          "Horsepower": 88,
          "Miles_per_Gallon": 19,
          "Name": "ford torino 500",
          "Origin": "USA",
          "Weight_in_lbs": 3302,
          "Year": "1971-01-01T00:00:00"
         },
         {
          "Acceleration": 15.5,
          "Cylinders": 6,
          "Displacement": 232,
          "Horsepower": 100,
          "Miles_per_Gallon": 18,
          "Name": "amc matador",
          "Origin": "USA",
          "Weight_in_lbs": 3288,
          "Year": "1971-01-01T00:00:00"
         },
         {
          "Acceleration": 12,
          "Cylinders": 8,
          "Displacement": 350,
          "Horsepower": 165,
          "Miles_per_Gallon": 14,
          "Name": "chevrolet impala",
          "Origin": "USA",
          "Weight_in_lbs": 4209,
          "Year": "1971-01-01T00:00:00"
         },
         {
          "Acceleration": 11.5,
          "Cylinders": 8,
          "Displacement": 400,
          "Horsepower": 175,
          "Miles_per_Gallon": 14,
          "Name": "pontiac catalina brougham",
          "Origin": "USA",
          "Weight_in_lbs": 4464,
          "Year": "1971-01-01T00:00:00"
         },
         {
          "Acceleration": 13.5,
          "Cylinders": 8,
          "Displacement": 351,
          "Horsepower": 153,
          "Miles_per_Gallon": 14,
          "Name": "ford galaxie 500",
          "Origin": "USA",
          "Weight_in_lbs": 4154,
          "Year": "1971-01-01T00:00:00"
         },
         {
          "Acceleration": 13,
          "Cylinders": 8,
          "Displacement": 318,
          "Horsepower": 150,
          "Miles_per_Gallon": 14,
          "Name": "plymouth fury iii",
          "Origin": "USA",
          "Weight_in_lbs": 4096,
          "Year": "1971-01-01T00:00:00"
         },
         {
          "Acceleration": 11.5,
          "Cylinders": 8,
          "Displacement": 383,
          "Horsepower": 180,
          "Miles_per_Gallon": 12,
          "Name": "dodge monaco (sw)",
          "Origin": "USA",
          "Weight_in_lbs": 4955,
          "Year": "1971-01-01T00:00:00"
         },
         {
          "Acceleration": 12,
          "Cylinders": 8,
          "Displacement": 400,
          "Horsepower": 170,
          "Miles_per_Gallon": 13,
          "Name": "ford country squire (sw)",
          "Origin": "USA",
          "Weight_in_lbs": 4746,
          "Year": "1971-01-01T00:00:00"
         },
         {
          "Acceleration": 12,
          "Cylinders": 8,
          "Displacement": 400,
          "Horsepower": 175,
          "Miles_per_Gallon": 13,
          "Name": "pontiac safari (sw)",
          "Origin": "USA",
          "Weight_in_lbs": 5140,
          "Year": "1971-01-01T00:00:00"
         },
         {
          "Acceleration": 13.5,
          "Cylinders": 6,
          "Displacement": 258,
          "Horsepower": 110,
          "Miles_per_Gallon": 18,
          "Name": "amc hornet sportabout (sw)",
          "Origin": "USA",
          "Weight_in_lbs": 2962,
          "Year": "1971-01-01T00:00:00"
         },
         {
          "Acceleration": 19,
          "Cylinders": 4,
          "Displacement": 140,
          "Horsepower": 72,
          "Miles_per_Gallon": 22,
          "Name": "chevrolet vega (sw)",
          "Origin": "USA",
          "Weight_in_lbs": 2408,
          "Year": "1971-01-01T00:00:00"
         },
         {
          "Acceleration": 15,
          "Cylinders": 6,
          "Displacement": 250,
          "Horsepower": 100,
          "Miles_per_Gallon": 19,
          "Name": "pontiac firebird",
          "Origin": "USA",
          "Weight_in_lbs": 3282,
          "Year": "1971-01-01T00:00:00"
         },
         {
          "Acceleration": 14.5,
          "Cylinders": 6,
          "Displacement": 250,
          "Horsepower": 88,
          "Miles_per_Gallon": 18,
          "Name": "ford mustang",
          "Origin": "USA",
          "Weight_in_lbs": 3139,
          "Year": "1971-01-01T00:00:00"
         },
         {
          "Acceleration": 14,
          "Cylinders": 4,
          "Displacement": 122,
          "Horsepower": 86,
          "Miles_per_Gallon": 23,
          "Name": "mercury capri 2000",
          "Origin": "USA",
          "Weight_in_lbs": 2220,
          "Year": "1971-01-01T00:00:00"
         },
         {
          "Acceleration": 14,
          "Cylinders": 4,
          "Displacement": 116,
          "Horsepower": 90,
          "Miles_per_Gallon": 28,
          "Name": "opel 1900",
          "Origin": "Europe",
          "Weight_in_lbs": 2123,
          "Year": "1971-01-01T00:00:00"
         },
         {
          "Acceleration": 19.5,
          "Cylinders": 4,
          "Displacement": 79,
          "Horsepower": 70,
          "Miles_per_Gallon": 30,
          "Name": "peugeot 304",
          "Origin": "Europe",
          "Weight_in_lbs": 2074,
          "Year": "1971-01-01T00:00:00"
         },
         {
          "Acceleration": 14.5,
          "Cylinders": 4,
          "Displacement": 88,
          "Horsepower": 76,
          "Miles_per_Gallon": 30,
          "Name": "fiat 124b",
          "Origin": "Europe",
          "Weight_in_lbs": 2065,
          "Year": "1971-01-01T00:00:00"
         },
         {
          "Acceleration": 19,
          "Cylinders": 4,
          "Displacement": 71,
          "Horsepower": 65,
          "Miles_per_Gallon": 31,
          "Name": "toyota corolla 1200",
          "Origin": "Japan",
          "Weight_in_lbs": 1773,
          "Year": "1971-01-01T00:00:00"
         },
         {
          "Acceleration": 18,
          "Cylinders": 4,
          "Displacement": 72,
          "Horsepower": 69,
          "Miles_per_Gallon": 35,
          "Name": "datsun 1200",
          "Origin": "Japan",
          "Weight_in_lbs": 1613,
          "Year": "1971-01-01T00:00:00"
         },
         {
          "Acceleration": 19,
          "Cylinders": 4,
          "Displacement": 97,
          "Horsepower": 60,
          "Miles_per_Gallon": 27,
          "Name": "volkswagen model 111",
          "Origin": "Europe",
          "Weight_in_lbs": 1834,
          "Year": "1971-01-01T00:00:00"
         },
         {
          "Acceleration": 20.5,
          "Cylinders": 4,
          "Displacement": 91,
          "Horsepower": 70,
          "Miles_per_Gallon": 26,
          "Name": "plymouth cricket",
          "Origin": "USA",
          "Weight_in_lbs": 1955,
          "Year": "1971-01-01T00:00:00"
         },
         {
          "Acceleration": 15.5,
          "Cylinders": 4,
          "Displacement": 113,
          "Horsepower": 95,
          "Miles_per_Gallon": 24,
          "Name": "toyota corona hardtop",
          "Origin": "Japan",
          "Weight_in_lbs": 2278,
          "Year": "1972-01-01T00:00:00"
         },
         {
          "Acceleration": 17,
          "Cylinders": 4,
          "Displacement": 97.5,
          "Horsepower": 80,
          "Miles_per_Gallon": 25,
          "Name": "dodge colt hardtop",
          "Origin": "USA",
          "Weight_in_lbs": 2126,
          "Year": "1972-01-01T00:00:00"
         },
         {
          "Acceleration": 23.5,
          "Cylinders": 4,
          "Displacement": 97,
          "Horsepower": 54,
          "Miles_per_Gallon": 23,
          "Name": "volkswagen type 3",
          "Origin": "Europe",
          "Weight_in_lbs": 2254,
          "Year": "1972-01-01T00:00:00"
         },
         {
          "Acceleration": 19.5,
          "Cylinders": 4,
          "Displacement": 140,
          "Horsepower": 90,
          "Miles_per_Gallon": 20,
          "Name": "chevrolet vega",
          "Origin": "USA",
          "Weight_in_lbs": 2408,
          "Year": "1972-01-01T00:00:00"
         },
         {
          "Acceleration": 16.5,
          "Cylinders": 4,
          "Displacement": 122,
          "Horsepower": 86,
          "Miles_per_Gallon": 21,
          "Name": "ford pinto runabout",
          "Origin": "USA",
          "Weight_in_lbs": 2226,
          "Year": "1972-01-01T00:00:00"
         },
         {
          "Acceleration": 12,
          "Cylinders": 8,
          "Displacement": 350,
          "Horsepower": 165,
          "Miles_per_Gallon": 13,
          "Name": "chevrolet impala",
          "Origin": "USA",
          "Weight_in_lbs": 4274,
          "Year": "1972-01-01T00:00:00"
         },
         {
          "Acceleration": 12,
          "Cylinders": 8,
          "Displacement": 400,
          "Horsepower": 175,
          "Miles_per_Gallon": 14,
          "Name": "pontiac catalina",
          "Origin": "USA",
          "Weight_in_lbs": 4385,
          "Year": "1972-01-01T00:00:00"
         },
         {
          "Acceleration": 13.5,
          "Cylinders": 8,
          "Displacement": 318,
          "Horsepower": 150,
          "Miles_per_Gallon": 15,
          "Name": "plymouth fury iii",
          "Origin": "USA",
          "Weight_in_lbs": 4135,
          "Year": "1972-01-01T00:00:00"
         },
         {
          "Acceleration": 13,
          "Cylinders": 8,
          "Displacement": 351,
          "Horsepower": 153,
          "Miles_per_Gallon": 14,
          "Name": "ford galaxie 500",
          "Origin": "USA",
          "Weight_in_lbs": 4129,
          "Year": "1972-01-01T00:00:00"
         },
         {
          "Acceleration": 11.5,
          "Cylinders": 8,
          "Displacement": 304,
          "Horsepower": 150,
          "Miles_per_Gallon": 17,
          "Name": "amc ambassador sst",
          "Origin": "USA",
          "Weight_in_lbs": 3672,
          "Year": "1972-01-01T00:00:00"
         },
         {
          "Acceleration": 11,
          "Cylinders": 8,
          "Displacement": 429,
          "Horsepower": 208,
          "Miles_per_Gallon": 11,
          "Name": "mercury marquis",
          "Origin": "USA",
          "Weight_in_lbs": 4633,
          "Year": "1972-01-01T00:00:00"
         },
         {
          "Acceleration": 13.5,
          "Cylinders": 8,
          "Displacement": 350,
          "Horsepower": 155,
          "Miles_per_Gallon": 13,
          "Name": "buick lesabre custom",
          "Origin": "USA",
          "Weight_in_lbs": 4502,
          "Year": "1972-01-01T00:00:00"
         },
         {
          "Acceleration": 13.5,
          "Cylinders": 8,
          "Displacement": 350,
          "Horsepower": 160,
          "Miles_per_Gallon": 12,
          "Name": "oldsmobile delta 88 royale",
          "Origin": "USA",
          "Weight_in_lbs": 4456,
          "Year": "1972-01-01T00:00:00"
         },
         {
          "Acceleration": 12.5,
          "Cylinders": 8,
          "Displacement": 400,
          "Horsepower": 190,
          "Miles_per_Gallon": 13,
          "Name": "chrysler newport royal",
          "Origin": "USA",
          "Weight_in_lbs": 4422,
          "Year": "1972-01-01T00:00:00"
         },
         {
          "Acceleration": 13.5,
          "Cylinders": 3,
          "Displacement": 70,
          "Horsepower": 97,
          "Miles_per_Gallon": 19,
          "Name": "mazda rx2 coupe",
          "Origin": "Japan",
          "Weight_in_lbs": 2330,
          "Year": "1972-01-01T00:00:00"
         },
         {
          "Acceleration": 12.5,
          "Cylinders": 8,
          "Displacement": 304,
          "Horsepower": 150,
          "Miles_per_Gallon": 15,
          "Name": "amc matador (sw)",
          "Origin": "USA",
          "Weight_in_lbs": 3892,
          "Year": "1972-01-01T00:00:00"
         },
         {
          "Acceleration": 14,
          "Cylinders": 8,
          "Displacement": 307,
          "Horsepower": 130,
          "Miles_per_Gallon": 13,
          "Name": "chevrolet chevelle concours (sw)",
          "Origin": "USA",
          "Weight_in_lbs": 4098,
          "Year": "1972-01-01T00:00:00"
         },
         {
          "Acceleration": 16,
          "Cylinders": 8,
          "Displacement": 302,
          "Horsepower": 140,
          "Miles_per_Gallon": 13,
          "Name": "ford gran torino (sw)",
          "Origin": "USA",
          "Weight_in_lbs": 4294,
          "Year": "1972-01-01T00:00:00"
         },
         {
          "Acceleration": 14,
          "Cylinders": 8,
          "Displacement": 318,
          "Horsepower": 150,
          "Miles_per_Gallon": 14,
          "Name": "plymouth satellite custom (sw)",
          "Origin": "USA",
          "Weight_in_lbs": 4077,
          "Year": "1972-01-01T00:00:00"
         },
         {
          "Acceleration": 14.5,
          "Cylinders": 4,
          "Displacement": 121,
          "Horsepower": 112,
          "Miles_per_Gallon": 18,
          "Name": "volvo 145e (sw)",
          "Origin": "Europe",
          "Weight_in_lbs": 2933,
          "Year": "1972-01-01T00:00:00"
         },
         {
          "Acceleration": 18,
          "Cylinders": 4,
          "Displacement": 121,
          "Horsepower": 76,
          "Miles_per_Gallon": 22,
          "Name": "volkswagen 411 (sw)",
          "Origin": "Europe",
          "Weight_in_lbs": 2511,
          "Year": "1972-01-01T00:00:00"
         },
         {
          "Acceleration": 19.5,
          "Cylinders": 4,
          "Displacement": 120,
          "Horsepower": 87,
          "Miles_per_Gallon": 21,
          "Name": "peugeot 504 (sw)",
          "Origin": "Europe",
          "Weight_in_lbs": 2979,
          "Year": "1972-01-01T00:00:00"
         },
         {
          "Acceleration": 18,
          "Cylinders": 4,
          "Displacement": 96,
          "Horsepower": 69,
          "Miles_per_Gallon": 26,
          "Name": "renault 12 (sw)",
          "Origin": "Europe",
          "Weight_in_lbs": 2189,
          "Year": "1972-01-01T00:00:00"
         },
         {
          "Acceleration": 16,
          "Cylinders": 4,
          "Displacement": 122,
          "Horsepower": 86,
          "Miles_per_Gallon": 22,
          "Name": "ford pinto (sw)",
          "Origin": "USA",
          "Weight_in_lbs": 2395,
          "Year": "1972-01-01T00:00:00"
         },
         {
          "Acceleration": 17,
          "Cylinders": 4,
          "Displacement": 97,
          "Horsepower": 92,
          "Miles_per_Gallon": 28,
          "Name": "datsun 510 (sw)",
          "Origin": "Japan",
          "Weight_in_lbs": 2288,
          "Year": "1972-01-01T00:00:00"
         },
         {
          "Acceleration": 14.5,
          "Cylinders": 4,
          "Displacement": 120,
          "Horsepower": 97,
          "Miles_per_Gallon": 23,
          "Name": "toyouta corona mark ii (sw)",
          "Origin": "Japan",
          "Weight_in_lbs": 2506,
          "Year": "1972-01-01T00:00:00"
         },
         {
          "Acceleration": 15,
          "Cylinders": 4,
          "Displacement": 98,
          "Horsepower": 80,
          "Miles_per_Gallon": 28,
          "Name": "dodge colt (sw)",
          "Origin": "USA",
          "Weight_in_lbs": 2164,
          "Year": "1972-01-01T00:00:00"
         },
         {
          "Acceleration": 16.5,
          "Cylinders": 4,
          "Displacement": 97,
          "Horsepower": 88,
          "Miles_per_Gallon": 27,
          "Name": "toyota corolla 1600 (sw)",
          "Origin": "Japan",
          "Weight_in_lbs": 2100,
          "Year": "1972-01-01T00:00:00"
         },
         {
          "Acceleration": 13,
          "Cylinders": 8,
          "Displacement": 350,
          "Horsepower": 175,
          "Miles_per_Gallon": 13,
          "Name": "buick century 350",
          "Origin": "USA",
          "Weight_in_lbs": 4100,
          "Year": "1973-01-01T00:00:00"
         },
         {
          "Acceleration": 11.5,
          "Cylinders": 8,
          "Displacement": 304,
          "Horsepower": 150,
          "Miles_per_Gallon": 14,
          "Name": "amc matador",
          "Origin": "USA",
          "Weight_in_lbs": 3672,
          "Year": "1973-01-01T00:00:00"
         },
         {
          "Acceleration": 13,
          "Cylinders": 8,
          "Displacement": 350,
          "Horsepower": 145,
          "Miles_per_Gallon": 13,
          "Name": "chevrolet malibu",
          "Origin": "USA",
          "Weight_in_lbs": 3988,
          "Year": "1973-01-01T00:00:00"
         },
         {
          "Acceleration": 14.5,
          "Cylinders": 8,
          "Displacement": 302,
          "Horsepower": 137,
          "Miles_per_Gallon": 14,
          "Name": "ford gran torino",
          "Origin": "USA",
          "Weight_in_lbs": 4042,
          "Year": "1973-01-01T00:00:00"
         },
         {
          "Acceleration": 12.5,
          "Cylinders": 8,
          "Displacement": 318,
          "Horsepower": 150,
          "Miles_per_Gallon": 15,
          "Name": "dodge coronet custom",
          "Origin": "USA",
          "Weight_in_lbs": 3777,
          "Year": "1973-01-01T00:00:00"
         },
         {
          "Acceleration": 11.5,
          "Cylinders": 8,
          "Displacement": 429,
          "Horsepower": 198,
          "Miles_per_Gallon": 12,
          "Name": "mercury marquis brougham",
          "Origin": "USA",
          "Weight_in_lbs": 4952,
          "Year": "1973-01-01T00:00:00"
         },
         {
          "Acceleration": 12,
          "Cylinders": 8,
          "Displacement": 400,
          "Horsepower": 150,
          "Miles_per_Gallon": 13,
          "Name": "chevrolet caprice classic",
          "Origin": "USA",
          "Weight_in_lbs": 4464,
          "Year": "1973-01-01T00:00:00"
         },
         {
          "Acceleration": 13,
          "Cylinders": 8,
          "Displacement": 351,
          "Horsepower": 158,
          "Miles_per_Gallon": 13,
          "Name": "ford ltd",
          "Origin": "USA",
          "Weight_in_lbs": 4363,
          "Year": "1973-01-01T00:00:00"
         },
         {
          "Acceleration": 14.5,
          "Cylinders": 8,
          "Displacement": 318,
          "Horsepower": 150,
          "Miles_per_Gallon": 14,
          "Name": "plymouth fury gran sedan",
          "Origin": "USA",
          "Weight_in_lbs": 4237,
          "Year": "1973-01-01T00:00:00"
         },
         {
          "Acceleration": 11,
          "Cylinders": 8,
          "Displacement": 440,
          "Horsepower": 215,
          "Miles_per_Gallon": 13,
          "Name": "chrysler new yorker brougham",
          "Origin": "USA",
          "Weight_in_lbs": 4735,
          "Year": "1973-01-01T00:00:00"
         },
         {
          "Acceleration": 11,
          "Cylinders": 8,
          "Displacement": 455,
          "Horsepower": 225,
          "Miles_per_Gallon": 12,
          "Name": "buick electra 225 custom",
          "Origin": "USA",
          "Weight_in_lbs": 4951,
          "Year": "1973-01-01T00:00:00"
         },
         {
          "Acceleration": 11,
          "Cylinders": 8,
          "Displacement": 360,
          "Horsepower": 175,
          "Miles_per_Gallon": 13,
          "Name": "amc ambassador brougham",
          "Origin": "USA",
          "Weight_in_lbs": 3821,
          "Year": "1973-01-01T00:00:00"
         },
         {
          "Acceleration": 16.5,
          "Cylinders": 6,
          "Displacement": 225,
          "Horsepower": 105,
          "Miles_per_Gallon": 18,
          "Name": "plymouth valiant",
          "Origin": "USA",
          "Weight_in_lbs": 3121,
          "Year": "1973-01-01T00:00:00"
         },
         {
          "Acceleration": 18,
          "Cylinders": 6,
          "Displacement": 250,
          "Horsepower": 100,
          "Miles_per_Gallon": 16,
          "Name": "chevrolet nova custom",
          "Origin": "USA",
          "Weight_in_lbs": 3278,
          "Year": "1973-01-01T00:00:00"
         },
         {
          "Acceleration": 16,
          "Cylinders": 6,
          "Displacement": 232,
          "Horsepower": 100,
          "Miles_per_Gallon": 18,
          "Name": "amc hornet",
          "Origin": "USA",
          "Weight_in_lbs": 2945,
          "Year": "1973-01-01T00:00:00"
         },
         {
          "Acceleration": 16.5,
          "Cylinders": 6,
          "Displacement": 250,
          "Horsepower": 88,
          "Miles_per_Gallon": 18,
          "Name": "ford maverick",
          "Origin": "USA",
          "Weight_in_lbs": 3021,
          "Year": "1973-01-01T00:00:00"
         },
         {
          "Acceleration": 16,
          "Cylinders": 6,
          "Displacement": 198,
          "Horsepower": 95,
          "Miles_per_Gallon": 23,
          "Name": "plymouth duster",
          "Origin": "USA",
          "Weight_in_lbs": 2904,
          "Year": "1973-01-01T00:00:00"
         },
         {
          "Acceleration": 21,
          "Cylinders": 4,
          "Displacement": 97,
          "Horsepower": 46,
          "Miles_per_Gallon": 26,
          "Name": "volkswagen super beetle",
          "Origin": "Europe",
          "Weight_in_lbs": 1950,
          "Year": "1973-01-01T00:00:00"
         },
         {
          "Acceleration": 14,
          "Cylinders": 8,
          "Displacement": 400,
          "Horsepower": 150,
          "Miles_per_Gallon": 11,
          "Name": "chevrolet impala",
          "Origin": "USA",
          "Weight_in_lbs": 4997,
          "Year": "1973-01-01T00:00:00"
         },
         {
          "Acceleration": 12.5,
          "Cylinders": 8,
          "Displacement": 400,
          "Horsepower": 167,
          "Miles_per_Gallon": 12,
          "Name": "ford country",
          "Origin": "USA",
          "Weight_in_lbs": 4906,
          "Year": "1973-01-01T00:00:00"
         },
         {
          "Acceleration": 13,
          "Cylinders": 8,
          "Displacement": 360,
          "Horsepower": 170,
          "Miles_per_Gallon": 13,
          "Name": "plymouth custom suburb",
          "Origin": "USA",
          "Weight_in_lbs": 4654,
          "Year": "1973-01-01T00:00:00"
         },
         {
          "Acceleration": 12.5,
          "Cylinders": 8,
          "Displacement": 350,
          "Horsepower": 180,
          "Miles_per_Gallon": 12,
          "Name": "oldsmobile vista cruiser",
          "Origin": "USA",
          "Weight_in_lbs": 4499,
          "Year": "1973-01-01T00:00:00"
         },
         {
          "Acceleration": 15,
          "Cylinders": 6,
          "Displacement": 232,
          "Horsepower": 100,
          "Miles_per_Gallon": 18,
          "Name": "amc gremlin",
          "Origin": "USA",
          "Weight_in_lbs": 2789,
          "Year": "1973-01-01T00:00:00"
         },
         {
          "Acceleration": 19,
          "Cylinders": 4,
          "Displacement": 97,
          "Horsepower": 88,
          "Miles_per_Gallon": 20,
          "Name": "toyota carina",
          "Origin": "Japan",
          "Weight_in_lbs": 2279,
          "Year": "1973-01-01T00:00:00"
         },
         {
          "Acceleration": 19.5,
          "Cylinders": 4,
          "Displacement": 140,
          "Horsepower": 72,
          "Miles_per_Gallon": 21,
          "Name": "chevrolet vega",
          "Origin": "USA",
          "Weight_in_lbs": 2401,
          "Year": "1973-01-01T00:00:00"
         },
         {
          "Acceleration": 16.5,
          "Cylinders": 4,
          "Displacement": 108,
          "Horsepower": 94,
          "Miles_per_Gallon": 22,
          "Name": "datsun 610",
          "Origin": "Japan",
          "Weight_in_lbs": 2379,
          "Year": "1973-01-01T00:00:00"
         },
         {
          "Acceleration": 13.5,
          "Cylinders": 3,
          "Displacement": 70,
          "Horsepower": 90,
          "Miles_per_Gallon": 18,
          "Name": "maxda rx3",
          "Origin": "Japan",
          "Weight_in_lbs": 2124,
          "Year": "1973-01-01T00:00:00"
         },
         {
          "Acceleration": 18.5,
          "Cylinders": 4,
          "Displacement": 122,
          "Horsepower": 85,
          "Miles_per_Gallon": 19,
          "Name": "ford pinto",
          "Origin": "USA",
          "Weight_in_lbs": 2310,
          "Year": "1973-01-01T00:00:00"
         },
         {
          "Acceleration": 14,
          "Cylinders": 6,
          "Displacement": 155,
          "Horsepower": 107,
          "Miles_per_Gallon": 21,
          "Name": "mercury capri v6",
          "Origin": "USA",
          "Weight_in_lbs": 2472,
          "Year": "1973-01-01T00:00:00"
         },
         {
          "Acceleration": 15.5,
          "Cylinders": 4,
          "Displacement": 98,
          "Horsepower": 90,
          "Miles_per_Gallon": 26,
          "Name": "fiat 124 sport coupe",
          "Origin": "Europe",
          "Weight_in_lbs": 2265,
          "Year": "1973-01-01T00:00:00"
         },
         {
          "Acceleration": 13,
          "Cylinders": 8,
          "Displacement": 350,
          "Horsepower": 145,
          "Miles_per_Gallon": 15,
          "Name": "chevrolet monte carlo s",
          "Origin": "USA",
          "Weight_in_lbs": 4082,
          "Year": "1973-01-01T00:00:00"
         },
         {
          "Acceleration": 9.5,
          "Cylinders": 8,
          "Displacement": 400,
          "Horsepower": 230,
          "Miles_per_Gallon": 16,
          "Name": "pontiac grand prix",
          "Origin": "USA",
          "Weight_in_lbs": 4278,
          "Year": "1973-01-01T00:00:00"
         },
         {
          "Acceleration": 19.5,
          "Cylinders": 4,
          "Displacement": 68,
          "Horsepower": 49,
          "Miles_per_Gallon": 29,
          "Name": "fiat 128",
          "Origin": "Europe",
          "Weight_in_lbs": 1867,
          "Year": "1973-01-01T00:00:00"
         },
         {
          "Acceleration": 15.5,
          "Cylinders": 4,
          "Displacement": 116,
          "Horsepower": 75,
          "Miles_per_Gallon": 24,
          "Name": "opel manta",
          "Origin": "Europe",
          "Weight_in_lbs": 2158,
          "Year": "1973-01-01T00:00:00"
         },
         {
          "Acceleration": 14,
          "Cylinders": 4,
          "Displacement": 114,
          "Horsepower": 91,
          "Miles_per_Gallon": 20,
          "Name": "audi 100ls",
          "Origin": "Europe",
          "Weight_in_lbs": 2582,
          "Year": "1973-01-01T00:00:00"
         },
         {
          "Acceleration": 15.5,
          "Cylinders": 4,
          "Displacement": 121,
          "Horsepower": 112,
          "Miles_per_Gallon": 19,
          "Name": "volvo 144ea",
          "Origin": "Europe",
          "Weight_in_lbs": 2868,
          "Year": "1973-01-01T00:00:00"
         },
         {
          "Acceleration": 11,
          "Cylinders": 8,
          "Displacement": 318,
          "Horsepower": 150,
          "Miles_per_Gallon": 15,
          "Name": "dodge dart custom",
          "Origin": "USA",
          "Weight_in_lbs": 3399,
          "Year": "1973-01-01T00:00:00"
         },
         {
          "Acceleration": 14,
          "Cylinders": 4,
          "Displacement": 121,
          "Horsepower": 110,
          "Miles_per_Gallon": 24,
          "Name": "saab 99le",
          "Origin": "Europe",
          "Weight_in_lbs": 2660,
          "Year": "1973-01-01T00:00:00"
         },
         {
          "Acceleration": 13.5,
          "Cylinders": 6,
          "Displacement": 156,
          "Horsepower": 122,
          "Miles_per_Gallon": 20,
          "Name": "toyota mark ii",
          "Origin": "Japan",
          "Weight_in_lbs": 2807,
          "Year": "1973-01-01T00:00:00"
         },
         {
          "Acceleration": 11,
          "Cylinders": 8,
          "Displacement": 350,
          "Horsepower": 180,
          "Miles_per_Gallon": 11,
          "Name": "oldsmobile omega",
          "Origin": "USA",
          "Weight_in_lbs": 3664,
          "Year": "1973-01-01T00:00:00"
         },
         {
          "Acceleration": 16.5,
          "Cylinders": 6,
          "Displacement": 198,
          "Horsepower": 95,
          "Miles_per_Gallon": 20,
          "Name": "plymouth duster",
          "Origin": "USA",
          "Weight_in_lbs": 3102,
          "Year": "1974-01-01T00:00:00"
         },
         {
          "Acceleration": 17,
          "Cylinders": 6,
          "Displacement": 200,
          "Horsepower": null,
          "Miles_per_Gallon": 21,
          "Name": "ford maverick",
          "Origin": "USA",
          "Weight_in_lbs": 2875,
          "Year": "1974-01-01T00:00:00"
         },
         {
          "Acceleration": 16,
          "Cylinders": 6,
          "Displacement": 232,
          "Horsepower": 100,
          "Miles_per_Gallon": 19,
          "Name": "amc hornet",
          "Origin": "USA",
          "Weight_in_lbs": 2901,
          "Year": "1974-01-01T00:00:00"
         },
         {
          "Acceleration": 17,
          "Cylinders": 6,
          "Displacement": 250,
          "Horsepower": 100,
          "Miles_per_Gallon": 15,
          "Name": "chevrolet nova",
          "Origin": "USA",
          "Weight_in_lbs": 3336,
          "Year": "1974-01-01T00:00:00"
         },
         {
          "Acceleration": 19,
          "Cylinders": 4,
          "Displacement": 79,
          "Horsepower": 67,
          "Miles_per_Gallon": 31,
          "Name": "datsun b210",
          "Origin": "Japan",
          "Weight_in_lbs": 1950,
          "Year": "1974-01-01T00:00:00"
         },
         {
          "Acceleration": 16.5,
          "Cylinders": 4,
          "Displacement": 122,
          "Horsepower": 80,
          "Miles_per_Gallon": 26,
          "Name": "ford pinto",
          "Origin": "USA",
          "Weight_in_lbs": 2451,
          "Year": "1974-01-01T00:00:00"
         },
         {
          "Acceleration": 21,
          "Cylinders": 4,
          "Displacement": 71,
          "Horsepower": 65,
          "Miles_per_Gallon": 32,
          "Name": "toyota corolla 1200",
          "Origin": "Japan",
          "Weight_in_lbs": 1836,
          "Year": "1974-01-01T00:00:00"
         },
         {
          "Acceleration": 17,
          "Cylinders": 4,
          "Displacement": 140,
          "Horsepower": 75,
          "Miles_per_Gallon": 25,
          "Name": "chevrolet vega",
          "Origin": "USA",
          "Weight_in_lbs": 2542,
          "Year": "1974-01-01T00:00:00"
         },
         {
          "Acceleration": 17,
          "Cylinders": 6,
          "Displacement": 250,
          "Horsepower": 100,
          "Miles_per_Gallon": 16,
          "Name": "chevrolet chevelle malibu classic",
          "Origin": "USA",
          "Weight_in_lbs": 3781,
          "Year": "1974-01-01T00:00:00"
         },
         {
          "Acceleration": 18,
          "Cylinders": 6,
          "Displacement": 258,
          "Horsepower": 110,
          "Miles_per_Gallon": 16,
          "Name": "amc matador",
          "Origin": "USA",
          "Weight_in_lbs": 3632,
          "Year": "1974-01-01T00:00:00"
         },
         {
          "Acceleration": 16.5,
          "Cylinders": 6,
          "Displacement": 225,
          "Horsepower": 105,
          "Miles_per_Gallon": 18,
          "Name": "plymouth satellite sebring",
          "Origin": "USA",
          "Weight_in_lbs": 3613,
          "Year": "1974-01-01T00:00:00"
         },
         {
          "Acceleration": 14,
          "Cylinders": 8,
          "Displacement": 302,
          "Horsepower": 140,
          "Miles_per_Gallon": 16,
          "Name": "ford gran torino",
          "Origin": "USA",
          "Weight_in_lbs": 4141,
          "Year": "1974-01-01T00:00:00"
         },
         {
          "Acceleration": 14.5,
          "Cylinders": 8,
          "Displacement": 350,
          "Horsepower": 150,
          "Miles_per_Gallon": 13,
          "Name": "buick century luxus (sw)",
          "Origin": "USA",
          "Weight_in_lbs": 4699,
          "Year": "1974-01-01T00:00:00"
         },
         {
          "Acceleration": 13.5,
          "Cylinders": 8,
          "Displacement": 318,
          "Horsepower": 150,
          "Miles_per_Gallon": 14,
          "Name": "dodge coronet custom (sw)",
          "Origin": "USA",
          "Weight_in_lbs": 4457,
          "Year": "1974-01-01T00:00:00"
         },
         {
          "Acceleration": 16,
          "Cylinders": 8,
          "Displacement": 302,
          "Horsepower": 140,
          "Miles_per_Gallon": 14,
          "Name": "ford gran torino (sw)",
          "Origin": "USA",
          "Weight_in_lbs": 4638,
          "Year": "1974-01-01T00:00:00"
         },
         {
          "Acceleration": 15.5,
          "Cylinders": 8,
          "Displacement": 304,
          "Horsepower": 150,
          "Miles_per_Gallon": 14,
          "Name": "amc matador (sw)",
          "Origin": "USA",
          "Weight_in_lbs": 4257,
          "Year": "1974-01-01T00:00:00"
         },
         {
          "Acceleration": 16.5,
          "Cylinders": 4,
          "Displacement": 98,
          "Horsepower": 83,
          "Miles_per_Gallon": 29,
          "Name": "audi fox",
          "Origin": "Europe",
          "Weight_in_lbs": 2219,
          "Year": "1974-01-01T00:00:00"
         },
         {
          "Acceleration": 15.5,
          "Cylinders": 4,
          "Displacement": 79,
          "Horsepower": 67,
          "Miles_per_Gallon": 26,
          "Name": "volkswagen dasher",
          "Origin": "Europe",
          "Weight_in_lbs": 1963,
          "Year": "1974-01-01T00:00:00"
         },
         {
          "Acceleration": 14.5,
          "Cylinders": 4,
          "Displacement": 97,
          "Horsepower": 78,
          "Miles_per_Gallon": 26,
          "Name": "opel manta",
          "Origin": "Europe",
          "Weight_in_lbs": 2300,
          "Year": "1974-01-01T00:00:00"
         },
         {
          "Acceleration": 16.5,
          "Cylinders": 4,
          "Displacement": 76,
          "Horsepower": 52,
          "Miles_per_Gallon": 31,
          "Name": "toyota corona",
          "Origin": "Japan",
          "Weight_in_lbs": 1649,
          "Year": "1974-01-01T00:00:00"
         },
         {
          "Acceleration": 19,
          "Cylinders": 4,
          "Displacement": 83,
          "Horsepower": 61,
          "Miles_per_Gallon": 32,
          "Name": "datsun 710",
          "Origin": "Japan",
          "Weight_in_lbs": 2003,
          "Year": "1974-01-01T00:00:00"
         },
         {
          "Acceleration": 14.5,
          "Cylinders": 4,
          "Displacement": 90,
          "Horsepower": 75,
          "Miles_per_Gallon": 28,
          "Name": "dodge colt",
          "Origin": "USA",
          "Weight_in_lbs": 2125,
          "Year": "1974-01-01T00:00:00"
         },
         {
          "Acceleration": 15.5,
          "Cylinders": 4,
          "Displacement": 90,
          "Horsepower": 75,
          "Miles_per_Gallon": 24,
          "Name": "fiat 128",
          "Origin": "Europe",
          "Weight_in_lbs": 2108,
          "Year": "1974-01-01T00:00:00"
         },
         {
          "Acceleration": 14,
          "Cylinders": 4,
          "Displacement": 116,
          "Horsepower": 75,
          "Miles_per_Gallon": 26,
          "Name": "fiat 124 tc",
          "Origin": "Europe",
          "Weight_in_lbs": 2246,
          "Year": "1974-01-01T00:00:00"
         },
         {
          "Acceleration": 15,
          "Cylinders": 4,
          "Displacement": 120,
          "Horsepower": 97,
          "Miles_per_Gallon": 24,
          "Name": "honda civic",
          "Origin": "Japan",
          "Weight_in_lbs": 2489,
          "Year": "1974-01-01T00:00:00"
         },
         {
          "Acceleration": 15.5,
          "Cylinders": 4,
          "Displacement": 108,
          "Horsepower": 93,
          "Miles_per_Gallon": 26,
          "Name": "subaru",
          "Origin": "Japan",
          "Weight_in_lbs": 2391,
          "Year": "1974-01-01T00:00:00"
         },
         {
          "Acceleration": 16,
          "Cylinders": 4,
          "Displacement": 79,
          "Horsepower": 67,
          "Miles_per_Gallon": 31,
          "Name": "fiat x1.9",
          "Origin": "Europe",
          "Weight_in_lbs": 2000,
          "Year": "1974-01-01T00:00:00"
         },
         {
          "Acceleration": 16,
          "Cylinders": 6,
          "Displacement": 225,
          "Horsepower": 95,
          "Miles_per_Gallon": 19,
          "Name": "plymouth valiant custom",
          "Origin": "USA",
          "Weight_in_lbs": 3264,
          "Year": "1975-01-01T00:00:00"
         },
         {
          "Acceleration": 16,
          "Cylinders": 6,
          "Displacement": 250,
          "Horsepower": 105,
          "Miles_per_Gallon": 18,
          "Name": "chevrolet nova",
          "Origin": "USA",
          "Weight_in_lbs": 3459,
          "Year": "1975-01-01T00:00:00"
         },
         {
          "Acceleration": 21,
          "Cylinders": 6,
          "Displacement": 250,
          "Horsepower": 72,
          "Miles_per_Gallon": 15,
          "Name": "mercury monarch",
          "Origin": "USA",
          "Weight_in_lbs": 3432,
          "Year": "1975-01-01T00:00:00"
         },
         {
          "Acceleration": 19.5,
          "Cylinders": 6,
          "Displacement": 250,
          "Horsepower": 72,
          "Miles_per_Gallon": 15,
          "Name": "ford maverick",
          "Origin": "USA",
          "Weight_in_lbs": 3158,
          "Year": "1975-01-01T00:00:00"
         },
         {
          "Acceleration": 11.5,
          "Cylinders": 8,
          "Displacement": 400,
          "Horsepower": 170,
          "Miles_per_Gallon": 16,
          "Name": "pontiac catalina",
          "Origin": "USA",
          "Weight_in_lbs": 4668,
          "Year": "1975-01-01T00:00:00"
         },
         {
          "Acceleration": 14,
          "Cylinders": 8,
          "Displacement": 350,
          "Horsepower": 145,
          "Miles_per_Gallon": 15,
          "Name": "chevrolet bel air",
          "Origin": "USA",
          "Weight_in_lbs": 4440,
          "Year": "1975-01-01T00:00:00"
         },
         {
          "Acceleration": 14.5,
          "Cylinders": 8,
          "Displacement": 318,
          "Horsepower": 150,
          "Miles_per_Gallon": 16,
          "Name": "plymouth grand fury",
          "Origin": "USA",
          "Weight_in_lbs": 4498,
          "Year": "1975-01-01T00:00:00"
         },
         {
          "Acceleration": 13.5,
          "Cylinders": 8,
          "Displacement": 351,
          "Horsepower": 148,
          "Miles_per_Gallon": 14,
          "Name": "ford ltd",
          "Origin": "USA",
          "Weight_in_lbs": 4657,
          "Year": "1975-01-01T00:00:00"
         },
         {
          "Acceleration": 21,
          "Cylinders": 6,
          "Displacement": 231,
          "Horsepower": 110,
          "Miles_per_Gallon": 17,
          "Name": "buick century",
          "Origin": "USA",
          "Weight_in_lbs": 3907,
          "Year": "1975-01-01T00:00:00"
         },
         {
          "Acceleration": 18.5,
          "Cylinders": 6,
          "Displacement": 250,
          "Horsepower": 105,
          "Miles_per_Gallon": 16,
          "Name": "chevroelt chevelle malibu",
          "Origin": "USA",
          "Weight_in_lbs": 3897,
          "Year": "1975-01-01T00:00:00"
         },
         {
          "Acceleration": 19,
          "Cylinders": 6,
          "Displacement": 258,
          "Horsepower": 110,
          "Miles_per_Gallon": 15,
          "Name": "amc matador",
          "Origin": "USA",
          "Weight_in_lbs": 3730,
          "Year": "1975-01-01T00:00:00"
         },
         {
          "Acceleration": 19,
          "Cylinders": 6,
          "Displacement": 225,
          "Horsepower": 95,
          "Miles_per_Gallon": 18,
          "Name": "plymouth fury",
          "Origin": "USA",
          "Weight_in_lbs": 3785,
          "Year": "1975-01-01T00:00:00"
         },
         {
          "Acceleration": 15,
          "Cylinders": 6,
          "Displacement": 231,
          "Horsepower": 110,
          "Miles_per_Gallon": 21,
          "Name": "buick skyhawk",
          "Origin": "USA",
          "Weight_in_lbs": 3039,
          "Year": "1975-01-01T00:00:00"
         },
         {
          "Acceleration": 13.5,
          "Cylinders": 8,
          "Displacement": 262,
          "Horsepower": 110,
          "Miles_per_Gallon": 20,
          "Name": "chevrolet monza 2+2",
          "Origin": "USA",
          "Weight_in_lbs": 3221,
          "Year": "1975-01-01T00:00:00"
         },
         {
          "Acceleration": 12,
          "Cylinders": 8,
          "Displacement": 302,
          "Horsepower": 129,
          "Miles_per_Gallon": 13,
          "Name": "ford mustang ii",
          "Origin": "USA",
          "Weight_in_lbs": 3169,
          "Year": "1975-01-01T00:00:00"
         },
         {
          "Acceleration": 16,
          "Cylinders": 4,
          "Displacement": 97,
          "Horsepower": 75,
          "Miles_per_Gallon": 29,
          "Name": "toyota corolla",
          "Origin": "Japan",
          "Weight_in_lbs": 2171,
          "Year": "1975-01-01T00:00:00"
         },
         {
          "Acceleration": 17,
          "Cylinders": 4,
          "Displacement": 140,
          "Horsepower": 83,
          "Miles_per_Gallon": 23,
          "Name": "ford pinto",
          "Origin": "USA",
          "Weight_in_lbs": 2639,
          "Year": "1975-01-01T00:00:00"
         },
         {
          "Acceleration": 16,
          "Cylinders": 6,
          "Displacement": 232,
          "Horsepower": 100,
          "Miles_per_Gallon": 20,
          "Name": "amc gremlin",
          "Origin": "USA",
          "Weight_in_lbs": 2914,
          "Year": "1975-01-01T00:00:00"
         },
         {
          "Acceleration": 18.5,
          "Cylinders": 4,
          "Displacement": 140,
          "Horsepower": 78,
          "Miles_per_Gallon": 23,
          "Name": "pontiac astro",
          "Origin": "USA",
          "Weight_in_lbs": 2592,
          "Year": "1975-01-01T00:00:00"
         },
         {
          "Acceleration": 13.5,
          "Cylinders": 4,
          "Displacement": 134,
          "Horsepower": 96,
          "Miles_per_Gallon": 24,
          "Name": "toyota corona",
          "Origin": "Japan",
          "Weight_in_lbs": 2702,
          "Year": "1975-01-01T00:00:00"
         },
         {
          "Acceleration": 16.5,
          "Cylinders": 4,
          "Displacement": 90,
          "Horsepower": 71,
          "Miles_per_Gallon": 25,
          "Name": "volkswagen dasher",
          "Origin": "Europe",
          "Weight_in_lbs": 2223,
          "Year": "1975-01-01T00:00:00"
         },
         {
          "Acceleration": 17,
          "Cylinders": 4,
          "Displacement": 119,
          "Horsepower": 97,
          "Miles_per_Gallon": 24,
          "Name": "datsun 710",
          "Origin": "Japan",
          "Weight_in_lbs": 2545,
          "Year": "1975-01-01T00:00:00"
         },
         {
          "Acceleration": 14.5,
          "Cylinders": 6,
          "Displacement": 171,
          "Horsepower": 97,
          "Miles_per_Gallon": 18,
          "Name": "ford pinto",
          "Origin": "USA",
          "Weight_in_lbs": 2984,
          "Year": "1975-01-01T00:00:00"
         },
         {
          "Acceleration": 14,
          "Cylinders": 4,
          "Displacement": 90,
          "Horsepower": 70,
          "Miles_per_Gallon": 29,
          "Name": "volkswagen rabbit",
          "Origin": "Europe",
          "Weight_in_lbs": 1937,
          "Year": "1975-01-01T00:00:00"
         },
         {
          "Acceleration": 17,
          "Cylinders": 6,
          "Displacement": 232,
          "Horsepower": 90,
          "Miles_per_Gallon": 19,
          "Name": "amc pacer",
          "Origin": "USA",
          "Weight_in_lbs": 3211,
          "Year": "1975-01-01T00:00:00"
         },
         {
          "Acceleration": 15,
          "Cylinders": 4,
          "Displacement": 115,
          "Horsepower": 95,
          "Miles_per_Gallon": 23,
          "Name": "audi 100ls",
          "Origin": "Europe",
          "Weight_in_lbs": 2694,
          "Year": "1975-01-01T00:00:00"
         },
         {
          "Acceleration": 17,
          "Cylinders": 4,
          "Displacement": 120,
          "Horsepower": 88,
          "Miles_per_Gallon": 23,
          "Name": "peugeot 504",
          "Origin": "Europe",
          "Weight_in_lbs": 2957,
          "Year": "1975-01-01T00:00:00"
         },
         {
          "Acceleration": 14.5,
          "Cylinders": 4,
          "Displacement": 121,
          "Horsepower": 98,
          "Miles_per_Gallon": 22,
          "Name": "volvo 244dl",
          "Origin": "Europe",
          "Weight_in_lbs": 2945,
          "Year": "1975-01-01T00:00:00"
         },
         {
          "Acceleration": 13.5,
          "Cylinders": 4,
          "Displacement": 121,
          "Horsepower": 115,
          "Miles_per_Gallon": 25,
          "Name": "saab 99le",
          "Origin": "Europe",
          "Weight_in_lbs": 2671,
          "Year": "1975-01-01T00:00:00"
         },
         {
          "Acceleration": 17.5,
          "Cylinders": 4,
          "Displacement": 91,
          "Horsepower": 53,
          "Miles_per_Gallon": 33,
          "Name": "honda civic cvcc",
          "Origin": "Japan",
          "Weight_in_lbs": 1795,
          "Year": "1975-01-01T00:00:00"
         },
         {
          "Acceleration": 15.5,
          "Cylinders": 4,
          "Displacement": 107,
          "Horsepower": 86,
          "Miles_per_Gallon": 28,
          "Name": "fiat 131",
          "Origin": "Europe",
          "Weight_in_lbs": 2464,
          "Year": "1976-01-01T00:00:00"
         },
         {
          "Acceleration": 16.9,
          "Cylinders": 4,
          "Displacement": 116,
          "Horsepower": 81,
          "Miles_per_Gallon": 25,
          "Name": "opel 1900",
          "Origin": "Europe",
          "Weight_in_lbs": 2220,
          "Year": "1976-01-01T00:00:00"
         },
         {
          "Acceleration": 14.9,
          "Cylinders": 4,
          "Displacement": 140,
          "Horsepower": 92,
          "Miles_per_Gallon": 25,
          "Name": "capri ii",
          "Origin": "USA",
          "Weight_in_lbs": 2572,
          "Year": "1976-01-01T00:00:00"
         },
         {
          "Acceleration": 17.7,
          "Cylinders": 4,
          "Displacement": 98,
          "Horsepower": 79,
          "Miles_per_Gallon": 26,
          "Name": "dodge colt",
          "Origin": "USA",
          "Weight_in_lbs": 2255,
          "Year": "1976-01-01T00:00:00"
         },
         {
          "Acceleration": 15.3,
          "Cylinders": 4,
          "Displacement": 101,
          "Horsepower": 83,
          "Miles_per_Gallon": 27,
          "Name": "renault 12tl",
          "Origin": "Europe",
          "Weight_in_lbs": 2202,
          "Year": "1976-01-01T00:00:00"
         },
         {
          "Acceleration": 13,
          "Cylinders": 8,
          "Displacement": 305,
          "Horsepower": 140,
          "Miles_per_Gallon": 17.5,
          "Name": "chevrolet chevelle malibu classic",
          "Origin": "USA",
          "Weight_in_lbs": 4215,
          "Year": "1976-01-01T00:00:00"
         },
         {
          "Acceleration": 13,
          "Cylinders": 8,
          "Displacement": 318,
          "Horsepower": 150,
          "Miles_per_Gallon": 16,
          "Name": "dodge coronet brougham",
          "Origin": "USA",
          "Weight_in_lbs": 4190,
          "Year": "1976-01-01T00:00:00"
         },
         {
          "Acceleration": 13.9,
          "Cylinders": 8,
          "Displacement": 304,
          "Horsepower": 120,
          "Miles_per_Gallon": 15.5,
          "Name": "amc matador",
          "Origin": "USA",
          "Weight_in_lbs": 3962,
          "Year": "1976-01-01T00:00:00"
         },
         {
          "Acceleration": 12.8,
          "Cylinders": 8,
          "Displacement": 351,
          "Horsepower": 152,
          "Miles_per_Gallon": 14.5,
          "Name": "ford gran torino",
          "Origin": "USA",
          "Weight_in_lbs": 4215,
          "Year": "1976-01-01T00:00:00"
         },
         {
          "Acceleration": 15.4,
          "Cylinders": 6,
          "Displacement": 225,
          "Horsepower": 100,
          "Miles_per_Gallon": 22,
          "Name": "plymouth valiant",
          "Origin": "USA",
          "Weight_in_lbs": 3233,
          "Year": "1976-01-01T00:00:00"
         },
         {
          "Acceleration": 14.5,
          "Cylinders": 6,
          "Displacement": 250,
          "Horsepower": 105,
          "Miles_per_Gallon": 22,
          "Name": "chevrolet nova",
          "Origin": "USA",
          "Weight_in_lbs": 3353,
          "Year": "1976-01-01T00:00:00"
         },
         {
          "Acceleration": 17.6,
          "Cylinders": 6,
          "Displacement": 200,
          "Horsepower": 81,
          "Miles_per_Gallon": 24,
          "Name": "ford maverick",
          "Origin": "USA",
          "Weight_in_lbs": 3012,
          "Year": "1976-01-01T00:00:00"
         },
         {
          "Acceleration": 17.6,
          "Cylinders": 6,
          "Displacement": 232,
          "Horsepower": 90,
          "Miles_per_Gallon": 22.5,
          "Name": "amc hornet",
          "Origin": "USA",
          "Weight_in_lbs": 3085,
          "Year": "1976-01-01T00:00:00"
         },
         {
          "Acceleration": 22.2,
          "Cylinders": 4,
          "Displacement": 85,
          "Horsepower": 52,
          "Miles_per_Gallon": 29,
          "Name": "chevrolet chevette",
          "Origin": "USA",
          "Weight_in_lbs": 2035,
          "Year": "1976-01-01T00:00:00"
         },
         {
          "Acceleration": 22.1,
          "Cylinders": 4,
          "Displacement": 98,
          "Horsepower": 60,
          "Miles_per_Gallon": 24.5,
          "Name": "chevrolet woody",
          "Origin": "USA",
          "Weight_in_lbs": 2164,
          "Year": "1976-01-01T00:00:00"
         },
         {
          "Acceleration": 14.2,
          "Cylinders": 4,
          "Displacement": 90,
          "Horsepower": 70,
          "Miles_per_Gallon": 29,
          "Name": "vw rabbit",
          "Origin": "Europe",
          "Weight_in_lbs": 1937,
          "Year": "1976-01-01T00:00:00"
         },
         {
          "Acceleration": 17.4,
          "Cylinders": 4,
          "Displacement": 91,
          "Horsepower": 53,
          "Miles_per_Gallon": 33,
          "Name": "honda civic",
          "Origin": "Japan",
          "Weight_in_lbs": 1795,
          "Year": "1976-01-01T00:00:00"
         },
         {
          "Acceleration": 17.7,
          "Cylinders": 6,
          "Displacement": 225,
          "Horsepower": 100,
          "Miles_per_Gallon": 20,
          "Name": "dodge aspen se",
          "Origin": "USA",
          "Weight_in_lbs": 3651,
          "Year": "1976-01-01T00:00:00"
         },
         {
          "Acceleration": 21,
          "Cylinders": 6,
          "Displacement": 250,
          "Horsepower": 78,
          "Miles_per_Gallon": 18,
          "Name": "ford granada ghia",
          "Origin": "USA",
          "Weight_in_lbs": 3574,
          "Year": "1976-01-01T00:00:00"
         },
         {
          "Acceleration": 16.2,
          "Cylinders": 6,
          "Displacement": 250,
          "Horsepower": 110,
          "Miles_per_Gallon": 18.5,
          "Name": "pontiac ventura sj",
          "Origin": "USA",
          "Weight_in_lbs": 3645,
          "Year": "1976-01-01T00:00:00"
         },
         {
          "Acceleration": 17.8,
          "Cylinders": 6,
          "Displacement": 258,
          "Horsepower": 95,
          "Miles_per_Gallon": 17.5,
          "Name": "amc pacer d/l",
          "Origin": "USA",
          "Weight_in_lbs": 3193,
          "Year": "1976-01-01T00:00:00"
         },
         {
          "Acceleration": 12.2,
          "Cylinders": 4,
          "Displacement": 97,
          "Horsepower": 71,
          "Miles_per_Gallon": 29.5,
          "Name": "volkswagen rabbit",
          "Origin": "Europe",
          "Weight_in_lbs": 1825,
          "Year": "1976-01-01T00:00:00"
         },
         {
          "Acceleration": 17,
          "Cylinders": 4,
          "Displacement": 85,
          "Horsepower": 70,
          "Miles_per_Gallon": 32,
          "Name": "datsun b-210",
          "Origin": "Japan",
          "Weight_in_lbs": 1990,
          "Year": "1976-01-01T00:00:00"
         },
         {
          "Acceleration": 16.4,
          "Cylinders": 4,
          "Displacement": 97,
          "Horsepower": 75,
          "Miles_per_Gallon": 28,
          "Name": "toyota corolla",
          "Origin": "Japan",
          "Weight_in_lbs": 2155,
          "Year": "1976-01-01T00:00:00"
         },
         {
          "Acceleration": 13.6,
          "Cylinders": 4,
          "Displacement": 140,
          "Horsepower": 72,
          "Miles_per_Gallon": 26.5,
          "Name": "ford pinto",
          "Origin": "USA",
          "Weight_in_lbs": 2565,
          "Year": "1976-01-01T00:00:00"
         },
         {
          "Acceleration": 15.7,
          "Cylinders": 4,
          "Displacement": 130,
          "Horsepower": 102,
          "Miles_per_Gallon": 20,
          "Name": "volvo 245",
          "Origin": "Europe",
          "Weight_in_lbs": 3150,
          "Year": "1976-01-01T00:00:00"
         },
         {
          "Acceleration": 13.2,
          "Cylinders": 8,
          "Displacement": 318,
          "Horsepower": 150,
          "Miles_per_Gallon": 13,
          "Name": "plymouth volare premier v8",
          "Origin": "USA",
          "Weight_in_lbs": 3940,
          "Year": "1976-01-01T00:00:00"
         },
         {
          "Acceleration": 21.9,
          "Cylinders": 4,
          "Displacement": 120,
          "Horsepower": 88,
          "Miles_per_Gallon": 19,
          "Name": "peugeot 504",
          "Origin": "Europe",
          "Weight_in_lbs": 3270,
          "Year": "1976-01-01T00:00:00"
         },
         {
          "Acceleration": 15.5,
          "Cylinders": 6,
          "Displacement": 156,
          "Horsepower": 108,
          "Miles_per_Gallon": 19,
          "Name": "toyota mark ii",
          "Origin": "Japan",
          "Weight_in_lbs": 2930,
          "Year": "1976-01-01T00:00:00"
         },
         {
          "Acceleration": 16.7,
          "Cylinders": 6,
          "Displacement": 168,
          "Horsepower": 120,
          "Miles_per_Gallon": 16.5,
          "Name": "mercedes-benz 280s",
          "Origin": "Europe",
          "Weight_in_lbs": 3820,
          "Year": "1976-01-01T00:00:00"
         },
         {
          "Acceleration": 12.1,
          "Cylinders": 8,
          "Displacement": 350,
          "Horsepower": 180,
          "Miles_per_Gallon": 16.5,
          "Name": "cadillac seville",
          "Origin": "USA",
          "Weight_in_lbs": 4380,
          "Year": "1976-01-01T00:00:00"
         },
         {
          "Acceleration": 12,
          "Cylinders": 8,
          "Displacement": 350,
          "Horsepower": 145,
          "Miles_per_Gallon": 13,
          "Name": "chevy c10",
          "Origin": "USA",
          "Weight_in_lbs": 4055,
          "Year": "1976-01-01T00:00:00"
         },
         {
          "Acceleration": 15,
          "Cylinders": 8,
          "Displacement": 302,
          "Horsepower": 130,
          "Miles_per_Gallon": 13,
          "Name": "ford f108",
          "Origin": "USA",
          "Weight_in_lbs": 3870,
          "Year": "1976-01-01T00:00:00"
         },
         {
          "Acceleration": 14,
          "Cylinders": 8,
          "Displacement": 318,
          "Horsepower": 150,
          "Miles_per_Gallon": 13,
          "Name": "dodge d100",
          "Origin": "USA",
          "Weight_in_lbs": 3755,
          "Year": "1976-01-01T00:00:00"
         },
         {
          "Acceleration": 18.5,
          "Cylinders": 4,
          "Displacement": 98,
          "Horsepower": 68,
          "Miles_per_Gallon": 31.5,
          "Name": "honda Accelerationord cvcc",
          "Origin": "Japan",
          "Weight_in_lbs": 2045,
          "Year": "1977-01-01T00:00:00"
         },
         {
          "Acceleration": 14.8,
          "Cylinders": 4,
          "Displacement": 111,
          "Horsepower": 80,
          "Miles_per_Gallon": 30,
          "Name": "buick opel isuzu deluxe",
          "Origin": "USA",
          "Weight_in_lbs": 2155,
          "Year": "1977-01-01T00:00:00"
         },
         {
          "Acceleration": 18.6,
          "Cylinders": 4,
          "Displacement": 79,
          "Horsepower": 58,
          "Miles_per_Gallon": 36,
          "Name": "renault 5 gtl",
          "Origin": "Europe",
          "Weight_in_lbs": 1825,
          "Year": "1977-01-01T00:00:00"
         },
         {
          "Acceleration": 15.5,
          "Cylinders": 4,
          "Displacement": 122,
          "Horsepower": 96,
          "Miles_per_Gallon": 25.5,
          "Name": "plymouth arrow gs",
          "Origin": "USA",
          "Weight_in_lbs": 2300,
          "Year": "1977-01-01T00:00:00"
         },
         {
          "Acceleration": 16.8,
          "Cylinders": 4,
          "Displacement": 85,
          "Horsepower": 70,
          "Miles_per_Gallon": 33.5,
          "Name": "datsun f-10 hatchback",
          "Origin": "Japan",
          "Weight_in_lbs": 1945,
          "Year": "1977-01-01T00:00:00"
         },
         {
          "Acceleration": 12.5,
          "Cylinders": 8,
          "Displacement": 305,
          "Horsepower": 145,
          "Miles_per_Gallon": 17.5,
          "Name": "chevrolet caprice classic",
          "Origin": "USA",
          "Weight_in_lbs": 3880,
          "Year": "1977-01-01T00:00:00"
         },
         {
          "Acceleration": 19,
          "Cylinders": 8,
          "Displacement": 260,
          "Horsepower": 110,
          "Miles_per_Gallon": 17,
          "Name": "oldsmobile cutlass supreme",
          "Origin": "USA",
          "Weight_in_lbs": 4060,
          "Year": "1977-01-01T00:00:00"
         },
         {
          "Acceleration": 13.7,
          "Cylinders": 8,
          "Displacement": 318,
          "Horsepower": 145,
          "Miles_per_Gallon": 15.5,
          "Name": "dodge monaco brougham",
          "Origin": "USA",
          "Weight_in_lbs": 4140,
          "Year": "1977-01-01T00:00:00"
         },
         {
          "Acceleration": 14.9,
          "Cylinders": 8,
          "Displacement": 302,
          "Horsepower": 130,
          "Miles_per_Gallon": 15,
          "Name": "mercury cougar brougham",
          "Origin": "USA",
          "Weight_in_lbs": 4295,
          "Year": "1977-01-01T00:00:00"
         },
         {
          "Acceleration": 16.4,
          "Cylinders": 6,
          "Displacement": 250,
          "Horsepower": 110,
          "Miles_per_Gallon": 17.5,
          "Name": "chevrolet concours",
          "Origin": "USA",
          "Weight_in_lbs": 3520,
          "Year": "1977-01-01T00:00:00"
         },
         {
          "Acceleration": 16.9,
          "Cylinders": 6,
          "Displacement": 231,
          "Horsepower": 105,
          "Miles_per_Gallon": 20.5,
          "Name": "buick skylark",
          "Origin": "USA",
          "Weight_in_lbs": 3425,
          "Year": "1977-01-01T00:00:00"
         },
         {
          "Acceleration": 17.7,
          "Cylinders": 6,
          "Displacement": 225,
          "Horsepower": 100,
          "Miles_per_Gallon": 19,
          "Name": "plymouth volare custom",
          "Origin": "USA",
          "Weight_in_lbs": 3630,
          "Year": "1977-01-01T00:00:00"
         },
         {
          "Acceleration": 19,
          "Cylinders": 6,
          "Displacement": 250,
          "Horsepower": 98,
          "Miles_per_Gallon": 18.5,
          "Name": "ford granada",
          "Origin": "USA",
          "Weight_in_lbs": 3525,
          "Year": "1977-01-01T00:00:00"
         },
         {
          "Acceleration": 11.1,
          "Cylinders": 8,
          "Displacement": 400,
          "Horsepower": 180,
          "Miles_per_Gallon": 16,
          "Name": "pontiac grand prix lj",
          "Origin": "USA",
          "Weight_in_lbs": 4220,
          "Year": "1977-01-01T00:00:00"
         },
         {
          "Acceleration": 11.4,
          "Cylinders": 8,
          "Displacement": 350,
          "Horsepower": 170,
          "Miles_per_Gallon": 15.5,
          "Name": "chevrolet monte carlo landau",
          "Origin": "USA",
          "Weight_in_lbs": 4165,
          "Year": "1977-01-01T00:00:00"
         },
         {
          "Acceleration": 12.2,
          "Cylinders": 8,
          "Displacement": 400,
          "Horsepower": 190,
          "Miles_per_Gallon": 15.5,
          "Name": "chrysler cordoba",
          "Origin": "USA",
          "Weight_in_lbs": 4325,
          "Year": "1977-01-01T00:00:00"
         },
         {
          "Acceleration": 14.5,
          "Cylinders": 8,
          "Displacement": 351,
          "Horsepower": 149,
          "Miles_per_Gallon": 16,
          "Name": "ford thunderbird",
          "Origin": "USA",
          "Weight_in_lbs": 4335,
          "Year": "1977-01-01T00:00:00"
         },
         {
          "Acceleration": 14.5,
          "Cylinders": 4,
          "Displacement": 97,
          "Horsepower": 78,
          "Miles_per_Gallon": 29,
          "Name": "volkswagen rabbit custom",
          "Origin": "Europe",
          "Weight_in_lbs": 1940,
          "Year": "1977-01-01T00:00:00"
         },
         {
          "Acceleration": 16,
          "Cylinders": 4,
          "Displacement": 151,
          "Horsepower": 88,
          "Miles_per_Gallon": 24.5,
          "Name": "pontiac sunbird coupe",
          "Origin": "USA",
          "Weight_in_lbs": 2740,
          "Year": "1977-01-01T00:00:00"
         },
         {
          "Acceleration": 18.2,
          "Cylinders": 4,
          "Displacement": 97,
          "Horsepower": 75,
          "Miles_per_Gallon": 26,
          "Name": "toyota corolla liftback",
          "Origin": "Japan",
          "Weight_in_lbs": 2265,
          "Year": "1977-01-01T00:00:00"
         },
         {
          "Acceleration": 15.8,
          "Cylinders": 4,
          "Displacement": 140,
          "Horsepower": 89,
          "Miles_per_Gallon": 25.5,
          "Name": "ford mustang ii 2+2",
          "Origin": "USA",
          "Weight_in_lbs": 2755,
          "Year": "1977-01-01T00:00:00"
         },
         {
          "Acceleration": 17,
          "Cylinders": 4,
          "Displacement": 98,
          "Horsepower": 63,
          "Miles_per_Gallon": 30.5,
          "Name": "chevrolet chevette",
          "Origin": "USA",
          "Weight_in_lbs": 2051,
          "Year": "1977-01-01T00:00:00"
         },
         {
          "Acceleration": 15.9,
          "Cylinders": 4,
          "Displacement": 98,
          "Horsepower": 83,
          "Miles_per_Gallon": 33.5,
          "Name": "dodge colt m/m",
          "Origin": "USA",
          "Weight_in_lbs": 2075,
          "Year": "1977-01-01T00:00:00"
         },
         {
          "Acceleration": 16.4,
          "Cylinders": 4,
          "Displacement": 97,
          "Horsepower": 67,
          "Miles_per_Gallon": 30,
          "Name": "subaru dl",
          "Origin": "Japan",
          "Weight_in_lbs": 1985,
          "Year": "1977-01-01T00:00:00"
         },
         {
          "Acceleration": 14.1,
          "Cylinders": 4,
          "Displacement": 97,
          "Horsepower": 78,
          "Miles_per_Gallon": 30.5,
          "Name": "volkswagen dasher",
          "Origin": "Europe",
          "Weight_in_lbs": 2190,
          "Year": "1977-01-01T00:00:00"
         },
         {
          "Acceleration": 14.5,
          "Cylinders": 6,
          "Displacement": 146,
          "Horsepower": 97,
          "Miles_per_Gallon": 22,
          "Name": "datsun 810",
          "Origin": "Japan",
          "Weight_in_lbs": 2815,
          "Year": "1977-01-01T00:00:00"
         },
         {
          "Acceleration": 12.8,
          "Cylinders": 4,
          "Displacement": 121,
          "Horsepower": 110,
          "Miles_per_Gallon": 21.5,
          "Name": "bmw 320i",
          "Origin": "Europe",
          "Weight_in_lbs": 2600,
          "Year": "1977-01-01T00:00:00"
         },
         {
          "Acceleration": 13.5,
          "Cylinders": 3,
          "Displacement": 80,
          "Horsepower": 110,
          "Miles_per_Gallon": 21.5,
          "Name": "mazda rx-4",
          "Origin": "Japan",
          "Weight_in_lbs": 2720,
          "Year": "1977-01-01T00:00:00"
         },
         {
          "Acceleration": 21.5,
          "Cylinders": 4,
          "Displacement": 90,
          "Horsepower": 48,
          "Miles_per_Gallon": 43.1,
          "Name": "volkswagen rabbit custom diesel",
          "Origin": "Europe",
          "Weight_in_lbs": 1985,
          "Year": "1978-01-01T00:00:00"
         },
         {
          "Acceleration": 14.4,
          "Cylinders": 4,
          "Displacement": 98,
          "Horsepower": 66,
          "Miles_per_Gallon": 36.1,
          "Name": "ford fiesta",
          "Origin": "USA",
          "Weight_in_lbs": 1800,
          "Year": "1978-01-01T00:00:00"
         },
         {
          "Acceleration": 19.4,
          "Cylinders": 4,
          "Displacement": 78,
          "Horsepower": 52,
          "Miles_per_Gallon": 32.8,
          "Name": "mazda glc deluxe",
          "Origin": "Japan",
          "Weight_in_lbs": 1985,
          "Year": "1978-01-01T00:00:00"
         },
         {
          "Acceleration": 18.6,
          "Cylinders": 4,
          "Displacement": 85,
          "Horsepower": 70,
          "Miles_per_Gallon": 39.4,
          "Name": "datsun b210 gx",
          "Origin": "Japan",
          "Weight_in_lbs": 2070,
          "Year": "1978-01-01T00:00:00"
         },
         {
          "Acceleration": 16.4,
          "Cylinders": 4,
          "Displacement": 91,
          "Horsepower": 60,
          "Miles_per_Gallon": 36.1,
          "Name": "honda civic cvcc",
          "Origin": "Japan",
          "Weight_in_lbs": 1800,
          "Year": "1978-01-01T00:00:00"
         },
         {
          "Acceleration": 15.5,
          "Cylinders": 8,
          "Displacement": 260,
          "Horsepower": 110,
          "Miles_per_Gallon": 19.9,
          "Name": "oldsmobile cutlass salon brougham",
          "Origin": "USA",
          "Weight_in_lbs": 3365,
          "Year": "1978-01-01T00:00:00"
         },
         {
          "Acceleration": 13.2,
          "Cylinders": 8,
          "Displacement": 318,
          "Horsepower": 140,
          "Miles_per_Gallon": 19.4,
          "Name": "dodge diplomat",
          "Origin": "USA",
          "Weight_in_lbs": 3735,
          "Year": "1978-01-01T00:00:00"
         },
         {
          "Acceleration": 12.8,
          "Cylinders": 8,
          "Displacement": 302,
          "Horsepower": 139,
          "Miles_per_Gallon": 20.2,
          "Name": "mercury monarch ghia",
          "Origin": "USA",
          "Weight_in_lbs": 3570,
          "Year": "1978-01-01T00:00:00"
         },
         {
          "Acceleration": 19.2,
          "Cylinders": 6,
          "Displacement": 231,
          "Horsepower": 105,
          "Miles_per_Gallon": 19.2,
          "Name": "pontiac phoenix lj",
          "Origin": "USA",
          "Weight_in_lbs": 3535,
          "Year": "1978-01-01T00:00:00"
         },
         {
          "Acceleration": 18.2,
          "Cylinders": 6,
          "Displacement": 200,
          "Horsepower": 95,
          "Miles_per_Gallon": 20.5,
          "Name": "chevrolet malibu",
          "Origin": "USA",
          "Weight_in_lbs": 3155,
          "Year": "1978-01-01T00:00:00"
         },
         {
          "Acceleration": 15.8,
          "Cylinders": 6,
          "Displacement": 200,
          "Horsepower": 85,
          "Miles_per_Gallon": 20.2,
          "Name": "ford fairmont (auto)",
          "Origin": "USA",
          "Weight_in_lbs": 2965,
          "Year": "1978-01-01T00:00:00"
         },
         {
          "Acceleration": 15.4,
          "Cylinders": 4,
          "Displacement": 140,
          "Horsepower": 88,
          "Miles_per_Gallon": 25.1,
          "Name": "ford fairmont (man)",
          "Origin": "USA",
          "Weight_in_lbs": 2720,
          "Year": "1978-01-01T00:00:00"
         },
         {
          "Acceleration": 17.2,
          "Cylinders": 6,
          "Displacement": 225,
          "Horsepower": 100,
          "Miles_per_Gallon": 20.5,
          "Name": "plymouth volare",
          "Origin": "USA",
          "Weight_in_lbs": 3430,
          "Year": "1978-01-01T00:00:00"
         },
         {
          "Acceleration": 17.2,
          "Cylinders": 6,
          "Displacement": 232,
          "Horsepower": 90,
          "Miles_per_Gallon": 19.4,
          "Name": "amc concord",
          "Origin": "USA",
          "Weight_in_lbs": 3210,
          "Year": "1978-01-01T00:00:00"
         },
         {
          "Acceleration": 15.8,
          "Cylinders": 6,
          "Displacement": 231,
          "Horsepower": 105,
          "Miles_per_Gallon": 20.6,
          "Name": "buick century special",
          "Origin": "USA",
          "Weight_in_lbs": 3380,
          "Year": "1978-01-01T00:00:00"
         },
         {
          "Acceleration": 16.7,
          "Cylinders": 6,
          "Displacement": 200,
          "Horsepower": 85,
          "Miles_per_Gallon": 20.8,
          "Name": "mercury zephyr",
          "Origin": "USA",
          "Weight_in_lbs": 3070,
          "Year": "1978-01-01T00:00:00"
         },
         {
          "Acceleration": 18.7,
          "Cylinders": 6,
          "Displacement": 225,
          "Horsepower": 110,
          "Miles_per_Gallon": 18.6,
          "Name": "dodge aspen",
          "Origin": "USA",
          "Weight_in_lbs": 3620,
          "Year": "1978-01-01T00:00:00"
         },
         {
          "Acceleration": 15.1,
          "Cylinders": 6,
          "Displacement": 258,
          "Horsepower": 120,
          "Miles_per_Gallon": 18.1,
          "Name": "amc concord d/l",
          "Origin": "USA",
          "Weight_in_lbs": 3410,
          "Year": "1978-01-01T00:00:00"
         },
         {
          "Acceleration": 13.2,
          "Cylinders": 8,
          "Displacement": 305,
          "Horsepower": 145,
          "Miles_per_Gallon": 19.2,
          "Name": "chevrolet monte carlo landau",
          "Origin": "USA",
          "Weight_in_lbs": 3425,
          "Year": "1978-01-01T00:00:00"
         },
         {
          "Acceleration": 13.4,
          "Cylinders": 6,
          "Displacement": 231,
          "Horsepower": 165,
          "Miles_per_Gallon": 17.7,
          "Name": "buick regal sport coupe (turbo)",
          "Origin": "USA",
          "Weight_in_lbs": 3445,
          "Year": "1978-01-01T00:00:00"
         },
         {
          "Acceleration": 11.2,
          "Cylinders": 8,
          "Displacement": 302,
          "Horsepower": 139,
          "Miles_per_Gallon": 18.1,
          "Name": "ford futura",
          "Origin": "USA",
          "Weight_in_lbs": 3205,
          "Year": "1978-01-01T00:00:00"
         },
         {
          "Acceleration": 13.7,
          "Cylinders": 8,
          "Displacement": 318,
          "Horsepower": 140,
          "Miles_per_Gallon": 17.5,
          "Name": "dodge magnum xe",
          "Origin": "USA",
          "Weight_in_lbs": 4080,
          "Year": "1978-01-01T00:00:00"
         },
         {
          "Acceleration": 16.5,
          "Cylinders": 4,
          "Displacement": 98,
          "Horsepower": 68,
          "Miles_per_Gallon": 30,
          "Name": "chevrolet chevette",
          "Origin": "USA",
          "Weight_in_lbs": 2155,
          "Year": "1978-01-01T00:00:00"
         },
         {
          "Acceleration": 14.2,
          "Cylinders": 4,
          "Displacement": 134,
          "Horsepower": 95,
          "Miles_per_Gallon": 27.5,
          "Name": "toyota corona",
          "Origin": "Japan",
          "Weight_in_lbs": 2560,
          "Year": "1978-01-01T00:00:00"
         },
         {
          "Acceleration": 14.7,
          "Cylinders": 4,
          "Displacement": 119,
          "Horsepower": 97,
          "Miles_per_Gallon": 27.2,
          "Name": "datsun 510",
          "Origin": "Japan",
          "Weight_in_lbs": 2300,
          "Year": "1978-01-01T00:00:00"
         },
         {
          "Acceleration": 14.5,
          "Cylinders": 4,
          "Displacement": 105,
          "Horsepower": 75,
          "Miles_per_Gallon": 30.9,
          "Name": "dodge omni",
          "Origin": "USA",
          "Weight_in_lbs": 2230,
          "Year": "1978-01-01T00:00:00"
         },
         {
          "Acceleration": 14.8,
          "Cylinders": 4,
          "Displacement": 134,
          "Horsepower": 95,
          "Miles_per_Gallon": 21.1,
          "Name": "toyota celica gt liftback",
          "Origin": "Japan",
          "Weight_in_lbs": 2515,
          "Year": "1978-01-01T00:00:00"
         },
         {
          "Acceleration": 16.7,
          "Cylinders": 4,
          "Displacement": 156,
          "Horsepower": 105,
          "Miles_per_Gallon": 23.2,
          "Name": "plymouth sapporo",
          "Origin": "USA",
          "Weight_in_lbs": 2745,
          "Year": "1978-01-01T00:00:00"
         },
         {
          "Acceleration": 17.6,
          "Cylinders": 4,
          "Displacement": 151,
          "Horsepower": 85,
          "Miles_per_Gallon": 23.8,
          "Name": "oldsmobile starfire sx",
          "Origin": "USA",
          "Weight_in_lbs": 2855,
          "Year": "1978-01-01T00:00:00"
         },
         {
          "Acceleration": 14.9,
          "Cylinders": 4,
          "Displacement": 119,
          "Horsepower": 97,
          "Miles_per_Gallon": 23.9,
          "Name": "datsun 200-sx",
          "Origin": "Japan",
          "Weight_in_lbs": 2405,
          "Year": "1978-01-01T00:00:00"
         },
         {
          "Acceleration": 15.9,
          "Cylinders": 5,
          "Displacement": 131,
          "Horsepower": 103,
          "Miles_per_Gallon": 20.3,
          "Name": "audi 5000",
          "Origin": "Europe",
          "Weight_in_lbs": 2830,
          "Year": "1978-01-01T00:00:00"
         },
         {
          "Acceleration": 13.6,
          "Cylinders": 6,
          "Displacement": 163,
          "Horsepower": 125,
          "Miles_per_Gallon": 17,
          "Name": "volvo 264gl",
          "Origin": "Europe",
          "Weight_in_lbs": 3140,
          "Year": "1978-01-01T00:00:00"
         },
         {
          "Acceleration": 15.7,
          "Cylinders": 4,
          "Displacement": 121,
          "Horsepower": 115,
          "Miles_per_Gallon": 21.6,
          "Name": "saab 99gle",
          "Origin": "Europe",
          "Weight_in_lbs": 2795,
          "Year": "1978-01-01T00:00:00"
         },
         {
          "Acceleration": 15.8,
          "Cylinders": 6,
          "Displacement": 163,
          "Horsepower": 133,
          "Miles_per_Gallon": 16.2,
          "Name": "peugeot 604sl",
          "Origin": "Europe",
          "Weight_in_lbs": 3410,
          "Year": "1978-01-01T00:00:00"
         },
         {
          "Acceleration": 14.9,
          "Cylinders": 4,
          "Displacement": 89,
          "Horsepower": 71,
          "Miles_per_Gallon": 31.5,
          "Name": "volkswagen scirocco",
          "Origin": "Europe",
          "Weight_in_lbs": 1990,
          "Year": "1978-01-01T00:00:00"
         },
         {
          "Acceleration": 16.6,
          "Cylinders": 4,
          "Displacement": 98,
          "Horsepower": 68,
          "Miles_per_Gallon": 29.5,
          "Name": "honda Accelerationord lx",
          "Origin": "Japan",
          "Weight_in_lbs": 2135,
          "Year": "1978-01-01T00:00:00"
         },
         {
          "Acceleration": 15.4,
          "Cylinders": 6,
          "Displacement": 231,
          "Horsepower": 115,
          "Miles_per_Gallon": 21.5,
          "Name": "pontiac lemans v6",
          "Origin": "USA",
          "Weight_in_lbs": 3245,
          "Year": "1979-01-01T00:00:00"
         },
         {
          "Acceleration": 18.2,
          "Cylinders": 6,
          "Displacement": 200,
          "Horsepower": 85,
          "Miles_per_Gallon": 19.8,
          "Name": "mercury zephyr 6",
          "Origin": "USA",
          "Weight_in_lbs": 2990,
          "Year": "1979-01-01T00:00:00"
         },
         {
          "Acceleration": 17.3,
          "Cylinders": 4,
          "Displacement": 140,
          "Horsepower": 88,
          "Miles_per_Gallon": 22.3,
          "Name": "ford fairmont 4",
          "Origin": "USA",
          "Weight_in_lbs": 2890,
          "Year": "1979-01-01T00:00:00"
         },
         {
          "Acceleration": 18.2,
          "Cylinders": 6,
          "Displacement": 232,
          "Horsepower": 90,
          "Miles_per_Gallon": 20.2,
          "Name": "amc concord dl 6",
          "Origin": "USA",
          "Weight_in_lbs": 3265,
          "Year": "1979-01-01T00:00:00"
         },
         {
          "Acceleration": 16.6,
          "Cylinders": 6,
          "Displacement": 225,
          "Horsepower": 110,
          "Miles_per_Gallon": 20.6,
          "Name": "dodge aspen 6",
          "Origin": "USA",
          "Weight_in_lbs": 3360,
          "Year": "1979-01-01T00:00:00"
         },
         {
          "Acceleration": 15.4,
          "Cylinders": 8,
          "Displacement": 305,
          "Horsepower": 130,
          "Miles_per_Gallon": 17,
          "Name": "chevrolet caprice classic",
          "Origin": "USA",
          "Weight_in_lbs": 3840,
          "Year": "1979-01-01T00:00:00"
         },
         {
          "Acceleration": 13.4,
          "Cylinders": 8,
          "Displacement": 302,
          "Horsepower": 129,
          "Miles_per_Gallon": 17.6,
          "Name": "ford ltd landau",
          "Origin": "USA",
          "Weight_in_lbs": 3725,
          "Year": "1979-01-01T00:00:00"
         },
         {
          "Acceleration": 13.2,
          "Cylinders": 8,
          "Displacement": 351,
          "Horsepower": 138,
          "Miles_per_Gallon": 16.5,
          "Name": "mercury grand marquis",
          "Origin": "USA",
          "Weight_in_lbs": 3955,
          "Year": "1979-01-01T00:00:00"
         },
         {
          "Acceleration": 15.2,
          "Cylinders": 8,
          "Displacement": 318,
          "Horsepower": 135,
          "Miles_per_Gallon": 18.2,
          "Name": "dodge st. regis",
          "Origin": "USA",
          "Weight_in_lbs": 3830,
          "Year": "1979-01-01T00:00:00"
         },
         {
          "Acceleration": 14.9,
          "Cylinders": 8,
          "Displacement": 350,
          "Horsepower": 155,
          "Miles_per_Gallon": 16.9,
          "Name": "buick estate wagon (sw)",
          "Origin": "USA",
          "Weight_in_lbs": 4360,
          "Year": "1979-01-01T00:00:00"
         },
         {
          "Acceleration": 14.3,
          "Cylinders": 8,
          "Displacement": 351,
          "Horsepower": 142,
          "Miles_per_Gallon": 15.5,
          "Name": "ford country squire (sw)",
          "Origin": "USA",
          "Weight_in_lbs": 4054,
          "Year": "1979-01-01T00:00:00"
         },
         {
          "Acceleration": 15,
          "Cylinders": 8,
          "Displacement": 267,
          "Horsepower": 125,
          "Miles_per_Gallon": 19.2,
          "Name": "chevrolet malibu classic (sw)",
          "Origin": "USA",
          "Weight_in_lbs": 3605,
          "Year": "1979-01-01T00:00:00"
         },
         {
          "Acceleration": 13,
          "Cylinders": 8,
          "Displacement": 360,
          "Horsepower": 150,
          "Miles_per_Gallon": 18.5,
          "Name": "chrysler lebaron town @ country (sw)",
          "Origin": "USA",
          "Weight_in_lbs": 3940,
          "Year": "1979-01-01T00:00:00"
         },
         {
          "Acceleration": 14,
          "Cylinders": 4,
          "Displacement": 89,
          "Horsepower": 71,
          "Miles_per_Gallon": 31.9,
          "Name": "vw rabbit custom",
          "Origin": "Europe",
          "Weight_in_lbs": 1925,
          "Year": "1979-01-01T00:00:00"
         },
         {
          "Acceleration": 15.2,
          "Cylinders": 4,
          "Displacement": 86,
          "Horsepower": 65,
          "Miles_per_Gallon": 34.1,
          "Name": "maxda glc deluxe",
          "Origin": "Japan",
          "Weight_in_lbs": 1975,
          "Year": "1979-01-01T00:00:00"
         },
         {
          "Acceleration": 14.4,
          "Cylinders": 4,
          "Displacement": 98,
          "Horsepower": 80,
          "Miles_per_Gallon": 35.7,
          "Name": "dodge colt hatchback custom",
          "Origin": "USA",
          "Weight_in_lbs": 1915,
          "Year": "1979-01-01T00:00:00"
         },
         {
          "Acceleration": 15,
          "Cylinders": 4,
          "Displacement": 121,
          "Horsepower": 80,
          "Miles_per_Gallon": 27.4,
          "Name": "amc spirit dl",
          "Origin": "USA",
          "Weight_in_lbs": 2670,
          "Year": "1979-01-01T00:00:00"
         },
         {
          "Acceleration": 20.1,
          "Cylinders": 5,
          "Displacement": 183,
          "Horsepower": 77,
          "Miles_per_Gallon": 25.4,
          "Name": "mercedes benz 300d",
          "Origin": "Europe",
          "Weight_in_lbs": 3530,
          "Year": "1979-01-01T00:00:00"
         },
         {
          "Acceleration": 17.4,
          "Cylinders": 8,
          "Displacement": 350,
          "Horsepower": 125,
          "Miles_per_Gallon": 23,
          "Name": "cadillac eldorado",
          "Origin": "USA",
          "Weight_in_lbs": 3900,
          "Year": "1979-01-01T00:00:00"
         },
         {
          "Acceleration": 24.8,
          "Cylinders": 4,
          "Displacement": 141,
          "Horsepower": 71,
          "Miles_per_Gallon": 27.2,
          "Name": "peugeot 504",
          "Origin": "Europe",
          "Weight_in_lbs": 3190,
          "Year": "1979-01-01T00:00:00"
         },
         {
          "Acceleration": 22.2,
          "Cylinders": 8,
          "Displacement": 260,
          "Horsepower": 90,
          "Miles_per_Gallon": 23.9,
          "Name": "oldsmobile cutlass salon brougham",
          "Origin": "USA",
          "Weight_in_lbs": 3420,
          "Year": "1979-01-01T00:00:00"
         },
         {
          "Acceleration": 13.2,
          "Cylinders": 4,
          "Displacement": 105,
          "Horsepower": 70,
          "Miles_per_Gallon": 34.2,
          "Name": "plymouth horizon",
          "Origin": "USA",
          "Weight_in_lbs": 2200,
          "Year": "1979-01-01T00:00:00"
         },
         {
          "Acceleration": 14.9,
          "Cylinders": 4,
          "Displacement": 105,
          "Horsepower": 70,
          "Miles_per_Gallon": 34.5,
          "Name": "plymouth horizon tc3",
          "Origin": "USA",
          "Weight_in_lbs": 2150,
          "Year": "1979-01-01T00:00:00"
         },
         {
          "Acceleration": 19.2,
          "Cylinders": 4,
          "Displacement": 85,
          "Horsepower": 65,
          "Miles_per_Gallon": 31.8,
          "Name": "datsun 210",
          "Origin": "Japan",
          "Weight_in_lbs": 2020,
          "Year": "1979-01-01T00:00:00"
         },
         {
          "Acceleration": 14.7,
          "Cylinders": 4,
          "Displacement": 91,
          "Horsepower": 69,
          "Miles_per_Gallon": 37.3,
          "Name": "fiat strada custom",
          "Origin": "Europe",
          "Weight_in_lbs": 2130,
          "Year": "1979-01-01T00:00:00"
         },
         {
          "Acceleration": 16,
          "Cylinders": 4,
          "Displacement": 151,
          "Horsepower": 90,
          "Miles_per_Gallon": 28.4,
          "Name": "buick skylark limited",
          "Origin": "USA",
          "Weight_in_lbs": 2670,
          "Year": "1979-01-01T00:00:00"
         },
         {
          "Acceleration": 11.3,
          "Cylinders": 6,
          "Displacement": 173,
          "Horsepower": 115,
          "Miles_per_Gallon": 28.8,
          "Name": "chevrolet citation",
          "Origin": "USA",
          "Weight_in_lbs": 2595,
          "Year": "1979-01-01T00:00:00"
         },
         {
          "Acceleration": 12.9,
          "Cylinders": 6,
          "Displacement": 173,
          "Horsepower": 115,
          "Miles_per_Gallon": 26.8,
          "Name": "oldsmobile omega brougham",
          "Origin": "USA",
          "Weight_in_lbs": 2700,
          "Year": "1979-01-01T00:00:00"
         },
         {
          "Acceleration": 13.2,
          "Cylinders": 4,
          "Displacement": 151,
          "Horsepower": 90,
          "Miles_per_Gallon": 33.5,
          "Name": "pontiac phoenix",
          "Origin": "USA",
          "Weight_in_lbs": 2556,
          "Year": "1979-01-01T00:00:00"
         },
         {
          "Acceleration": 14.7,
          "Cylinders": 4,
          "Displacement": 98,
          "Horsepower": 76,
          "Miles_per_Gallon": 41.5,
          "Name": "vw rabbit",
          "Origin": "Europe",
          "Weight_in_lbs": 2144,
          "Year": "1980-01-01T00:00:00"
         },
         {
          "Acceleration": 18.8,
          "Cylinders": 4,
          "Displacement": 89,
          "Horsepower": 60,
          "Miles_per_Gallon": 38.1,
          "Name": "toyota corolla tercel",
          "Origin": "Japan",
          "Weight_in_lbs": 1968,
          "Year": "1980-01-01T00:00:00"
         },
         {
          "Acceleration": 15.5,
          "Cylinders": 4,
          "Displacement": 98,
          "Horsepower": 70,
          "Miles_per_Gallon": 32.1,
          "Name": "chevrolet chevette",
          "Origin": "USA",
          "Weight_in_lbs": 2120,
          "Year": "1980-01-01T00:00:00"
         },
         {
          "Acceleration": 16.4,
          "Cylinders": 4,
          "Displacement": 86,
          "Horsepower": 65,
          "Miles_per_Gallon": 37.2,
          "Name": "datsun 310",
          "Origin": "Japan",
          "Weight_in_lbs": 2019,
          "Year": "1980-01-01T00:00:00"
         },
         {
          "Acceleration": 16.5,
          "Cylinders": 4,
          "Displacement": 151,
          "Horsepower": 90,
          "Miles_per_Gallon": 28,
          "Name": "chevrolet citation",
          "Origin": "USA",
          "Weight_in_lbs": 2678,
          "Year": "1980-01-01T00:00:00"
         },
         {
          "Acceleration": 18.1,
          "Cylinders": 4,
          "Displacement": 140,
          "Horsepower": 88,
          "Miles_per_Gallon": 26.4,
          "Name": "ford fairmont",
          "Origin": "USA",
          "Weight_in_lbs": 2870,
          "Year": "1980-01-01T00:00:00"
         },
         {
          "Acceleration": 20.1,
          "Cylinders": 4,
          "Displacement": 151,
          "Horsepower": 90,
          "Miles_per_Gallon": 24.3,
          "Name": "amc concord",
          "Origin": "USA",
          "Weight_in_lbs": 3003,
          "Year": "1980-01-01T00:00:00"
         },
         {
          "Acceleration": 18.7,
          "Cylinders": 6,
          "Displacement": 225,
          "Horsepower": 90,
          "Miles_per_Gallon": 19.1,
          "Name": "dodge aspen",
          "Origin": "USA",
          "Weight_in_lbs": 3381,
          "Year": "1980-01-01T00:00:00"
         },
         {
          "Acceleration": 15.8,
          "Cylinders": 4,
          "Displacement": 97,
          "Horsepower": 78,
          "Miles_per_Gallon": 34.3,
          "Name": "audi 4000",
          "Origin": "Europe",
          "Weight_in_lbs": 2188,
          "Year": "1980-01-01T00:00:00"
         },
         {
          "Acceleration": 15.5,
          "Cylinders": 4,
          "Displacement": 134,
          "Horsepower": 90,
          "Miles_per_Gallon": 29.8,
          "Name": "toyota corona liftback",
          "Origin": "Japan",
          "Weight_in_lbs": 2711,
          "Year": "1980-01-01T00:00:00"
         },
         {
          "Acceleration": 17.5,
          "Cylinders": 4,
          "Displacement": 120,
          "Horsepower": 75,
          "Miles_per_Gallon": 31.3,
          "Name": "mazda 626",
          "Origin": "Japan",
          "Weight_in_lbs": 2542,
          "Year": "1980-01-01T00:00:00"
         },
         {
          "Acceleration": 15,
          "Cylinders": 4,
          "Displacement": 119,
          "Horsepower": 92,
          "Miles_per_Gallon": 37,
          "Name": "datsun 510 hatchback",
          "Origin": "Japan",
          "Weight_in_lbs": 2434,
          "Year": "1980-01-01T00:00:00"
         },
         {
          "Acceleration": 15.2,
          "Cylinders": 4,
          "Displacement": 108,
          "Horsepower": 75,
          "Miles_per_Gallon": 32.2,
          "Name": "toyota corolla",
          "Origin": "Japan",
          "Weight_in_lbs": 2265,
          "Year": "1980-01-01T00:00:00"
         },
         {
          "Acceleration": 17.9,
          "Cylinders": 4,
          "Displacement": 86,
          "Horsepower": 65,
          "Miles_per_Gallon": 46.6,
          "Name": "mazda glc",
          "Origin": "Japan",
          "Weight_in_lbs": 2110,
          "Year": "1980-01-01T00:00:00"
         },
         {
          "Acceleration": 14.4,
          "Cylinders": 4,
          "Displacement": 156,
          "Horsepower": 105,
          "Miles_per_Gallon": 27.9,
          "Name": "dodge colt",
          "Origin": "USA",
          "Weight_in_lbs": 2800,
          "Year": "1980-01-01T00:00:00"
         },
         {
          "Acceleration": 19.2,
          "Cylinders": 4,
          "Displacement": 85,
          "Horsepower": 65,
          "Miles_per_Gallon": 40.8,
          "Name": "datsun 210",
          "Origin": "Japan",
          "Weight_in_lbs": 2110,
          "Year": "1980-01-01T00:00:00"
         },
         {
          "Acceleration": 21.7,
          "Cylinders": 4,
          "Displacement": 90,
          "Horsepower": 48,
          "Miles_per_Gallon": 44.3,
          "Name": "vw rabbit c (diesel)",
          "Origin": "Europe",
          "Weight_in_lbs": 2085,
          "Year": "1980-01-01T00:00:00"
         },
         {
          "Acceleration": 23.7,
          "Cylinders": 4,
          "Displacement": 90,
          "Horsepower": 48,
          "Miles_per_Gallon": 43.4,
          "Name": "vw dasher (diesel)",
          "Origin": "Europe",
          "Weight_in_lbs": 2335,
          "Year": "1980-01-01T00:00:00"
         },
         {
          "Acceleration": 19.9,
          "Cylinders": 5,
          "Displacement": 121,
          "Horsepower": 67,
          "Miles_per_Gallon": 36.4,
          "Name": "audi 5000s (diesel)",
          "Origin": "Europe",
          "Weight_in_lbs": 2950,
          "Year": "1980-01-01T00:00:00"
         },
         {
          "Acceleration": 21.8,
          "Cylinders": 4,
          "Displacement": 146,
          "Horsepower": 67,
          "Miles_per_Gallon": 30,
          "Name": "mercedes-benz 240d",
          "Origin": "Europe",
          "Weight_in_lbs": 3250,
          "Year": "1980-01-01T00:00:00"
         },
         {
          "Acceleration": 13.8,
          "Cylinders": 4,
          "Displacement": 91,
          "Horsepower": 67,
          "Miles_per_Gallon": 44.6,
          "Name": "honda civic 1500 gl",
          "Origin": "Japan",
          "Weight_in_lbs": 1850,
          "Year": "1980-01-01T00:00:00"
         },
         {
          "Acceleration": 17.3,
          "Cylinders": 4,
          "Displacement": 85,
          "Horsepower": null,
          "Miles_per_Gallon": 40.9,
          "Name": "renault lecar deluxe",
          "Origin": "Europe",
          "Weight_in_lbs": 1835,
          "Year": "1980-01-01T00:00:00"
         },
         {
          "Acceleration": 18,
          "Cylinders": 4,
          "Displacement": 97,
          "Horsepower": 67,
          "Miles_per_Gallon": 33.8,
          "Name": "subaru dl",
          "Origin": "Japan",
          "Weight_in_lbs": 2145,
          "Year": "1980-01-01T00:00:00"
         },
         {
          "Acceleration": 15.3,
          "Cylinders": 4,
          "Displacement": 89,
          "Horsepower": 62,
          "Miles_per_Gallon": 29.8,
          "Name": "vokswagen rabbit",
          "Origin": "Europe",
          "Weight_in_lbs": 1845,
          "Year": "1980-01-01T00:00:00"
         },
         {
          "Acceleration": 11.4,
          "Cylinders": 6,
          "Displacement": 168,
          "Horsepower": 132,
          "Miles_per_Gallon": 32.7,
          "Name": "datsun 280-zx",
          "Origin": "Japan",
          "Weight_in_lbs": 2910,
          "Year": "1980-01-01T00:00:00"
         },
         {
          "Acceleration": 12.5,
          "Cylinders": 3,
          "Displacement": 70,
          "Horsepower": 100,
          "Miles_per_Gallon": 23.7,
          "Name": "mazda rx-7 gs",
          "Origin": "Japan",
          "Weight_in_lbs": 2420,
          "Year": "1980-01-01T00:00:00"
         },
         {
          "Acceleration": 15.1,
          "Cylinders": 4,
          "Displacement": 122,
          "Horsepower": 88,
          "Miles_per_Gallon": 35,
          "Name": "triumph tr7 coupe",
          "Origin": "Europe",
          "Weight_in_lbs": 2500,
          "Year": "1980-01-01T00:00:00"
         },
         {
          "Acceleration": 14.3,
          "Cylinders": 4,
          "Displacement": 140,
          "Horsepower": null,
          "Miles_per_Gallon": 23.6,
          "Name": "ford mustang cobra",
          "Origin": "USA",
          "Weight_in_lbs": 2905,
          "Year": "1980-01-01T00:00:00"
         },
         {
          "Acceleration": 17,
          "Cylinders": 4,
          "Displacement": 107,
          "Horsepower": 72,
          "Miles_per_Gallon": 32.4,
          "Name": "honda Accelerationord",
          "Origin": "Japan",
          "Weight_in_lbs": 2290,
          "Year": "1980-01-01T00:00:00"
         },
         {
          "Acceleration": 15.7,
          "Cylinders": 4,
          "Displacement": 135,
          "Horsepower": 84,
          "Miles_per_Gallon": 27.2,
          "Name": "plymouth reliant",
          "Origin": "USA",
          "Weight_in_lbs": 2490,
          "Year": "1982-01-01T00:00:00"
         },
         {
          "Acceleration": 16.4,
          "Cylinders": 4,
          "Displacement": 151,
          "Horsepower": 84,
          "Miles_per_Gallon": 26.6,
          "Name": "buick skylark",
          "Origin": "USA",
          "Weight_in_lbs": 2635,
          "Year": "1982-01-01T00:00:00"
         },
         {
          "Acceleration": 14.4,
          "Cylinders": 4,
          "Displacement": 156,
          "Horsepower": 92,
          "Miles_per_Gallon": 25.8,
          "Name": "dodge aries wagon (sw)",
          "Origin": "USA",
          "Weight_in_lbs": 2620,
          "Year": "1982-01-01T00:00:00"
         },
         {
          "Acceleration": 12.6,
          "Cylinders": 6,
          "Displacement": 173,
          "Horsepower": 110,
          "Miles_per_Gallon": 23.5,
          "Name": "chevrolet citation",
          "Origin": "USA",
          "Weight_in_lbs": 2725,
          "Year": "1982-01-01T00:00:00"
         },
         {
          "Acceleration": 12.9,
          "Cylinders": 4,
          "Displacement": 135,
          "Horsepower": 84,
          "Miles_per_Gallon": 30,
          "Name": "plymouth reliant",
          "Origin": "USA",
          "Weight_in_lbs": 2385,
          "Year": "1982-01-01T00:00:00"
         },
         {
          "Acceleration": 16.9,
          "Cylinders": 4,
          "Displacement": 79,
          "Horsepower": 58,
          "Miles_per_Gallon": 39.1,
          "Name": "toyota starlet",
          "Origin": "Japan",
          "Weight_in_lbs": 1755,
          "Year": "1982-01-01T00:00:00"
         },
         {
          "Acceleration": 16.4,
          "Cylinders": 4,
          "Displacement": 86,
          "Horsepower": 64,
          "Miles_per_Gallon": 39,
          "Name": "plymouth champ",
          "Origin": "USA",
          "Weight_in_lbs": 1875,
          "Year": "1982-01-01T00:00:00"
         },
         {
          "Acceleration": 16.1,
          "Cylinders": 4,
          "Displacement": 81,
          "Horsepower": 60,
          "Miles_per_Gallon": 35.1,
          "Name": "honda civic 1300",
          "Origin": "Japan",
          "Weight_in_lbs": 1760,
          "Year": "1982-01-01T00:00:00"
         },
         {
          "Acceleration": 17.8,
          "Cylinders": 4,
          "Displacement": 97,
          "Horsepower": 67,
          "Miles_per_Gallon": 32.3,
          "Name": "subaru",
          "Origin": "Japan",
          "Weight_in_lbs": 2065,
          "Year": "1982-01-01T00:00:00"
         },
         {
          "Acceleration": 19.4,
          "Cylinders": 4,
          "Displacement": 85,
          "Horsepower": 65,
          "Miles_per_Gallon": 37,
          "Name": "datsun 210",
          "Origin": "Japan",
          "Weight_in_lbs": 1975,
          "Year": "1982-01-01T00:00:00"
         },
         {
          "Acceleration": 17.3,
          "Cylinders": 4,
          "Displacement": 89,
          "Horsepower": 62,
          "Miles_per_Gallon": 37.7,
          "Name": "toyota tercel",
          "Origin": "Japan",
          "Weight_in_lbs": 2050,
          "Year": "1982-01-01T00:00:00"
         },
         {
          "Acceleration": 16,
          "Cylinders": 4,
          "Displacement": 91,
          "Horsepower": 68,
          "Miles_per_Gallon": 34.1,
          "Name": "mazda glc 4",
          "Origin": "Japan",
          "Weight_in_lbs": 1985,
          "Year": "1982-01-01T00:00:00"
         },
         {
          "Acceleration": 14.9,
          "Cylinders": 4,
          "Displacement": 105,
          "Horsepower": 63,
          "Miles_per_Gallon": 34.7,
          "Name": "plymouth horizon 4",
          "Origin": "USA",
          "Weight_in_lbs": 2215,
          "Year": "1982-01-01T00:00:00"
         },
         {
          "Acceleration": 16.2,
          "Cylinders": 4,
          "Displacement": 98,
          "Horsepower": 65,
          "Miles_per_Gallon": 34.4,
          "Name": "ford escort 4w",
          "Origin": "USA",
          "Weight_in_lbs": 2045,
          "Year": "1982-01-01T00:00:00"
         },
         {
          "Acceleration": 20.7,
          "Cylinders": 4,
          "Displacement": 98,
          "Horsepower": 65,
          "Miles_per_Gallon": 29.9,
          "Name": "ford escort 2h",
          "Origin": "USA",
          "Weight_in_lbs": 2380,
          "Year": "1982-01-01T00:00:00"
         },
         {
          "Acceleration": 14.2,
          "Cylinders": 4,
          "Displacement": 105,
          "Horsepower": 74,
          "Miles_per_Gallon": 33,
          "Name": "volkswagen jetta",
          "Origin": "Europe",
          "Weight_in_lbs": 2190,
          "Year": "1982-01-01T00:00:00"
         },
         {
          "Acceleration": 15.8,
          "Cylinders": 4,
          "Displacement": 100,
          "Horsepower": null,
          "Miles_per_Gallon": 34.5,
          "Name": "renault 18i",
          "Origin": "Europe",
          "Weight_in_lbs": 2320,
          "Year": "1982-01-01T00:00:00"
         },
         {
          "Acceleration": 14.4,
          "Cylinders": 4,
          "Displacement": 107,
          "Horsepower": 75,
          "Miles_per_Gallon": 33.7,
          "Name": "honda prelude",
          "Origin": "Japan",
          "Weight_in_lbs": 2210,
          "Year": "1982-01-01T00:00:00"
         },
         {
          "Acceleration": 16.8,
          "Cylinders": 4,
          "Displacement": 108,
          "Horsepower": 75,
          "Miles_per_Gallon": 32.4,
          "Name": "toyota corolla",
          "Origin": "Japan",
          "Weight_in_lbs": 2350,
          "Year": "1982-01-01T00:00:00"
         },
         {
          "Acceleration": 14.8,
          "Cylinders": 4,
          "Displacement": 119,
          "Horsepower": 100,
          "Miles_per_Gallon": 32.9,
          "Name": "datsun 200sx",
          "Origin": "Japan",
          "Weight_in_lbs": 2615,
          "Year": "1982-01-01T00:00:00"
         },
         {
          "Acceleration": 18.3,
          "Cylinders": 4,
          "Displacement": 120,
          "Horsepower": 74,
          "Miles_per_Gallon": 31.6,
          "Name": "mazda 626",
          "Origin": "Japan",
          "Weight_in_lbs": 2635,
          "Year": "1982-01-01T00:00:00"
         },
         {
          "Acceleration": 20.4,
          "Cylinders": 4,
          "Displacement": 141,
          "Horsepower": 80,
          "Miles_per_Gallon": 28.1,
          "Name": "peugeot 505s turbo diesel",
          "Origin": "Europe",
          "Weight_in_lbs": 3230,
          "Year": "1982-01-01T00:00:00"
         },
         {
          "Acceleration": 15.4,
          "Cylinders": 4,
          "Displacement": 121,
          "Horsepower": 110,
          "Miles_per_Gallon": null,
          "Name": "saab 900s",
          "Origin": "Europe",
          "Weight_in_lbs": 2800,
          "Year": "1982-01-01T00:00:00"
         },
         {
          "Acceleration": 19.6,
          "Cylinders": 6,
          "Displacement": 145,
          "Horsepower": 76,
          "Miles_per_Gallon": 30.7,
          "Name": "volvo diesel",
          "Origin": "Europe",
          "Weight_in_lbs": 3160,
          "Year": "1982-01-01T00:00:00"
         },
         {
          "Acceleration": 12.6,
          "Cylinders": 6,
          "Displacement": 168,
          "Horsepower": 116,
          "Miles_per_Gallon": 25.4,
          "Name": "toyota cressida",
          "Origin": "Japan",
          "Weight_in_lbs": 2900,
          "Year": "1982-01-01T00:00:00"
         },
         {
          "Acceleration": 13.8,
          "Cylinders": 6,
          "Displacement": 146,
          "Horsepower": 120,
          "Miles_per_Gallon": 24.2,
          "Name": "datsun 810 maxima",
          "Origin": "Japan",
          "Weight_in_lbs": 2930,
          "Year": "1982-01-01T00:00:00"
         },
         {
          "Acceleration": 15.8,
          "Cylinders": 6,
          "Displacement": 231,
          "Horsepower": 110,
          "Miles_per_Gallon": 22.4,
          "Name": "buick century",
          "Origin": "USA",
          "Weight_in_lbs": 3415,
          "Year": "1982-01-01T00:00:00"
         },
         {
          "Acceleration": 19,
          "Cylinders": 8,
          "Displacement": 350,
          "Horsepower": 105,
          "Miles_per_Gallon": 26.6,
          "Name": "oldsmobile cutlass ls",
          "Origin": "USA",
          "Weight_in_lbs": 3725,
          "Year": "1982-01-01T00:00:00"
         },
         {
          "Acceleration": 17.1,
          "Cylinders": 6,
          "Displacement": 200,
          "Horsepower": 88,
          "Miles_per_Gallon": 20.2,
          "Name": "ford granada gl",
          "Origin": "USA",
          "Weight_in_lbs": 3060,
          "Year": "1982-01-01T00:00:00"
         },
         {
          "Acceleration": 16.6,
          "Cylinders": 6,
          "Displacement": 225,
          "Horsepower": 85,
          "Miles_per_Gallon": 17.6,
          "Name": "chrysler lebaron salon",
          "Origin": "USA",
          "Weight_in_lbs": 3465,
          "Year": "1982-01-01T00:00:00"
         },
         {
          "Acceleration": 19.6,
          "Cylinders": 4,
          "Displacement": 112,
          "Horsepower": 88,
          "Miles_per_Gallon": 28,
          "Name": "chevrolet cavalier",
          "Origin": "USA",
          "Weight_in_lbs": 2605,
          "Year": "1982-01-01T00:00:00"
         },
         {
          "Acceleration": 18.6,
          "Cylinders": 4,
          "Displacement": 112,
          "Horsepower": 88,
          "Miles_per_Gallon": 27,
          "Name": "chevrolet cavalier wagon",
          "Origin": "USA",
          "Weight_in_lbs": 2640,
          "Year": "1982-01-01T00:00:00"
         },
         {
          "Acceleration": 18,
          "Cylinders": 4,
          "Displacement": 112,
          "Horsepower": 88,
          "Miles_per_Gallon": 34,
          "Name": "chevrolet cavalier 2-door",
          "Origin": "USA",
          "Weight_in_lbs": 2395,
          "Year": "1982-01-01T00:00:00"
         },
         {
          "Acceleration": 16.2,
          "Cylinders": 4,
          "Displacement": 112,
          "Horsepower": 85,
          "Miles_per_Gallon": 31,
          "Name": "pontiac j2000 se hatchback",
          "Origin": "USA",
          "Weight_in_lbs": 2575,
          "Year": "1982-01-01T00:00:00"
         },
         {
          "Acceleration": 16,
          "Cylinders": 4,
          "Displacement": 135,
          "Horsepower": 84,
          "Miles_per_Gallon": 29,
          "Name": "dodge aries se",
          "Origin": "USA",
          "Weight_in_lbs": 2525,
          "Year": "1982-01-01T00:00:00"
         },
         {
          "Acceleration": 18,
          "Cylinders": 4,
          "Displacement": 151,
          "Horsepower": 90,
          "Miles_per_Gallon": 27,
          "Name": "pontiac phoenix",
          "Origin": "USA",
          "Weight_in_lbs": 2735,
          "Year": "1982-01-01T00:00:00"
         },
         {
          "Acceleration": 16.4,
          "Cylinders": 4,
          "Displacement": 140,
          "Horsepower": 92,
          "Miles_per_Gallon": 24,
          "Name": "ford fairmont futura",
          "Origin": "USA",
          "Weight_in_lbs": 2865,
          "Year": "1982-01-01T00:00:00"
         },
         {
          "Acceleration": 20.5,
          "Cylinders": 4,
          "Displacement": 151,
          "Horsepower": null,
          "Miles_per_Gallon": 23,
          "Name": "amc concord dl",
          "Origin": "USA",
          "Weight_in_lbs": 3035,
          "Year": "1982-01-01T00:00:00"
         },
         {
          "Acceleration": 15.3,
          "Cylinders": 4,
          "Displacement": 105,
          "Horsepower": 74,
          "Miles_per_Gallon": 36,
          "Name": "volkswagen rabbit l",
          "Origin": "Europe",
          "Weight_in_lbs": 1980,
          "Year": "1982-01-01T00:00:00"
         },
         {
          "Acceleration": 18.2,
          "Cylinders": 4,
          "Displacement": 91,
          "Horsepower": 68,
          "Miles_per_Gallon": 37,
          "Name": "mazda glc custom l",
          "Origin": "Japan",
          "Weight_in_lbs": 2025,
          "Year": "1982-01-01T00:00:00"
         },
         {
          "Acceleration": 17.6,
          "Cylinders": 4,
          "Displacement": 91,
          "Horsepower": 68,
          "Miles_per_Gallon": 31,
          "Name": "mazda glc custom",
          "Origin": "Japan",
          "Weight_in_lbs": 1970,
          "Year": "1982-01-01T00:00:00"
         },
         {
          "Acceleration": 14.7,
          "Cylinders": 4,
          "Displacement": 105,
          "Horsepower": 63,
          "Miles_per_Gallon": 38,
          "Name": "plymouth horizon miser",
          "Origin": "USA",
          "Weight_in_lbs": 2125,
          "Year": "1982-01-01T00:00:00"
         },
         {
          "Acceleration": 17.3,
          "Cylinders": 4,
          "Displacement": 98,
          "Horsepower": 70,
          "Miles_per_Gallon": 36,
          "Name": "mercury lynx l",
          "Origin": "USA",
          "Weight_in_lbs": 2125,
          "Year": "1982-01-01T00:00:00"
         },
         {
          "Acceleration": 14.5,
          "Cylinders": 4,
          "Displacement": 120,
          "Horsepower": 88,
          "Miles_per_Gallon": 36,
          "Name": "nissan stanza xe",
          "Origin": "Japan",
          "Weight_in_lbs": 2160,
          "Year": "1982-01-01T00:00:00"
         },
         {
          "Acceleration": 14.5,
          "Cylinders": 4,
          "Displacement": 107,
          "Horsepower": 75,
          "Miles_per_Gallon": 36,
          "Name": "honda Accelerationord",
          "Origin": "Japan",
          "Weight_in_lbs": 2205,
          "Year": "1982-01-01T00:00:00"
         },
         {
          "Acceleration": 16.9,
          "Cylinders": 4,
          "Displacement": 108,
          "Horsepower": 70,
          "Miles_per_Gallon": 34,
          "Name": "toyota corolla",
          "Origin": "Japan",
          "Weight_in_lbs": 2245,
          "Year": "1982-01-01T00:00:00"
         },
         {
          "Acceleration": 15,
          "Cylinders": 4,
          "Displacement": 91,
          "Horsepower": 67,
          "Miles_per_Gallon": 38,
          "Name": "honda civic",
          "Origin": "Japan",
          "Weight_in_lbs": 1965,
          "Year": "1982-01-01T00:00:00"
         },
         {
          "Acceleration": 15.7,
          "Cylinders": 4,
          "Displacement": 91,
          "Horsepower": 67,
          "Miles_per_Gallon": 32,
          "Name": "honda civic (auto)",
          "Origin": "Japan",
          "Weight_in_lbs": 1965,
          "Year": "1982-01-01T00:00:00"
         },
         {
          "Acceleration": 16.2,
          "Cylinders": 4,
          "Displacement": 91,
          "Horsepower": 67,
          "Miles_per_Gallon": 38,
          "Name": "datsun 310 gx",
          "Origin": "Japan",
          "Weight_in_lbs": 1995,
          "Year": "1982-01-01T00:00:00"
         },
         {
          "Acceleration": 16.4,
          "Cylinders": 6,
          "Displacement": 181,
          "Horsepower": 110,
          "Miles_per_Gallon": 25,
          "Name": "buick century limited",
          "Origin": "USA",
          "Weight_in_lbs": 2945,
          "Year": "1982-01-01T00:00:00"
         },
         {
          "Acceleration": 17,
          "Cylinders": 6,
          "Displacement": 262,
          "Horsepower": 85,
          "Miles_per_Gallon": 38,
          "Name": "oldsmobile cutlass ciera (diesel)",
          "Origin": "USA",
          "Weight_in_lbs": 3015,
          "Year": "1982-01-01T00:00:00"
         },
         {
          "Acceleration": 14.5,
          "Cylinders": 4,
          "Displacement": 156,
          "Horsepower": 92,
          "Miles_per_Gallon": 26,
          "Name": "chrysler lebaron medallion",
          "Origin": "USA",
          "Weight_in_lbs": 2585,
          "Year": "1982-01-01T00:00:00"
         },
         {
          "Acceleration": 14.7,
          "Cylinders": 6,
          "Displacement": 232,
          "Horsepower": 112,
          "Miles_per_Gallon": 22,
          "Name": "ford granada l",
          "Origin": "USA",
          "Weight_in_lbs": 2835,
          "Year": "1982-01-01T00:00:00"
         },
         {
          "Acceleration": 13.9,
          "Cylinders": 4,
          "Displacement": 144,
          "Horsepower": 96,
          "Miles_per_Gallon": 32,
          "Name": "toyota celica gt",
          "Origin": "Japan",
          "Weight_in_lbs": 2665,
          "Year": "1982-01-01T00:00:00"
         },
         {
          "Acceleration": 13,
          "Cylinders": 4,
          "Displacement": 135,
          "Horsepower": 84,
          "Miles_per_Gallon": 36,
          "Name": "dodge charger 2.2",
          "Origin": "USA",
          "Weight_in_lbs": 2370,
          "Year": "1982-01-01T00:00:00"
         },
         {
          "Acceleration": 17.3,
          "Cylinders": 4,
          "Displacement": 151,
          "Horsepower": 90,
          "Miles_per_Gallon": 27,
          "Name": "chevrolet camaro",
          "Origin": "USA",
          "Weight_in_lbs": 2950,
          "Year": "1982-01-01T00:00:00"
         },
         {
          "Acceleration": 15.6,
          "Cylinders": 4,
          "Displacement": 140,
          "Horsepower": 86,
          "Miles_per_Gallon": 27,
          "Name": "ford mustang gl",
          "Origin": "USA",
          "Weight_in_lbs": 2790,
          "Year": "1982-01-01T00:00:00"
         },
         {
          "Acceleration": 24.6,
          "Cylinders": 4,
          "Displacement": 97,
          "Horsepower": 52,
          "Miles_per_Gallon": 44,
          "Name": "vw pickup",
          "Origin": "Europe",
          "Weight_in_lbs": 2130,
          "Year": "1982-01-01T00:00:00"
         },
         {
          "Acceleration": 11.6,
          "Cylinders": 4,
          "Displacement": 135,
          "Horsepower": 84,
          "Miles_per_Gallon": 32,
          "Name": "dodge rampage",
          "Origin": "USA",
          "Weight_in_lbs": 2295,
          "Year": "1982-01-01T00:00:00"
         },
         {
          "Acceleration": 18.6,
          "Cylinders": 4,
          "Displacement": 120,
          "Horsepower": 79,
          "Miles_per_Gallon": 28,
          "Name": "ford ranger",
          "Origin": "USA",
          "Weight_in_lbs": 2625,
          "Year": "1982-01-01T00:00:00"
         },
         {
          "Acceleration": 19.4,
          "Cylinders": 4,
          "Displacement": 119,
          "Horsepower": 82,
          "Miles_per_Gallon": 31,
          "Name": "chevy s-10",
          "Origin": "USA",
          "Weight_in_lbs": 2720,
          "Year": "1982-01-01T00:00:00"
         }
        ]
       },
       "encoding": {
        "color": {
         "field": "Origin",
         "type": "nominal"
        },
        "x": {
         "field": "Horsepower",
         "type": "quantitative"
        },
        "y": {
         "field": "Miles_per_Gallon",
         "type": "quantitative"
        }
       },
       "mark": "point",
       "selection": {
        "selector002": {
         "bind": "scales",
         "encodings": [
          "x",
          "y"
         ],
         "mark": {
          "fill": "#333",
          "fillOpacity": 0.125,
          "stroke": "white"
         },
         "on": "[mousedown, window:mouseup] > window:mousemove!",
         "resolve": "global",
         "translate": "[mousedown, window:mouseup] > window:mousemove!",
         "type": "interval",
         "zoom": "wheel!"
        }
       }
      },
      "image/png": "[encoded data removed]",
      "text/plain": [
       "<VegaLite 2 object>\n",
       "\n",
       "If you see this message, it means the renderer has not been properly enabled\n",
       "for the frontend that you are using. For more information, see\n",
       "https://altair-viz.github.io/user_guide/troubleshooting.html\n"
      ]
     },
     "execution_count": 10,
     "metadata": {},
     "output_type": "execute_result"
    }
   ],
   "source": [
    "import altair as alt\n",
    "\n",
    "# load a simple dataset as a pandas DataFrame\n",
    "from vega_datasets import data\n",
    "cars = data.cars()\n",
    "\n",
    "alt.Chart(cars).mark_point().encode(\n",
    "    x='Horsepower',\n",
    "    y='Miles_per_Gallon',\n",
    "    color='Origin',\n",
    ").interactive()"
   ]
  },
  {
   "cell_type": "code",
   "execution_count": 13,
   "metadata": {},
   "outputs": [
    {
     "data": {
      "application/vnd.vegalite.v2+json": {
       "$schema": "https://vega.github.io/schema/vega-lite/v2.6.0.json",
       "config": {
        "view": {
         "height": 300,
         "width": 400
        }
       },
       "data": {
        "name": "data-a264acbd6e539a8b3afc0cb5f240fb57"
       },
       "datasets": {
        "data-a264acbd6e539a8b3afc0cb5f240fb57": [
         {
          "petalLength": 1.4,
          "petalWidth": 0.2,
          "sepalLength": 5.1,
          "sepalWidth": 3.5,
          "species": "setosa"
         },
         {
          "petalLength": 1.4,
          "petalWidth": 0.2,
          "sepalLength": 4.9,
          "sepalWidth": 3,
          "species": "setosa"
         },
         {
          "petalLength": 1.3,
          "petalWidth": 0.2,
          "sepalLength": 4.7,
          "sepalWidth": 3.2,
          "species": "setosa"
         },
         {
          "petalLength": 1.5,
          "petalWidth": 0.2,
          "sepalLength": 4.6,
          "sepalWidth": 3.1,
          "species": "setosa"
         },
         {
          "petalLength": 1.4,
          "petalWidth": 0.2,
          "sepalLength": 5,
          "sepalWidth": 3.6,
          "species": "setosa"
         },
         {
          "petalLength": 1.7000000000000002,
          "petalWidth": 0.4,
          "sepalLength": 5.4,
          "sepalWidth": 3.9,
          "species": "setosa"
         },
         {
          "petalLength": 1.4,
          "petalWidth": 0.30000000000000004,
          "sepalLength": 4.6,
          "sepalWidth": 3.4,
          "species": "setosa"
         },
         {
          "petalLength": 1.5,
          "petalWidth": 0.2,
          "sepalLength": 5,
          "sepalWidth": 3.4,
          "species": "setosa"
         },
         {
          "petalLength": 1.4,
          "petalWidth": 0.2,
          "sepalLength": 4.4,
          "sepalWidth": 2.9,
          "species": "setosa"
         },
         {
          "petalLength": 1.5,
          "petalWidth": 0.1,
          "sepalLength": 4.9,
          "sepalWidth": 3.1,
          "species": "setosa"
         },
         {
          "petalLength": 1.5,
          "petalWidth": 0.2,
          "sepalLength": 5.4,
          "sepalWidth": 3.7,
          "species": "setosa"
         },
         {
          "petalLength": 1.6,
          "petalWidth": 0.2,
          "sepalLength": 4.8,
          "sepalWidth": 3.4,
          "species": "setosa"
         },
         {
          "petalLength": 1.4,
          "petalWidth": 0.1,
          "sepalLength": 4.8,
          "sepalWidth": 3,
          "species": "setosa"
         },
         {
          "petalLength": 1.1,
          "petalWidth": 0.1,
          "sepalLength": 4.3,
          "sepalWidth": 3,
          "species": "setosa"
         },
         {
          "petalLength": 1.2,
          "petalWidth": 0.2,
          "sepalLength": 5.8,
          "sepalWidth": 4,
          "species": "setosa"
         },
         {
          "petalLength": 1.5,
          "petalWidth": 0.4,
          "sepalLength": 5.7,
          "sepalWidth": 4.4,
          "species": "setosa"
         },
         {
          "petalLength": 1.3,
          "petalWidth": 0.4,
          "sepalLength": 5.4,
          "sepalWidth": 3.9,
          "species": "setosa"
         },
         {
          "petalLength": 1.4,
          "petalWidth": 0.30000000000000004,
          "sepalLength": 5.1,
          "sepalWidth": 3.5,
          "species": "setosa"
         },
         {
          "petalLength": 1.7000000000000002,
          "petalWidth": 0.30000000000000004,
          "sepalLength": 5.7,
          "sepalWidth": 3.8,
          "species": "setosa"
         },
         {
          "petalLength": 1.5,
          "petalWidth": 0.30000000000000004,
          "sepalLength": 5.1,
          "sepalWidth": 3.8,
          "species": "setosa"
         },
         {
          "petalLength": 1.7000000000000002,
          "petalWidth": 0.2,
          "sepalLength": 5.4,
          "sepalWidth": 3.4,
          "species": "setosa"
         },
         {
          "petalLength": 1.5,
          "petalWidth": 0.4,
          "sepalLength": 5.1,
          "sepalWidth": 3.7,
          "species": "setosa"
         },
         {
          "petalLength": 1,
          "petalWidth": 0.2,
          "sepalLength": 4.6,
          "sepalWidth": 3.6,
          "species": "setosa"
         },
         {
          "petalLength": 1.7000000000000002,
          "petalWidth": 0.5,
          "sepalLength": 5.1,
          "sepalWidth": 3.3,
          "species": "setosa"
         },
         {
          "petalLength": 1.9,
          "petalWidth": 0.2,
          "sepalLength": 4.8,
          "sepalWidth": 3.4,
          "species": "setosa"
         },
         {
          "petalLength": 1.6,
          "petalWidth": 0.2,
          "sepalLength": 5,
          "sepalWidth": 3,
          "species": "setosa"
         },
         {
          "petalLength": 1.6,
          "petalWidth": 0.4,
          "sepalLength": 5,
          "sepalWidth": 3.4,
          "species": "setosa"
         },
         {
          "petalLength": 1.5,
          "petalWidth": 0.2,
          "sepalLength": 5.2,
          "sepalWidth": 3.5,
          "species": "setosa"
         },
         {
          "petalLength": 1.4,
          "petalWidth": 0.2,
          "sepalLength": 5.2,
          "sepalWidth": 3.4,
          "species": "setosa"
         },
         {
          "petalLength": 1.6,
          "petalWidth": 0.2,
          "sepalLength": 4.7,
          "sepalWidth": 3.2,
          "species": "setosa"
         },
         {
          "petalLength": 1.6,
          "petalWidth": 0.2,
          "sepalLength": 4.8,
          "sepalWidth": 3.1,
          "species": "setosa"
         },
         {
          "petalLength": 1.5,
          "petalWidth": 0.4,
          "sepalLength": 5.4,
          "sepalWidth": 3.4,
          "species": "setosa"
         },
         {
          "petalLength": 1.5,
          "petalWidth": 0.1,
          "sepalLength": 5.2,
          "sepalWidth": 4.1,
          "species": "setosa"
         },
         {
          "petalLength": 1.4,
          "petalWidth": 0.2,
          "sepalLength": 5.5,
          "sepalWidth": 4.2,
          "species": "setosa"
         },
         {
          "petalLength": 1.5,
          "petalWidth": 0.2,
          "sepalLength": 4.9,
          "sepalWidth": 3.1,
          "species": "setosa"
         },
         {
          "petalLength": 1.2,
          "petalWidth": 0.2,
          "sepalLength": 5,
          "sepalWidth": 3.2,
          "species": "setosa"
         },
         {
          "petalLength": 1.3,
          "petalWidth": 0.2,
          "sepalLength": 5.5,
          "sepalWidth": 3.5,
          "species": "setosa"
         },
         {
          "petalLength": 1.4,
          "petalWidth": 0.1,
          "sepalLength": 4.9,
          "sepalWidth": 3.6,
          "species": "setosa"
         },
         {
          "petalLength": 1.3,
          "petalWidth": 0.2,
          "sepalLength": 4.4,
          "sepalWidth": 3,
          "species": "setosa"
         },
         {
          "petalLength": 1.5,
          "petalWidth": 0.2,
          "sepalLength": 5.1,
          "sepalWidth": 3.4,
          "species": "setosa"
         },
         {
          "petalLength": 1.3,
          "petalWidth": 0.30000000000000004,
          "sepalLength": 5,
          "sepalWidth": 3.5,
          "species": "setosa"
         },
         {
          "petalLength": 1.3,
          "petalWidth": 0.30000000000000004,
          "sepalLength": 4.5,
          "sepalWidth": 2.3,
          "species": "setosa"
         },
         {
          "petalLength": 1.3,
          "petalWidth": 0.2,
          "sepalLength": 4.4,
          "sepalWidth": 3.2,
          "species": "setosa"
         },
         {
          "petalLength": 1.6,
          "petalWidth": 0.6000000000000001,
          "sepalLength": 5,
          "sepalWidth": 3.5,
          "species": "setosa"
         },
         {
          "petalLength": 1.9,
          "petalWidth": 0.4,
          "sepalLength": 5.1,
          "sepalWidth": 3.8,
          "species": "setosa"
         },
         {
          "petalLength": 1.4,
          "petalWidth": 0.30000000000000004,
          "sepalLength": 4.8,
          "sepalWidth": 3,
          "species": "setosa"
         },
         {
          "petalLength": 1.6,
          "petalWidth": 0.2,
          "sepalLength": 5.1,
          "sepalWidth": 3.8,
          "species": "setosa"
         },
         {
          "petalLength": 1.4,
          "petalWidth": 0.2,
          "sepalLength": 4.6,
          "sepalWidth": 3.2,
          "species": "setosa"
         },
         {
          "petalLength": 1.5,
          "petalWidth": 0.2,
          "sepalLength": 5.3,
          "sepalWidth": 3.7,
          "species": "setosa"
         },
         {
          "petalLength": 1.4,
          "petalWidth": 0.2,
          "sepalLength": 5,
          "sepalWidth": 3.3,
          "species": "setosa"
         },
         {
          "petalLength": 4.7,
          "petalWidth": 1.4,
          "sepalLength": 7,
          "sepalWidth": 3.2,
          "species": "versicolor"
         },
         {
          "petalLength": 4.5,
          "petalWidth": 1.5,
          "sepalLength": 6.4,
          "sepalWidth": 3.2,
          "species": "versicolor"
         },
         {
          "petalLength": 4.9,
          "petalWidth": 1.5,
          "sepalLength": 6.9,
          "sepalWidth": 3.1,
          "species": "versicolor"
         },
         {
          "petalLength": 4,
          "petalWidth": 1.3,
          "sepalLength": 5.5,
          "sepalWidth": 2.3,
          "species": "versicolor"
         },
         {
          "petalLength": 4.6,
          "petalWidth": 1.5,
          "sepalLength": 6.5,
          "sepalWidth": 2.8,
          "species": "versicolor"
         },
         {
          "petalLength": 4.5,
          "petalWidth": 1.3,
          "sepalLength": 5.7,
          "sepalWidth": 2.8,
          "species": "versicolor"
         },
         {
          "petalLength": 4.7,
          "petalWidth": 1.6,
          "sepalLength": 6.3,
          "sepalWidth": 3.3,
          "species": "versicolor"
         },
         {
          "petalLength": 3.3,
          "petalWidth": 1,
          "sepalLength": 4.9,
          "sepalWidth": 2.4,
          "species": "versicolor"
         },
         {
          "petalLength": 4.6,
          "petalWidth": 1.3,
          "sepalLength": 6.6,
          "sepalWidth": 2.9,
          "species": "versicolor"
         },
         {
          "petalLength": 3.9,
          "petalWidth": 1.4,
          "sepalLength": 5.2,
          "sepalWidth": 2.7,
          "species": "versicolor"
         },
         {
          "petalLength": 3.5,
          "petalWidth": 1,
          "sepalLength": 5,
          "sepalWidth": 2,
          "species": "versicolor"
         },
         {
          "petalLength": 4.2,
          "petalWidth": 1.5,
          "sepalLength": 5.9,
          "sepalWidth": 3,
          "species": "versicolor"
         },
         {
          "petalLength": 4,
          "petalWidth": 1,
          "sepalLength": 6,
          "sepalWidth": 2.2,
          "species": "versicolor"
         },
         {
          "petalLength": 4.7,
          "petalWidth": 1.4,
          "sepalLength": 6.1,
          "sepalWidth": 2.9,
          "species": "versicolor"
         },
         {
          "petalLength": 3.6,
          "petalWidth": 1.3,
          "sepalLength": 5.6,
          "sepalWidth": 2.9,
          "species": "versicolor"
         },
         {
          "petalLength": 4.4,
          "petalWidth": 1.4,
          "sepalLength": 6.7,
          "sepalWidth": 3.1,
          "species": "versicolor"
         },
         {
          "petalLength": 4.5,
          "petalWidth": 1.5,
          "sepalLength": 5.6,
          "sepalWidth": 3,
          "species": "versicolor"
         },
         {
          "petalLength": 4.1,
          "petalWidth": 1,
          "sepalLength": 5.8,
          "sepalWidth": 2.7,
          "species": "versicolor"
         },
         {
          "petalLength": 4.5,
          "petalWidth": 1.5,
          "sepalLength": 6.2,
          "sepalWidth": 2.2,
          "species": "versicolor"
         },
         {
          "petalLength": 3.9,
          "petalWidth": 1.1,
          "sepalLength": 5.6,
          "sepalWidth": 2.5,
          "species": "versicolor"
         },
         {
          "petalLength": 4.8,
          "petalWidth": 1.8,
          "sepalLength": 5.9,
          "sepalWidth": 3.2,
          "species": "versicolor"
         },
         {
          "petalLength": 4,
          "petalWidth": 1.3,
          "sepalLength": 6.1,
          "sepalWidth": 2.8,
          "species": "versicolor"
         },
         {
          "petalLength": 4.9,
          "petalWidth": 1.5,
          "sepalLength": 6.3,
          "sepalWidth": 2.5,
          "species": "versicolor"
         },
         {
          "petalLength": 4.7,
          "petalWidth": 1.2,
          "sepalLength": 6.1,
          "sepalWidth": 2.8,
          "species": "versicolor"
         },
         {
          "petalLength": 4.3,
          "petalWidth": 1.3,
          "sepalLength": 6.4,
          "sepalWidth": 2.9,
          "species": "versicolor"
         },
         {
          "petalLength": 4.4,
          "petalWidth": 1.4,
          "sepalLength": 6.6,
          "sepalWidth": 3,
          "species": "versicolor"
         },
         {
          "petalLength": 4.8,
          "petalWidth": 1.4,
          "sepalLength": 6.8,
          "sepalWidth": 2.8,
          "species": "versicolor"
         },
         {
          "petalLength": 5,
          "petalWidth": 1.7000000000000002,
          "sepalLength": 6.7,
          "sepalWidth": 3,
          "species": "versicolor"
         },
         {
          "petalLength": 4.5,
          "petalWidth": 1.5,
          "sepalLength": 6,
          "sepalWidth": 2.9,
          "species": "versicolor"
         },
         {
          "petalLength": 3.5,
          "petalWidth": 1,
          "sepalLength": 5.7,
          "sepalWidth": 2.6,
          "species": "versicolor"
         },
         {
          "petalLength": 3.8,
          "petalWidth": 1.1,
          "sepalLength": 5.5,
          "sepalWidth": 2.4,
          "species": "versicolor"
         },
         {
          "petalLength": 3.7,
          "petalWidth": 1,
          "sepalLength": 5.5,
          "sepalWidth": 2.4,
          "species": "versicolor"
         },
         {
          "petalLength": 3.9,
          "petalWidth": 1.2,
          "sepalLength": 5.8,
          "sepalWidth": 2.7,
          "species": "versicolor"
         },
         {
          "petalLength": 5.1,
          "petalWidth": 1.6,
          "sepalLength": 6,
          "sepalWidth": 2.7,
          "species": "versicolor"
         },
         {
          "petalLength": 4.5,
          "petalWidth": 1.5,
          "sepalLength": 5.4,
          "sepalWidth": 3,
          "species": "versicolor"
         },
         {
          "petalLength": 4.5,
          "petalWidth": 1.6,
          "sepalLength": 6,
          "sepalWidth": 3.4,
          "species": "versicolor"
         },
         {
          "petalLength": 4.7,
          "petalWidth": 1.5,
          "sepalLength": 6.7,
          "sepalWidth": 3.1,
          "species": "versicolor"
         },
         {
          "petalLength": 4.4,
          "petalWidth": 1.3,
          "sepalLength": 6.3,
          "sepalWidth": 2.3,
          "species": "versicolor"
         },
         {
          "petalLength": 4.1,
          "petalWidth": 1.3,
          "sepalLength": 5.6,
          "sepalWidth": 3,
          "species": "versicolor"
         },
         {
          "petalLength": 4,
          "petalWidth": 1.3,
          "sepalLength": 5.5,
          "sepalWidth": 2.5,
          "species": "versicolor"
         },
         {
          "petalLength": 4.4,
          "petalWidth": 1.2,
          "sepalLength": 5.5,
          "sepalWidth": 2.6,
          "species": "versicolor"
         },
         {
          "petalLength": 4.6,
          "petalWidth": 1.4,
          "sepalLength": 6.1,
          "sepalWidth": 3,
          "species": "versicolor"
         },
         {
          "petalLength": 4,
          "petalWidth": 1.2,
          "sepalLength": 5.8,
          "sepalWidth": 2.6,
          "species": "versicolor"
         },
         {
          "petalLength": 3.3,
          "petalWidth": 1,
          "sepalLength": 5,
          "sepalWidth": 2.3,
          "species": "versicolor"
         },
         {
          "petalLength": 4.2,
          "petalWidth": 1.3,
          "sepalLength": 5.6,
          "sepalWidth": 2.7,
          "species": "versicolor"
         },
         {
          "petalLength": 4.2,
          "petalWidth": 1.2,
          "sepalLength": 5.7,
          "sepalWidth": 3,
          "species": "versicolor"
         },
         {
          "petalLength": 4.2,
          "petalWidth": 1.3,
          "sepalLength": 5.7,
          "sepalWidth": 2.9,
          "species": "versicolor"
         },
         {
          "petalLength": 4.3,
          "petalWidth": 1.3,
          "sepalLength": 6.2,
          "sepalWidth": 2.9,
          "species": "versicolor"
         },
         {
          "petalLength": 3,
          "petalWidth": 1.1,
          "sepalLength": 5.1,
          "sepalWidth": 2.5,
          "species": "versicolor"
         },
         {
          "petalLength": 4.1,
          "petalWidth": 1.3,
          "sepalLength": 5.7,
          "sepalWidth": 2.8,
          "species": "versicolor"
         },
         {
          "petalLength": 6,
          "petalWidth": 2.5,
          "sepalLength": 6.3,
          "sepalWidth": 3.3,
          "species": "virginica"
         },
         {
          "petalLength": 5.1,
          "petalWidth": 1.9,
          "sepalLength": 5.8,
          "sepalWidth": 2.7,
          "species": "virginica"
         },
         {
          "petalLength": 5.9,
          "petalWidth": 2.1,
          "sepalLength": 7.1,
          "sepalWidth": 3,
          "species": "virginica"
         },
         {
          "petalLength": 5.6,
          "petalWidth": 1.8,
          "sepalLength": 6.3,
          "sepalWidth": 2.9,
          "species": "virginica"
         },
         {
          "petalLength": 5.8,
          "petalWidth": 2.2,
          "sepalLength": 6.5,
          "sepalWidth": 3,
          "species": "virginica"
         },
         {
          "petalLength": 6.6,
          "petalWidth": 2.1,
          "sepalLength": 7.6,
          "sepalWidth": 3,
          "species": "virginica"
         },
         {
          "petalLength": 4.5,
          "petalWidth": 1.7000000000000002,
          "sepalLength": 4.9,
          "sepalWidth": 2.5,
          "species": "virginica"
         },
         {
          "petalLength": 6.3,
          "petalWidth": 1.8,
          "sepalLength": 7.3,
          "sepalWidth": 2.9,
          "species": "virginica"
         },
         {
          "petalLength": 5.8,
          "petalWidth": 1.8,
          "sepalLength": 6.7,
          "sepalWidth": 2.5,
          "species": "virginica"
         },
         {
          "petalLength": 6.1,
          "petalWidth": 2.5,
          "sepalLength": 7.2,
          "sepalWidth": 3.6,
          "species": "virginica"
         },
         {
          "petalLength": 5.1,
          "petalWidth": 2,
          "sepalLength": 6.5,
          "sepalWidth": 3.2,
          "species": "virginica"
         },
         {
          "petalLength": 5.3,
          "petalWidth": 1.9,
          "sepalLength": 6.4,
          "sepalWidth": 2.7,
          "species": "virginica"
         },
         {
          "petalLength": 5.5,
          "petalWidth": 2.1,
          "sepalLength": 6.8,
          "sepalWidth": 3,
          "species": "virginica"
         },
         {
          "petalLength": 5,
          "petalWidth": 2,
          "sepalLength": 5.7,
          "sepalWidth": 2.5,
          "species": "virginica"
         },
         {
          "petalLength": 5.1,
          "petalWidth": 2.4,
          "sepalLength": 5.8,
          "sepalWidth": 2.8,
          "species": "virginica"
         },
         {
          "petalLength": 5.3,
          "petalWidth": 2.3,
          "sepalLength": 6.4,
          "sepalWidth": 3.2,
          "species": "virginica"
         },
         {
          "petalLength": 5.5,
          "petalWidth": 1.8,
          "sepalLength": 6.5,
          "sepalWidth": 3,
          "species": "virginica"
         },
         {
          "petalLength": 6.7,
          "petalWidth": 2.2,
          "sepalLength": 7.7,
          "sepalWidth": 3.8,
          "species": "virginica"
         },
         {
          "petalLength": 6.9,
          "petalWidth": 2.3,
          "sepalLength": 7.7,
          "sepalWidth": 2.6,
          "species": "virginica"
         },
         {
          "petalLength": 5,
          "petalWidth": 1.5,
          "sepalLength": 6,
          "sepalWidth": 2.2,
          "species": "virginica"
         },
         {
          "petalLength": 5.7,
          "petalWidth": 2.3,
          "sepalLength": 6.9,
          "sepalWidth": 3.2,
          "species": "virginica"
         },
         {
          "petalLength": 4.9,
          "petalWidth": 2,
          "sepalLength": 5.6,
          "sepalWidth": 2.8,
          "species": "virginica"
         },
         {
          "petalLength": 6.7,
          "petalWidth": 2,
          "sepalLength": 7.7,
          "sepalWidth": 2.8,
          "species": "virginica"
         },
         {
          "petalLength": 4.9,
          "petalWidth": 1.8,
          "sepalLength": 6.3,
          "sepalWidth": 2.7,
          "species": "virginica"
         },
         {
          "petalLength": 5.7,
          "petalWidth": 2.1,
          "sepalLength": 6.7,
          "sepalWidth": 3.3,
          "species": "virginica"
         },
         {
          "petalLength": 6,
          "petalWidth": 1.8,
          "sepalLength": 7.2,
          "sepalWidth": 3.2,
          "species": "virginica"
         },
         {
          "petalLength": 4.8,
          "petalWidth": 1.8,
          "sepalLength": 6.2,
          "sepalWidth": 2.8,
          "species": "virginica"
         },
         {
          "petalLength": 4.9,
          "petalWidth": 1.8,
          "sepalLength": 6.1,
          "sepalWidth": 3,
          "species": "virginica"
         },
         {
          "petalLength": 5.6,
          "petalWidth": 2.1,
          "sepalLength": 6.4,
          "sepalWidth": 2.8,
          "species": "virginica"
         },
         {
          "petalLength": 5.8,
          "petalWidth": 1.6,
          "sepalLength": 7.2,
          "sepalWidth": 3,
          "species": "virginica"
         },
         {
          "petalLength": 6.1,
          "petalWidth": 1.9,
          "sepalLength": 7.4,
          "sepalWidth": 2.8,
          "species": "virginica"
         },
         {
          "petalLength": 6.4,
          "petalWidth": 2,
          "sepalLength": 7.9,
          "sepalWidth": 3.8,
          "species": "virginica"
         },
         {
          "petalLength": 5.6,
          "petalWidth": 2.2,
          "sepalLength": 6.4,
          "sepalWidth": 2.8,
          "species": "virginica"
         },
         {
          "petalLength": 5.1,
          "petalWidth": 1.5,
          "sepalLength": 6.3,
          "sepalWidth": 2.8,
          "species": "virginica"
         },
         {
          "petalLength": 5.6,
          "petalWidth": 1.4,
          "sepalLength": 6.1,
          "sepalWidth": 2.6,
          "species": "virginica"
         },
         {
          "petalLength": 6.1,
          "petalWidth": 2.3,
          "sepalLength": 7.7,
          "sepalWidth": 3,
          "species": "virginica"
         },
         {
          "petalLength": 5.6,
          "petalWidth": 2.4,
          "sepalLength": 6.3,
          "sepalWidth": 3.4,
          "species": "virginica"
         },
         {
          "petalLength": 5.5,
          "petalWidth": 1.8,
          "sepalLength": 6.4,
          "sepalWidth": 3.1,
          "species": "virginica"
         },
         {
          "petalLength": 4.8,
          "petalWidth": 1.8,
          "sepalLength": 6,
          "sepalWidth": 3,
          "species": "virginica"
         },
         {
          "petalLength": 5.4,
          "petalWidth": 2.1,
          "sepalLength": 6.9,
          "sepalWidth": 3.1,
          "species": "virginica"
         },
         {
          "petalLength": 5.6,
          "petalWidth": 2.4,
          "sepalLength": 6.7,
          "sepalWidth": 3.1,
          "species": "virginica"
         },
         {
          "petalLength": 5.1,
          "petalWidth": 2.3,
          "sepalLength": 6.9,
          "sepalWidth": 3.1,
          "species": "virginica"
         },
         {
          "petalLength": 5.1,
          "petalWidth": 1.9,
          "sepalLength": 5.8,
          "sepalWidth": 2.7,
          "species": "virginica"
         },
         {
          "petalLength": 5.9,
          "petalWidth": 2.3,
          "sepalLength": 6.8,
          "sepalWidth": 3.2,
          "species": "virginica"
         },
         {
          "petalLength": 5.7,
          "petalWidth": 2.5,
          "sepalLength": 6.7,
          "sepalWidth": 3.3,
          "species": "virginica"
         },
         {
          "petalLength": 5.2,
          "petalWidth": 2.3,
          "sepalLength": 6.7,
          "sepalWidth": 3,
          "species": "virginica"
         },
         {
          "petalLength": 5,
          "petalWidth": 1.9,
          "sepalLength": 6.3,
          "sepalWidth": 2.5,
          "species": "virginica"
         },
         {
          "petalLength": 5.2,
          "petalWidth": 2,
          "sepalLength": 6.5,
          "sepalWidth": 3,
          "species": "virginica"
         },
         {
          "petalLength": 5.4,
          "petalWidth": 2.3,
          "sepalLength": 6.2,
          "sepalWidth": 3.4,
          "species": "virginica"
         },
         {
          "petalLength": 5.1,
          "petalWidth": 1.8,
          "sepalLength": 5.9,
          "sepalWidth": 3,
          "species": "virginica"
         }
        ]
       },
       "encoding": {
        "color": {
         "field": "species",
         "type": "nominal"
        },
        "x": {
         "field": "petalLength",
         "type": "quantitative"
        },
        "y": {
         "field": "petalWidth",
         "type": "quantitative"
        }
       },
       "mark": "point"
      },
      "image/png": "[encoded data removed]",
      "text/plain": [
       "<VegaLite 2 object>\n",
       "\n",
       "If you see this message, it means the renderer has not been properly enabled\n",
       "for the frontend that you are using. For more information, see\n",
       "https://altair-viz.github.io/user_guide/troubleshooting.html\n"
      ]
     },
     "execution_count": 13,
     "metadata": {},
     "output_type": "execute_result"
    }
   ],
   "source": [
    "from vega_datasets import data\n",
    "\n",
    "iris = data.iris()\n",
    "\n",
    "alt.Chart(iris).mark_point().encode(\n",
    "    x='petalLength',\n",
    "    y='petalWidth',\n",
    "    color='species'\n",
    ")"
   ]
  },
  {
   "cell_type": "code",
   "execution_count": null,
   "metadata": {},
   "outputs": [],
   "source": []
  }
 ],
 "metadata": {
  "kernelspec": {
   "display_name": "Python 3",
   "language": "python",
   "name": "python3"
  },
  "language_info": {
   "codemirror_mode": {
    "name": "ipython",
    "version": 3
   },
   "file_extension": ".py",
   "mimetype": "text/x-python",
   "name": "python",
   "nbconvert_exporter": "python",
   "pygments_lexer": "ipython3",
   "version": "3.6.6"
  }
 },
 "nbformat": 4,
 "nbformat_minor": 2
}
