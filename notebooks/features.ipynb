{
 "cells": [
  {
   "cell_type": "code",
   "execution_count": 1,
   "metadata": {},
   "outputs": [],
   "source": [
    "import numpy as np \n",
    "import pandas as pd\n",
    "import seaborn as sns\n",
    "sns.reset_defaults\n",
    "# sns.set_style(style='darkgrid')\n",
    "import matplotlib.pyplot as plt\n",
    "plt.style.use('ggplot')\n",
    "font = {'size'   : 16}\n",
    "plt.rc('font', **font)\n",
    "plt.ion()\n",
    "%matplotlib inline\n",
    "plt.rcParams[\"patch.force_edgecolor\"] = True\n",
    "plt.rcParams['figure.figsize'] = (20.0, 10.0)\n",
    "pd.set_option('display.max_columns', 2000)\n",
    "pd.set_option('display.max_rows', 2000)\n",
    "from sklearn.ensemble import RandomForestClassifier\n",
    "from sklearn.model_selection import train_test_split\n",
    "from sklearn.metrics import classification_report, confusion_matrix"
   ]
  },
  {
   "cell_type": "code",
   "execution_count": 2,
   "metadata": {},
   "outputs": [
    {
     "name": "stdout",
     "output_type": "stream",
     "text": [
      "/Users/jeremymiller/GoogleDrive/Data_Science/Galvanize/dsi-capstone\n"
     ]
    }
   ],
   "source": [
    "cd .."
   ]
  },
  {
   "cell_type": "code",
   "execution_count": 3,
   "metadata": {},
   "outputs": [],
   "source": [
    "import src.features.build_features as bf"
   ]
  },
  {
   "cell_type": "code",
   "execution_count": 4,
   "metadata": {},
   "outputs": [
    {
     "name": "stdout",
     "output_type": "stream",
     "text": [
      "/Users/jeremymiller/GoogleDrive/Data_Science/Galvanize/dsi-capstone/src\n"
     ]
    }
   ],
   "source": [
    "cd src/"
   ]
  },
  {
   "cell_type": "markdown",
   "metadata": {},
   "source": [
    "## Features in student info"
   ]
  },
  {
   "cell_type": "code",
   "execution_count": 14,
   "metadata": {},
   "outputs": [],
   "source": [
    "df = pd.read_csv('../data/raw/studentInfo.csv')"
   ]
  },
  {
   "cell_type": "code",
   "execution_count": 15,
   "metadata": {},
   "outputs": [
    {
     "name": "stdout",
     "output_type": "stream",
     "text": [
      "<class 'pandas.core.frame.DataFrame'>\n",
      "RangeIndex: 32593 entries, 0 to 32592\n",
      "Data columns (total 12 columns):\n",
      "code_module             32593 non-null object\n",
      "code_presentation       32593 non-null object\n",
      "id_student              32593 non-null int64\n",
      "gender                  32593 non-null object\n",
      "region                  32593 non-null object\n",
      "highest_education       32593 non-null object\n",
      "imd_band                31482 non-null object\n",
      "age_band                32593 non-null object\n",
      "num_of_prev_attempts    32593 non-null int64\n",
      "studied_credits         32593 non-null int64\n",
      "disability              32593 non-null object\n",
      "final_result            32593 non-null object\n",
      "dtypes: int64(3), object(9)\n",
      "memory usage: 3.0+ MB\n"
     ]
    }
   ],
   "source": [
    "df.info()"
   ]
  },
  {
   "cell_type": "code",
   "execution_count": 16,
   "metadata": {},
   "outputs": [],
   "source": [
    "df = bf.drop_nulls(df)"
   ]
  },
  {
   "cell_type": "code",
   "execution_count": 17,
   "metadata": {},
   "outputs": [],
   "source": [
    "cols = ['gender', 'region', 'highest_education', 'imd_band', 'age_band', 'disability']"
   ]
  },
  {
   "cell_type": "code",
   "execution_count": 18,
   "metadata": {},
   "outputs": [],
   "source": [
    "df = bf.one_hot(df, cols)"
   ]
  },
  {
   "cell_type": "code",
   "execution_count": 19,
   "metadata": {},
   "outputs": [],
   "source": [
    "df_trans = bf._encode_target(df)"
   ]
  },
  {
   "cell_type": "code",
   "execution_count": 21,
   "metadata": {},
   "outputs": [
    {
     "name": "stdout",
     "output_type": "stream",
     "text": [
      "<class 'pandas.core.frame.DataFrame'>\n",
      "Int64Index: 31482 entries, 0 to 32592\n",
      "Data columns (total 42 columns):\n",
      "code_module                                      31482 non-null object\n",
      "code_presentation                                31482 non-null object\n",
      "id_student                                       31482 non-null int64\n",
      "num_of_prev_attempts                             31482 non-null int64\n",
      "studied_credits                                  31482 non-null int64\n",
      "final_result                                     31482 non-null object\n",
      "gender_M                                         31482 non-null uint8\n",
      "gender_nan                                       31482 non-null uint8\n",
      "region_East Midlands Region                      31482 non-null uint8\n",
      "region_Ireland                                   31482 non-null uint8\n",
      "region_London Region                             31482 non-null uint8\n",
      "region_North Region                              31482 non-null uint8\n",
      "region_North Western Region                      31482 non-null uint8\n",
      "region_Scotland                                  31482 non-null uint8\n",
      "region_South East Region                         31482 non-null uint8\n",
      "region_South Region                              31482 non-null uint8\n",
      "region_South West Region                         31482 non-null uint8\n",
      "region_Wales                                     31482 non-null uint8\n",
      "region_West Midlands Region                      31482 non-null uint8\n",
      "region_Yorkshire Region                          31482 non-null uint8\n",
      "region_nan                                       31482 non-null uint8\n",
      "highest_education_HE Qualification               31482 non-null uint8\n",
      "highest_education_Lower Than A Level             31482 non-null uint8\n",
      "highest_education_No Formal quals                31482 non-null uint8\n",
      "highest_education_Post Graduate Qualification    31482 non-null uint8\n",
      "highest_education_nan                            31482 non-null uint8\n",
      "imd_band_10-20                                   31482 non-null uint8\n",
      "imd_band_20-30%                                  31482 non-null uint8\n",
      "imd_band_30-40%                                  31482 non-null uint8\n",
      "imd_band_40-50%                                  31482 non-null uint8\n",
      "imd_band_50-60%                                  31482 non-null uint8\n",
      "imd_band_60-70%                                  31482 non-null uint8\n",
      "imd_band_70-80%                                  31482 non-null uint8\n",
      "imd_band_80-90%                                  31482 non-null uint8\n",
      "imd_band_90-100%                                 31482 non-null uint8\n",
      "imd_band_nan                                     31482 non-null uint8\n",
      "age_band_35-55                                   31482 non-null uint8\n",
      "age_band_55<=                                    31482 non-null uint8\n",
      "age_band_nan                                     31482 non-null uint8\n",
      "disability_Y                                     31482 non-null uint8\n",
      "disability_nan                                   31482 non-null uint8\n",
      "module_completed                                 31482 non-null bool\n",
      "dtypes: bool(1), int64(3), object(3), uint8(35)\n",
      "memory usage: 2.8+ MB\n"
     ]
    }
   ],
   "source": [
    "df_trans.info()"
   ]
  },
  {
   "cell_type": "code",
   "execution_count": 23,
   "metadata": {},
   "outputs": [],
   "source": [
    "model = RandomForestClassifier()"
   ]
  },
  {
   "cell_type": "code",
   "execution_count": 28,
   "metadata": {},
   "outputs": [],
   "source": [
    "X = df_trans.drop(['id_student', 'final_result', 'module_completed',\n",
    "                   'code_module', 'code_presentation'], axis = 1)"
   ]
  },
  {
   "cell_type": "code",
   "execution_count": 25,
   "metadata": {},
   "outputs": [],
   "source": [
    "y = df_trans['module_completed']"
   ]
  },
  {
   "cell_type": "code",
   "execution_count": 29,
   "metadata": {},
   "outputs": [],
   "source": [
    "X_train, X_test, y_train, y_test = train_test_split(X, y, test_size=0.3, random_state=24)"
   ]
  },
  {
   "cell_type": "code",
   "execution_count": 30,
   "metadata": {},
   "outputs": [
    {
     "data": {
      "text/plain": [
       "RandomForestClassifier(bootstrap=True, class_weight=None, criterion='gini',\n",
       "            max_depth=None, max_features='auto', max_leaf_nodes=None,\n",
       "            min_impurity_decrease=0.0, min_impurity_split=None,\n",
       "            min_samples_leaf=1, min_samples_split=2,\n",
       "            min_weight_fraction_leaf=0.0, n_estimators=10, n_jobs=None,\n",
       "            oob_score=False, random_state=None, verbose=0,\n",
       "            warm_start=False)"
      ]
     },
     "execution_count": 30,
     "metadata": {},
     "output_type": "execute_result"
    }
   ],
   "source": [
    "model.fit(X_train, y_train)"
   ]
  },
  {
   "cell_type": "code",
   "execution_count": 31,
   "metadata": {},
   "outputs": [],
   "source": [
    "predictions = model.predict(X_test)"
   ]
  },
  {
   "cell_type": "code",
   "execution_count": 33,
   "metadata": {},
   "outputs": [
    {
     "name": "stdout",
     "output_type": "stream",
     "text": [
      "              precision    recall  f1-score   support\n",
      "\n",
      "       False       0.59      0.61      0.60      5076\n",
      "        True       0.53      0.51      0.52      4369\n",
      "\n",
      "   micro avg       0.57      0.57      0.57      9445\n",
      "   macro avg       0.56      0.56      0.56      9445\n",
      "weighted avg       0.57      0.57      0.57      9445\n",
      "\n"
     ]
    }
   ],
   "source": [
    "print(classification_report(y_test, predictions))"
   ]
  },
  {
   "cell_type": "markdown",
   "metadata": {},
   "source": [
    "## Create final grade"
   ]
  },
  {
   "cell_type": "code",
   "execution_count": 7,
   "metadata": {},
   "outputs": [],
   "source": [
    "# join assessments to student assessments"
   ]
  },
  {
   "cell_type": "code",
   "execution_count": 8,
   "metadata": {},
   "outputs": [],
   "source": [
    "std_asmt_df = pd.read_csv('../data/raw/studentAssessment.csv')"
   ]
  },
  {
   "cell_type": "code",
   "execution_count": 10,
   "metadata": {},
   "outputs": [],
   "source": [
    "asmt_df = pd.read_csv('../data/raw/assessments.csv')"
   ]
  },
  {
   "cell_type": "code",
   "execution_count": null,
   "metadata": {},
   "outputs": [],
   "source": []
  }
 ],
 "metadata": {
  "kernelspec": {
   "display_name": "Python 3",
   "language": "python",
   "name": "python3"
  },
  "language_info": {
   "codemirror_mode": {
    "name": "ipython",
    "version": 3
   },
   "file_extension": ".py",
   "mimetype": "text/x-python",
   "name": "python",
   "nbconvert_exporter": "python",
   "pygments_lexer": "ipython3",
   "version": "3.6.6"
  }
 },
 "nbformat": 4,
 "nbformat_minor": 2
}
