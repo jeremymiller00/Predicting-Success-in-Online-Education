{
 "cells": [
  {
   "cell_type": "code",
   "execution_count": 7,
   "metadata": {},
   "outputs": [],
   "source": [
    "import pyspark as ps\n",
    "import matplotlib.pyplot as plt\n",
    "import pandas as pd\n",
    "import numpy as np\n",
    "%matplotlib inline"
   ]
  },
  {
   "cell_type": "code",
   "execution_count": 26,
   "metadata": {},
   "outputs": [],
   "source": [
    "from pyspark.ml.feature import VectorAssembler\n",
    "from pyspark.ml.feature import MinMaxScaler\n",
    "from pyspark.ml.regression import LinearRegression\n",
    "from pyspark.ml.evaluation import RegressionEvaluator\n",
    "from pyspark.ml.tuning import ParamGridBuilder, TrainValidationSplit"
   ]
  },
  {
   "cell_type": "code",
   "execution_count": 2,
   "metadata": {},
   "outputs": [],
   "source": [
    "sc = spark.sparkContext"
   ]
  },
  {
   "cell_type": "code",
   "execution_count": 6,
   "metadata": {},
   "outputs": [],
   "source": [
    "df = spark.read.csv('s3a://jm-uk-bucket/studentVle.csv', \n",
    "                    header=True,\n",
    "                   inferSchema=True)"
   ]
  },
  {
   "cell_type": "code",
   "execution_count": 8,
   "metadata": {},
   "outputs": [
    {
     "name": "stdout",
     "output_type": "stream",
     "text": [
      "+-----------+-----------------+----------+-------+----+---------+\n",
      "|code_module|code_presentation|id_student|id_site|date|sum_click|\n",
      "+-----------+-----------------+----------+-------+----+---------+\n",
      "|        AAA|            2013J|     28400| 546652| -10|        4|\n",
      "|        AAA|            2013J|     28400| 546652| -10|        1|\n",
      "|        AAA|            2013J|     28400| 546652| -10|        1|\n",
      "|        AAA|            2013J|     28400| 546614| -10|       11|\n",
      "|        AAA|            2013J|     28400| 546714| -10|        1|\n",
      "|        AAA|            2013J|     28400| 546652| -10|        8|\n",
      "|        AAA|            2013J|     28400| 546876| -10|        2|\n",
      "|        AAA|            2013J|     28400| 546688| -10|       15|\n",
      "|        AAA|            2013J|     28400| 546662| -10|       17|\n",
      "|        AAA|            2013J|     28400| 546890| -10|        1|\n",
      "|        AAA|            2013J|     28400| 547011| -10|        1|\n",
      "|        AAA|            2013J|     28400| 547013| -10|        1|\n",
      "|        AAA|            2013J|     28400| 546871| -10|        3|\n",
      "|        AAA|            2013J|     28400| 546879| -10|        4|\n",
      "|        AAA|            2013J|     30268| 546652| -10|        3|\n",
      "|        AAA|            2013J|     30268| 546662| -10|        2|\n",
      "|        AAA|            2013J|     30268| 546614| -10|        3|\n",
      "|        AAA|            2013J|     30268| 546652| -10|        2|\n",
      "|        AAA|            2013J|     31604| 546672| -10|        1|\n",
      "|        AAA|            2013J|     31604| 547013| -10|        5|\n",
      "+-----------+-----------------+----------+-------+----+---------+\n",
      "only showing top 20 rows\n",
      "\n"
     ]
    }
   ],
   "source": [
    "df.show()"
   ]
  },
  {
   "cell_type": "code",
   "execution_count": 9,
   "metadata": {},
   "outputs": [
    {
     "name": "stdout",
     "output_type": "stream",
     "text": [
      "root\n",
      " |-- code_module: string (nullable = true)\n",
      " |-- code_presentation: string (nullable = true)\n",
      " |-- id_student: integer (nullable = true)\n",
      " |-- id_site: integer (nullable = true)\n",
      " |-- date: integer (nullable = true)\n",
      " |-- sum_click: integer (nullable = true)\n",
      "\n"
     ]
    }
   ],
   "source": [
    "df.printSchema()"
   ]
  },
  {
   "cell_type": "code",
   "execution_count": 13,
   "metadata": {},
   "outputs": [
    {
     "name": "stdout",
     "output_type": "stream",
     "text": [
      "+-------+-----------+-----------------+-----------------+------------------+-----------------+------------------+\n",
      "|summary|code_module|code_presentation|       id_student|           id_site|             date|         sum_click|\n",
      "+-------+-----------+-----------------+-----------------+------------------+-----------------+------------------+\n",
      "|  count|   10655280|         10655280|         10655280|          10655280|         10655280|          10655280|\n",
      "|   mean|       null|             null|733333.5668717293|  738323.416399569|95.17399955702713|3.7169458709672574|\n",
      "| stddev|       null|             null|582705.9825107378|131219.62216193537|76.07130084050284| 8.849046655101438|\n",
      "|    min|        AAA|            2013B|             6516|            526721|              -25|                 1|\n",
      "|    max|        GGG|            2014J|          2698588|           1049562|              269|              6977|\n",
      "+-------+-----------+-----------------+-----------------+------------------+-----------------+------------------+\n",
      "\n"
     ]
    }
   ],
   "source": [
    "df.describe().show()"
   ]
  },
  {
   "cell_type": "code",
   "execution_count": 17,
   "metadata": {},
   "outputs": [],
   "source": [
    "vec_ass = VectorAssembler(inputCols=['id_site', 'date'],\n",
    "                         outputCol = 'features')"
   ]
  },
  {
   "cell_type": "code",
   "execution_count": 18,
   "metadata": {},
   "outputs": [],
   "source": [
    "df_vector = vec_ass.transform(df)"
   ]
  },
  {
   "cell_type": "code",
   "execution_count": 19,
   "metadata": {},
   "outputs": [
    {
     "name": "stdout",
     "output_type": "stream",
     "text": [
      "+-----------+-----------------+----------+-------+----+---------+----------------+\n",
      "|code_module|code_presentation|id_student|id_site|date|sum_click|        features|\n",
      "+-----------+-----------------+----------+-------+----+---------+----------------+\n",
      "|        AAA|            2013J|     28400| 546652| -10|        4|[546652.0,-10.0]|\n",
      "|        AAA|            2013J|     28400| 546652| -10|        1|[546652.0,-10.0]|\n",
      "|        AAA|            2013J|     28400| 546652| -10|        1|[546652.0,-10.0]|\n",
      "|        AAA|            2013J|     28400| 546614| -10|       11|[546614.0,-10.0]|\n",
      "|        AAA|            2013J|     28400| 546714| -10|        1|[546714.0,-10.0]|\n",
      "|        AAA|            2013J|     28400| 546652| -10|        8|[546652.0,-10.0]|\n",
      "|        AAA|            2013J|     28400| 546876| -10|        2|[546876.0,-10.0]|\n",
      "|        AAA|            2013J|     28400| 546688| -10|       15|[546688.0,-10.0]|\n",
      "|        AAA|            2013J|     28400| 546662| -10|       17|[546662.0,-10.0]|\n",
      "|        AAA|            2013J|     28400| 546890| -10|        1|[546890.0,-10.0]|\n",
      "|        AAA|            2013J|     28400| 547011| -10|        1|[547011.0,-10.0]|\n",
      "|        AAA|            2013J|     28400| 547013| -10|        1|[547013.0,-10.0]|\n",
      "|        AAA|            2013J|     28400| 546871| -10|        3|[546871.0,-10.0]|\n",
      "|        AAA|            2013J|     28400| 546879| -10|        4|[546879.0,-10.0]|\n",
      "|        AAA|            2013J|     30268| 546652| -10|        3|[546652.0,-10.0]|\n",
      "|        AAA|            2013J|     30268| 546662| -10|        2|[546662.0,-10.0]|\n",
      "|        AAA|            2013J|     30268| 546614| -10|        3|[546614.0,-10.0]|\n",
      "|        AAA|            2013J|     30268| 546652| -10|        2|[546652.0,-10.0]|\n",
      "|        AAA|            2013J|     31604| 546672| -10|        1|[546672.0,-10.0]|\n",
      "|        AAA|            2013J|     31604| 547013| -10|        5|[547013.0,-10.0]|\n",
      "+-----------+-----------------+----------+-------+----+---------+----------------+\n",
      "only showing top 20 rows\n",
      "\n"
     ]
    }
   ],
   "source": [
    "df_vector.show()"
   ]
  },
  {
   "cell_type": "code",
   "execution_count": 21,
   "metadata": {},
   "outputs": [],
   "source": [
    "scaler = MinMaxScaler(inputCol='features', outputCol='scaledfeatures')"
   ]
  },
  {
   "cell_type": "code",
   "execution_count": 22,
   "metadata": {},
   "outputs": [],
   "source": [
    "scaler_transformer = scaler.fit(df_vector)"
   ]
  },
  {
   "cell_type": "code",
   "execution_count": 23,
   "metadata": {},
   "outputs": [],
   "source": [
    "scaled_data = scaler_transformer.transform(df_vector)"
   ]
  },
  {
   "cell_type": "code",
   "execution_count": 27,
   "metadata": {},
   "outputs": [
    {
     "name": "stdout",
     "output_type": "stream",
     "text": [
      "+-----------+-----------------+----------+-------+----+---------+----------------+--------------------+\n",
      "|code_module|code_presentation|id_student|id_site|date|sum_click|        features|      scaledfeatures|\n",
      "+-----------+-----------------+----------+-------+----+---------+----------------+--------------------+\n",
      "|        AAA|            2013J|     28400| 546652| -10|        4|[546652.0,-10.0]|[0.03812057585384...|\n",
      "|        AAA|            2013J|     28400| 546652| -10|        1|[546652.0,-10.0]|[0.03812057585384...|\n",
      "|        AAA|            2013J|     28400| 546652| -10|        1|[546652.0,-10.0]|[0.03812057585384...|\n",
      "|        AAA|            2013J|     28400| 546614| -10|       11|[546614.0,-10.0]|[0.03804789601427...|\n",
      "|        AAA|            2013J|     28400| 546714| -10|        1|[546714.0,-10.0]|[0.03823915874998...|\n",
      "+-----------+-----------------+----------+-------+----+---------+----------------+--------------------+\n",
      "only showing top 5 rows\n",
      "\n"
     ]
    }
   ],
   "source": [
    "scaled_data.show(5)"
   ]
  },
  {
   "cell_type": "code",
   "execution_count": 28,
   "metadata": {},
   "outputs": [],
   "source": [
    "train, test = scaled_data.randomSplit([0.7, 0.3], seed=1234)"
   ]
  },
  {
   "cell_type": "code",
   "execution_count": 31,
   "metadata": {},
   "outputs": [],
   "source": [
    "lr = LinearRegression(featuresCol='features', labelCol='sum_click', regParam=0.3)"
   ]
  },
  {
   "cell_type": "code",
   "execution_count": 32,
   "metadata": {},
   "outputs": [],
   "source": [
    "lrModel = lr.fit(train)"
   ]
  },
  {
   "cell_type": "code",
   "execution_count": 33,
   "metadata": {},
   "outputs": [
    {
     "data": {
      "text/plain": [
       "DenseVector([0.0, 0.0027])"
      ]
     },
     "execution_count": 33,
     "metadata": {},
     "output_type": "execute_result"
    }
   ],
   "source": [
    "lrModel.coefficients"
   ]
  },
  {
   "cell_type": "code",
   "execution_count": 34,
   "metadata": {},
   "outputs": [],
   "source": [
    "summ = lrModel.summary"
   ]
  },
  {
   "cell_type": "code",
   "execution_count": 37,
   "metadata": {},
   "outputs": [
    {
     "data": {
      "text/plain": [
       "0.0005974244594275646"
      ]
     },
     "execution_count": 37,
     "metadata": {},
     "output_type": "execute_result"
    }
   ],
   "source": [
    "summ.r2"
   ]
  },
  {
   "cell_type": "code",
   "execution_count": null,
   "metadata": {},
   "outputs": [],
   "source": []
  }
 ],
 "metadata": {
  "kernelspec": {
   "display_name": "Python 3",
   "language": "python",
   "name": "python3"
  },
  "language_info": {
   "codemirror_mode": {
    "name": "ipython",
    "version": 3
   },
   "file_extension": ".py",
   "mimetype": "text/x-python",
   "name": "python",
   "nbconvert_exporter": "python",
   "pygments_lexer": "ipython3",
   "version": "3.6.6"
  }
 },
 "nbformat": 4,
 "nbformat_minor": 2
}
