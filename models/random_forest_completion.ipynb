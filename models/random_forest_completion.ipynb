{
 "cells": [
  {
   "cell_type": "code",
   "execution_count": 3,
   "metadata": {},
   "outputs": [],
   "source": [
    "import pickle\n",
    "from sklearn.ensemble import RandomForestClassifier\n",
    "from sklearn.preprocessing import StandardScaler\n",
    "import numpy as np\n",
    "import pandas as pd\n",
    "from sklearn.metrics import recall_score, roc_auc_score, roc_curve, classification_report, confusion_matrix\n",
    "from sklearn.model_selection import cross_val_score\n",
    "from sklearn.externals import joblib\n",
    "from sklearn.base import clone\n",
    "import collections as c\n",
    "import matplotlib.pyplot as plt\n",
    "%matplotlib inline"
   ]
  },
  {
   "cell_type": "code",
   "execution_count": 4,
   "metadata": {},
   "outputs": [],
   "source": [
    "model = pickle.load(open('random_forest_completion_first_half.p', 'rb')) # load the model"
   ]
  },
  {
   "cell_type": "code",
   "execution_count": 3,
   "metadata": {},
   "outputs": [],
   "source": [
    "# model = RandomForestClassifier(bootstrap=True, class_weight=None, criterion='gini',\n",
    "#             max_depth=20, max_features='auto', max_leaf_nodes=None,\n",
    "#             min_impurity_decrease=0.0, min_impurity_split=None,\n",
    "#             min_samples_leaf=1, min_samples_split=2,\n",
    "#             min_weight_fraction_leaf=0.0, n_estimators=100, n_jobs=None,\n",
    "#             oob_score=False, random_state=None, verbose=0,\n",
    "#             warm_start=False)"
   ]
  },
  {
   "cell_type": "code",
   "execution_count": 1,
   "metadata": {},
   "outputs": [],
   "source": [
    "def scale_subset(df, columns):\n",
    "    '''\n",
    "    Use sklearn StandardScalar to scale only numeric columns.\n",
    "\n",
    "    Parameters:\n",
    "    ----------\n",
    "    input {dataframe, list}: dataframe containing mixed feature variable types, list of names of numeric feature columns\n",
    "    output: {dataframe}: dataframe with numeric features scaled and categorical features unchanged\n",
    "\n",
    "    '''\n",
    "    scalar = StandardScaler()\n",
    "    numeric = df[columns]\n",
    "    categorical = df.drop(columns, axis = 1)\n",
    "    scalar.fit(numeric)\n",
    "    num_scaled = pd.DataFrame(scalar.transform(numeric))\n",
    "    num_scaled.rename(columns = dict(zip(num_scaled.columns, numeric_cols)), inplace = True)\n",
    "    return pd.concat([num_scaled, categorical], axis = 1)\n",
    "\n",
    "def standard_confusion_matrix(y_true, y_pred):\n",
    "    \"\"\"Make confusion matrix with format:\n",
    "                  -----------\n",
    "                  | TP | FP |\n",
    "                  -----------\n",
    "                  | FN | TN |\n",
    "                  -----------\n",
    "    Parameters\n",
    "    ----------\n",
    "    y_true : ndarray - 1D\n",
    "    y_pred : ndarray - 1D\n",
    "\n",
    "    Returns\n",
    "    -------\n",
    "    ndarray - 2D\n",
    "    \"\"\"\n",
    "    [[tn, fp], [fn, tp]] = confusion_matrix(y_true, y_pred)\n",
    "    return np.array([[tp, fp], [fn, tn]])\n",
    "\n",
    "def print_roc_curve(y_test, probabilities):\n",
    "    '''\n",
    "    Calculates and prints a ROC curve given a set of test classes and probabilities from a trained classifier\n",
    "    '''\n",
    "    tprs, fprs, thresh = roc_curve(y_test, probabilities)\n",
    "    plt.figure(figsize=(12,10))\n",
    "    plt.plot(fprs, tprs, \n",
    "         label='Logistic Regression', \n",
    "         color='red')\n",
    "    plt.plot([0,1],[0,1], 'k:')\n",
    "    plt.legend()\n",
    "    plt.xlabel(\"FPR\")\n",
    "    plt.ylabel(\"TPR\")\n",
    "    plt.title(\"ROC Curve AUC: {} Recall: {}\".format(roc_auc, recall))\n",
    "    plt.show()"
   ]
  },
  {
   "cell_type": "code",
   "execution_count": 2,
   "metadata": {},
   "outputs": [
    {
     "ename": "NameError",
     "evalue": "name 'pd' is not defined",
     "output_type": "error",
     "traceback": [
      "\u001b[0;31m---------------------------------------------------------------------------\u001b[0m",
      "\u001b[0;31mNameError\u001b[0m                                 Traceback (most recent call last)",
      "\u001b[0;32m<ipython-input-2-fdd0ae9920db>\u001b[0m in \u001b[0;36m<module>\u001b[0;34m\u001b[0m\n\u001b[1;32m      2\u001b[0m \u001b[0;31m# y_train = pd.read_csv('../data/processed/first_half/y_train.csv')\u001b[0m\u001b[0;34m\u001b[0m\u001b[0;34m\u001b[0m\u001b[0m\n\u001b[1;32m      3\u001b[0m \u001b[0;31m# y_train = y_train['module_not_completed']\u001b[0m\u001b[0;34m\u001b[0m\u001b[0;34m\u001b[0m\u001b[0m\n\u001b[0;32m----> 4\u001b[0;31m \u001b[0mX_test\u001b[0m \u001b[0;34m=\u001b[0m \u001b[0mpd\u001b[0m\u001b[0;34m.\u001b[0m\u001b[0mread_csv\u001b[0m\u001b[0;34m(\u001b[0m\u001b[0;34m'../data/processed/first_half/X_test.csv'\u001b[0m\u001b[0;34m)\u001b[0m\u001b[0;34m\u001b[0m\u001b[0m\n\u001b[0m\u001b[1;32m      5\u001b[0m \u001b[0;34m\u001b[0m\u001b[0m\n\u001b[1;32m      6\u001b[0m \u001b[0my_test\u001b[0m \u001b[0;34m=\u001b[0m \u001b[0mpd\u001b[0m\u001b[0;34m.\u001b[0m\u001b[0mread_csv\u001b[0m\u001b[0;34m(\u001b[0m\u001b[0;34m'../data/processed/first_half/y_test.csv'\u001b[0m\u001b[0;34m)\u001b[0m\u001b[0;34m\u001b[0m\u001b[0m\n",
      "\u001b[0;31mNameError\u001b[0m: name 'pd' is not defined"
     ]
    }
   ],
   "source": [
    "# X_train = pd.read_csv('../data/processed/first_half/X_train.csv')\n",
    "# y_train = pd.read_csv('../data/processed/first_half/y_train.csv')\n",
    "# y_train = y_train['module_not_completed']\n",
    "X_test = pd.read_csv('../data/processed/first_half/X_test.csv')\n",
    "\n",
    "y_test = pd.read_csv('../data/processed/first_half/y_test.csv')\n",
    "y_test = y_test['module_not_completed']\n",
    "\n",
    "# fill\n",
    "# X_train.fillna(value = 0, inplace = True)\n",
    "# X_train = scale_subset(X_train, numeric_cols)\n",
    "X_test.fillna(value = 0, inplace = True)"
   ]
  },
  {
   "cell_type": "code",
   "execution_count": 6,
   "metadata": {},
   "outputs": [
    {
     "data": {
      "text/plain": [
       "RandomForestClassifier(bootstrap=True, class_weight=None, criterion='gini',\n",
       "            max_depth=20, max_features='auto', max_leaf_nodes=None,\n",
       "            min_impurity_decrease=0.0, min_impurity_split=None,\n",
       "            min_samples_leaf=1, min_samples_split=2,\n",
       "            min_weight_fraction_leaf=0.0, n_estimators=100, n_jobs=None,\n",
       "            oob_score=False, random_state=None, verbose=0,\n",
       "            warm_start=False)"
      ]
     },
     "execution_count": 6,
     "metadata": {},
     "output_type": "execute_result"
    }
   ],
   "source": [
    "model.fit(X_train, y_train)"
   ]
  },
  {
   "cell_type": "code",
   "execution_count": 7,
   "metadata": {},
   "outputs": [],
   "source": [
    "predictions = model.predict(X_test)"
   ]
  },
  {
   "cell_type": "code",
   "execution_count": 8,
   "metadata": {},
   "outputs": [
    {
     "data": {
      "text/plain": [
       "0.8515925796289815"
      ]
     },
     "execution_count": 8,
     "metadata": {},
     "output_type": "execute_result"
    }
   ],
   "source": [
    "recall = recall_score(y_test, predictions)\n",
    "recall"
   ]
  },
  {
   "cell_type": "code",
   "execution_count": 9,
   "metadata": {},
   "outputs": [
    {
     "data": {
      "text/plain": [
       "0.8805845763202288"
      ]
     },
     "execution_count": 9,
     "metadata": {},
     "output_type": "execute_result"
    }
   ],
   "source": [
    "roc_auc = roc_auc_score(y_test, predictions)\n",
    "roc_auc"
   ]
  },
  {
   "cell_type": "code",
   "execution_count": 10,
   "metadata": {},
   "outputs": [],
   "source": [
    "probas = model.predict_proba(X_test)[:, :1]\n",
    "tprs, fprs, thresh = roc_curve(y_test, probas)"
   ]
  },
  {
   "cell_type": "code",
   "execution_count": 11,
   "metadata": {},
   "outputs": [
    {
     "data": {
      "image/png": "[encoded data removed]",
      "text/plain": [
       "<Figure size 864x720 with 1 Axes>"
      ]
     },
     "metadata": {
      "needs_background": "light"
     },
     "output_type": "display_data"
    }
   ],
   "source": [
    "plt.figure(figsize=(12,10))\n",
    "plt.plot(fprs, tprs, \n",
    "    label='ROC Curve AUC: {}\\n\\nRecall: {}'.format(roc_auc, recall),\n",
    "    color='red')\n",
    "plt.plot([0,1],[0,1], 'k:')\n",
    "plt.legend()\n",
    "plt.xlabel(\"FPR\")\n",
    "plt.ylabel(\"TPR\")\n",
    "plt.title(\"Random Forest: Did the Student Complete the Course?\")\n",
    "plt.show()"
   ]
  },
  {
   "cell_type": "code",
   "execution_count": 12,
   "metadata": {},
   "outputs": [
    {
     "name": "stdout",
     "output_type": "stream",
     "text": [
      "Random Forest With Feature Engineering\n",
      "              precision    recall  f1-score   support\n",
      "\n",
      "       False       0.84      0.91      0.88      5054\n",
      "        True       0.91      0.85      0.88      5714\n",
      "\n",
      "   micro avg       0.88      0.88      0.88     10768\n",
      "   macro avg       0.88      0.88      0.88     10768\n",
      "weighted avg       0.88      0.88      0.88     10768\n",
      "\n"
     ]
    }
   ],
   "source": [
    "# print(confusion_matrix(y_test, predictions))\n",
    "print('Random Forest With Feature Engineering')\n",
    "print(classification_report(y_test, predictions))"
   ]
  },
  {
   "cell_type": "code",
   "execution_count": 13,
   "metadata": {},
   "outputs": [],
   "source": [
    "# pd.DataFrame(data={'frps': fprs, 'tprs': tprs, 'Thresholds': thresh})"
   ]
  },
  {
   "cell_type": "markdown",
   "metadata": {},
   "source": [
    "# Which features are most important?"
   ]
  },
  {
   "cell_type": "code",
   "execution_count": 21,
   "metadata": {},
   "outputs": [
    {
     "data": {
      "text/plain": [
       "array([0.00662483, 0.01493414, 0.15714056, 0.16778441, 0.06177576,\n",
       "       0.03823857, 0.14086826, 0.06759585, 0.10100126, 0.08287014,\n",
       "       0.00938978, 0.00314206, 0.00647205, 0.00293197, 0.02013809,\n",
       "       0.00492391, 0.        , 0.00507117, 0.00451727, 0.00682904,\n",
       "       0.        , 0.00672921, 0.        , 0.00306228, 0.00213572,\n",
       "       0.00329825, 0.0022648 , 0.00325078, 0.00358978, 0.00254556,\n",
       "       0.00304334, 0.00298966, 0.00293639, 0.00348366, 0.00236853,\n",
       "       0.        , 0.00376027, 0.00894026, 0.00085198, 0.00054103,\n",
       "       0.        , 0.00392235, 0.00363183, 0.00353017, 0.00320499,\n",
       "       0.00333957, 0.00340198, 0.00334769, 0.0030487 , 0.00294285,\n",
       "       0.00172866, 0.00600545, 0.00037614, 0.        , 0.00347898,\n",
       "       0.        ])"
      ]
     },
     "execution_count": 21,
     "metadata": {},
     "output_type": "execute_result"
    }
   ],
   "source": [
    "feat_imp = importances(model, X_test, y_test)"
   ]
  },
  {
   "cell_type": "code",
   "execution_count": 22,
   "metadata": {},
   "outputs": [],
   "source": [
    "features = list(X_test.columns)"
   ]
  },
  {
   "cell_type": "code",
   "execution_count": 23,
   "metadata": {},
   "outputs": [],
   "source": [
    "coef_dict = c.OrderedDict((zip(feat_imp.values, features)))"
   ]
  },
  {
   "cell_type": "code",
   "execution_count": 24,
   "metadata": {},
   "outputs": [
    {
     "data": {
      "text/plain": [
       "[(0.16778441085985057, 'pct_days_vle_accessed'),\n",
       " (0.15714056123093406, 'clicks_per_day'),\n",
       " (0.14086825629200606, 'avg_score'),\n",
       " (0.10100126129016708, 'days_early_first_assessment'),\n",
       " (0.0828701415096745, 'score_first_assessment'),\n",
       " (0.06759585075604124, 'avg_days_sub_early'),\n",
       " (0.06177575773304063, 'max_clicks_one_day'),\n",
       " (0.038238567031901455, 'first_date_vle_accessed'),\n",
       " (0.020138091524588245, 'code_module_FFF'),\n",
       " (0.014934144185697997, 'studied_credits')]"
      ]
     },
     "execution_count": 24,
     "metadata": {},
     "output_type": "execute_result"
    }
   ],
   "source": [
    "sorted(coef_dict.items(), reverse=True)[:10]"
   ]
  },
  {
   "cell_type": "code",
   "execution_count": null,
   "metadata": {},
   "outputs": [],
   "source": []
  },
  {
   "cell_type": "code",
   "execution_count": null,
   "metadata": {},
   "outputs": [],
   "source": []
  },
  {
   "cell_type": "code",
   "execution_count": null,
   "metadata": {},
   "outputs": [],
   "source": []
  },
  {
   "cell_type": "code",
   "execution_count": null,
   "metadata": {},
   "outputs": [],
   "source": []
  },
  {
   "cell_type": "code",
   "execution_count": null,
   "metadata": {},
   "outputs": [],
   "source": []
  },
  {
   "cell_type": "code",
   "execution_count": null,
   "metadata": {},
   "outputs": [],
   "source": [
    "pickle.dump(model, open('random_forest_completion_first_half.p', 'wb')) # save the model"
   ]
  },
  {
   "cell_type": "code",
   "execution_count": null,
   "metadata": {},
   "outputs": [],
   "source": []
  }
 ],
 "metadata": {
  "kernelspec": {
   "display_name": "Python 3",
   "language": "python",
   "name": "python3"
  },
  "language_info": {
   "codemirror_mode": {
    "name": "ipython",
    "version": 3
   },
   "file_extension": ".py",
   "mimetype": "text/x-python",
   "name": "python",
   "nbconvert_exporter": "python",
   "pygments_lexer": "ipython3",
   "version": "3.6.6"
  }
 },
 "nbformat": 4,
 "nbformat_minor": 2
}
