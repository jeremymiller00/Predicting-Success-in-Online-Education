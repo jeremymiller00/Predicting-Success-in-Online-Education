{
 "cells": [
  {
   "cell_type": "code",
   "execution_count": 1,
   "metadata": {},
   "outputs": [],
   "source": [
    "import pandas as pd\n",
    "import pickle\n",
    "from sklearn.linear_model import LogisticRegression\n",
    "from sklearn.preprocessing import StandardScaler\n",
    "import numpy as np\n",
    "import pandas as pd\n",
    "from sklearn.metrics import recall_score, roc_auc_score, roc_curve\n",
    "from sklearn.model_selection import cross_val_score\n",
    "import collections as c\n",
    "import matplotlib.pyplot as plt\n",
    "%matplotlib inline\n"
   ]
  },
  {
   "cell_type": "code",
   "execution_count": 3,
   "metadata": {},
   "outputs": [
    {
     "data": {
      "text/plain": [
       "'/Users/jeremymiller/GoogleDrive/Data_Science/Galvanize/dsi-capstone/models'"
      ]
     },
     "execution_count": 3,
     "metadata": {},
     "output_type": "execute_result"
    }
   ],
   "source": [
    "pwd"
   ]
  },
  {
   "cell_type": "code",
   "execution_count": 4,
   "metadata": {},
   "outputs": [
    {
     "ename": "EOFError",
     "evalue": "Ran out of input",
     "output_type": "error",
     "traceback": [
      "\u001b[0;31m---------------------------------------------------------------------------\u001b[0m",
      "\u001b[0;31mEOFError\u001b[0m                                  Traceback (most recent call last)",
      "\u001b[0;32m<ipython-input-4-545fc2eec5d5>\u001b[0m in \u001b[0;36m<module>\u001b[0;34m\u001b[0m\n\u001b[0;32m----> 1\u001b[0;31m \u001b[0mmodel\u001b[0m \u001b[0;34m=\u001b[0m \u001b[0mpickle\u001b[0m\u001b[0;34m.\u001b[0m\u001b[0mload\u001b[0m\u001b[0;34m(\u001b[0m\u001b[0mopen\u001b[0m\u001b[0;34m(\u001b[0m\u001b[0;34m'logistic_regression_completion.p'\u001b[0m\u001b[0;34m,\u001b[0m \u001b[0;34m'rb'\u001b[0m\u001b[0;34m)\u001b[0m\u001b[0;34m)\u001b[0m \u001b[0;31m# load the model\u001b[0m\u001b[0;34m\u001b[0m\u001b[0m\n\u001b[0m",
      "\u001b[0;31mEOFError\u001b[0m: Ran out of input"
     ]
    }
   ],
   "source": [
    "model = pickle.load(open('logistic_regression_completion.p', 'rb')) # load the model"
   ]
  },
  {
   "cell_type": "code",
   "execution_count": 5,
   "metadata": {},
   "outputs": [],
   "source": [
    "model = LogisticRegression(C=1, class_weight=None, dual=False, fit_intercept=True,\n",
    "          intercept_scaling=1, max_iter=200, multi_class='warn',\n",
    "          n_jobs=None, penalty='l2', random_state=None, solver='newton-cg',\n",
    "          tol=0.0001, verbose=0, warm_start='False')"
   ]
  },
  {
   "cell_type": "code",
   "execution_count": 8,
   "metadata": {},
   "outputs": [],
   "source": [
    "def scale_subset(df, columns):\n",
    "    '''\n",
    "    Use sklearn StandardScalar to scale only numeric columns.\n",
    "\n",
    "    Parameters:\n",
    "    ----------\n",
    "    input {dataframe, list}: dataframe containing mixed feature variable types, list of names of numeric feature columns\n",
    "    output: {dataframe}: dataframe with numeric features scaled and categorical features unchanged\n",
    "\n",
    "    '''\n",
    "    scalar = StandardScaler()\n",
    "    numeric = df[columns]\n",
    "    categorical = df.drop(columns, axis = 1)\n",
    "    scalar.fit(numeric)\n",
    "    num_scaled = pd.DataFrame(scalar.transform(numeric))\n",
    "    num_scaled.rename(columns = dict(zip(num_scaled.columns, numeric_cols)), inplace = True)\n",
    "    return pd.concat([num_scaled, categorical], axis = 1)\n"
   ]
  },
  {
   "cell_type": "code",
   "execution_count": 9,
   "metadata": {},
   "outputs": [
    {
     "name": "stderr",
     "output_type": "stream",
     "text": [
      "/Users/jeremymiller/anaconda3/lib/python3.6/site-packages/sklearn/preprocessing/data.py:617: DataConversionWarning: Data with input dtype int64, float64 were all converted to float64 by StandardScaler.\n",
      "  return self.partial_fit(X, y)\n",
      "/Users/jeremymiller/anaconda3/lib/python3.6/site-packages/ipykernel_launcher.py:15: DataConversionWarning: Data with input dtype int64, float64 were all converted to float64 by StandardScaler.\n",
      "  from ipykernel import kernelapp as app\n",
      "/Users/jeremymiller/anaconda3/lib/python3.6/site-packages/sklearn/preprocessing/data.py:617: DataConversionWarning: Data with input dtype int64, float64 were all converted to float64 by StandardScaler.\n",
      "  return self.partial_fit(X, y)\n",
      "/Users/jeremymiller/anaconda3/lib/python3.6/site-packages/ipykernel_launcher.py:15: DataConversionWarning: Data with input dtype int64, float64 were all converted to float64 by StandardScaler.\n",
      "  from ipykernel import kernelapp as app\n"
     ]
    }
   ],
   "source": [
    "X_train = pd.read_csv('../data/processed/X_train.csv')\n",
    "y_train = pd.read_csv('../data/processed/y_train.csv')\n",
    "y_train = y_train['module_not_completed']\n",
    "X_test = pd.read_csv('../data/processed/X_test.csv')\n",
    "y_test = pd.read_csv('../data/processed/y_test.csv')\n",
    "y_test = y_test['module_not_completed']\n",
    "numeric_cols = ['num_of_prev_attempts', 'studied_credits',\n",
    "'clicks_per_day', 'pct_days_vle_accessed','max_clicks_one_day',\n",
    "'first_date_vle_accessed', 'avg_score', 'avg_days_sub_early', 'days_early_first_assessment',\n",
    "'score_first_assessment']\n",
    "# fill and scale\n",
    "X_train.fillna(value = 0, inplace = True)\n",
    "X_train = scale_subset(X_train, numeric_cols)\n",
    "X_test.fillna(value = 0, inplace = True)\n",
    "X_test = scale_subset(X_test, numeric_cols)\n"
   ]
  },
  {
   "cell_type": "code",
   "execution_count": 10,
   "metadata": {},
   "outputs": [
    {
     "data": {
      "text/plain": [
       "LogisticRegression(C=1, class_weight=None, dual=False, fit_intercept=True,\n",
       "          intercept_scaling=1, max_iter=200, multi_class='warn',\n",
       "          n_jobs=None, penalty='l2', random_state=None, solver='newton-cg',\n",
       "          tol=0.0001, verbose=0, warm_start='False')"
      ]
     },
     "execution_count": 10,
     "metadata": {},
     "output_type": "execute_result"
    }
   ],
   "source": [
    "model.fit(X_train, y_train)"
   ]
  },
  {
   "cell_type": "code",
   "execution_count": 12,
   "metadata": {},
   "outputs": [],
   "source": [
    "predictions = model.predict(X_test)"
   ]
  },
  {
   "cell_type": "code",
   "execution_count": 13,
   "metadata": {},
   "outputs": [
    {
     "data": {
      "text/plain": [
       "0.8367168358417921"
      ]
     },
     "execution_count": 13,
     "metadata": {},
     "output_type": "execute_result"
    }
   ],
   "source": [
    "recall = recall_score(y_test, predictions)\n",
    "recall"
   ]
  },
  {
   "cell_type": "code",
   "execution_count": 14,
   "metadata": {},
   "outputs": [
    {
     "data": {
      "text/plain": [
       "0.8483148880435712"
      ]
     },
     "execution_count": 14,
     "metadata": {},
     "output_type": "execute_result"
    }
   ],
   "source": [
    "roc_auc = roc_auc_score(y_test, predictions)\n",
    "roc_auc"
   ]
  },
  {
   "cell_type": "code",
   "execution_count": 15,
   "metadata": {},
   "outputs": [],
   "source": [
    "probas = model.predict_proba(X_test)[:, :1]\n",
    "tprs, fprs, thresh = roc_curve(y_test, probas)"
   ]
  },
  {
   "cell_type": "code",
   "execution_count": 16,
   "metadata": {},
   "outputs": [
    {
     "data": {
      "image/png": "[encoded data removed]",
      "text/plain": [
       "<Figure size 864x720 with 1 Axes>"
      ]
     },
     "metadata": {
      "needs_background": "light"
     },
     "output_type": "display_data"
    }
   ],
   "source": [
    "plt.figure(figsize=(12,10))\n",
    "plt.plot(fprs, tprs, \n",
    "    label='ROC Curve AUC: {}\\n\\nRecall: {}'.format(roc_auc, recall),\n",
    "    color='red')\n",
    "plt.plot([0,1],[0,1], 'k:')\n",
    "plt.legend()\n",
    "plt.xlabel(\"FPR\")\n",
    "plt.ylabel(\"TPR\")\n",
    "plt.title(\"Logistic Regression: Did the Student Complete the Course?\")\n",
    "plt.show()"
   ]
  },
  {
   "cell_type": "markdown",
   "metadata": {},
   "source": [
    "# Which features are most important?"
   ]
  },
  {
   "cell_type": "code",
   "execution_count": 17,
   "metadata": {},
   "outputs": [
    {
     "data": {
      "text/html": [
       "<div>\n",
       "<style scoped>\n",
       "    .dataframe tbody tr th:only-of-type {\n",
       "        vertical-align: middle;\n",
       "    }\n",
       "\n",
       "    .dataframe tbody tr th {\n",
       "        vertical-align: top;\n",
       "    }\n",
       "\n",
       "    .dataframe thead th {\n",
       "        text-align: right;\n",
       "    }\n",
       "</style>\n",
       "<table border=\"1\" class=\"dataframe\">\n",
       "  <thead>\n",
       "    <tr style=\"text-align: right;\">\n",
       "      <th></th>\n",
       "      <th>pct_days_vle_accessed</th>\n",
       "      <th>avg_score</th>\n",
       "      <th>days_early_first_assessment</th>\n",
       "      <th>code_presentation_2014J</th>\n",
       "      <th>code_presentation_2013J</th>\n",
       "      <th>code_presentation_2014B</th>\n",
       "      <th>imd_band_nan</th>\n",
       "      <th>imd_band_90-100%</th>\n",
       "      <th>imd_band_80-90%</th>\n",
       "      <th>imd_band_60-70%</th>\n",
       "      <th>...</th>\n",
       "      <th>age_band_35-55</th>\n",
       "      <th>highest_education_Lower Than A Level</th>\n",
       "      <th>highest_education_No Formal quals</th>\n",
       "      <th>clicks_per_day</th>\n",
       "      <th>code_module_EEE</th>\n",
       "      <th>age_band_55&lt;=</th>\n",
       "      <th>avg_days_sub_early</th>\n",
       "      <th>code_module_DDD</th>\n",
       "      <th>code_module_CCC</th>\n",
       "      <th>code_module_FFF</th>\n",
       "    </tr>\n",
       "  </thead>\n",
       "  <tbody>\n",
       "    <tr>\n",
       "      <th>0</th>\n",
       "      <td>-2.69966</td>\n",
       "      <td>-1.966231</td>\n",
       "      <td>-1.045648</td>\n",
       "      <td>-1.037565</td>\n",
       "      <td>-0.877008</td>\n",
       "      <td>-0.686036</td>\n",
       "      <td>-0.682002</td>\n",
       "      <td>-0.483502</td>\n",
       "      <td>-0.389696</td>\n",
       "      <td>-0.337718</td>\n",
       "      <td>...</td>\n",
       "      <td>0.400886</td>\n",
       "      <td>0.57057</td>\n",
       "      <td>0.58068</td>\n",
       "      <td>0.681639</td>\n",
       "      <td>0.689939</td>\n",
       "      <td>0.726711</td>\n",
       "      <td>0.893212</td>\n",
       "      <td>1.140949</td>\n",
       "      <td>1.208824</td>\n",
       "      <td>2.460294</td>\n",
       "    </tr>\n",
       "  </tbody>\n",
       "</table>\n",
       "<p>1 rows × 56 columns</p>\n",
       "</div>"
      ],
      "text/plain": [
       "   pct_days_vle_accessed  avg_score  days_early_first_assessment  \\\n",
       "0               -2.69966  -1.966231                    -1.045648   \n",
       "\n",
       "   code_presentation_2014J  code_presentation_2013J  code_presentation_2014B  \\\n",
       "0                -1.037565                -0.877008                -0.686036   \n",
       "\n",
       "   imd_band_nan  imd_band_90-100%  imd_band_80-90%  imd_band_60-70%  \\\n",
       "0     -0.682002         -0.483502        -0.389696        -0.337718   \n",
       "\n",
       "        ...         age_band_35-55  highest_education_Lower Than A Level  \\\n",
       "0       ...               0.400886                               0.57057   \n",
       "\n",
       "   highest_education_No Formal quals  clicks_per_day  code_module_EEE  \\\n",
       "0                            0.58068        0.681639         0.689939   \n",
       "\n",
       "   age_band_55<=  avg_days_sub_early  code_module_DDD  code_module_CCC  \\\n",
       "0       0.726711            0.893212         1.140949         1.208824   \n",
       "\n",
       "   code_module_FFF  \n",
       "0         2.460294  \n",
       "\n",
       "[1 rows x 56 columns]"
      ]
     },
     "execution_count": 17,
     "metadata": {},
     "output_type": "execute_result"
    }
   ],
   "source": [
    "pd.DataFrame(data=model.coef_, columns=X_test.columns).sort_values(by = 0, axis=1)\n",
    "# list(X_test.columns)"
   ]
  },
  {
   "cell_type": "code",
   "execution_count": 18,
   "metadata": {},
   "outputs": [],
   "source": [
    "abs_coef = list(np.abs(model.coef_.ravel()))\n",
    "features = list(X_test.columns)"
   ]
  },
  {
   "cell_type": "code",
   "execution_count": 19,
   "metadata": {},
   "outputs": [],
   "source": [
    "coef_dict = c.OrderedDict((zip(abs_coef, features)))"
   ]
  },
  {
   "cell_type": "code",
   "execution_count": 20,
   "metadata": {},
   "outputs": [
    {
     "data": {
      "text/plain": [
       "[(2.699659506772256, 'pct_days_vle_accessed'),\n",
       " (2.460294460774313, 'code_module_FFF'),\n",
       " (1.966230708493373, 'avg_score'),\n",
       " (1.2088242577561603, 'code_module_CCC'),\n",
       " (1.1409490968514577, 'code_module_DDD'),\n",
       " (1.0456483310176563, 'days_early_first_assessment'),\n",
       " (1.03756528369088, 'code_presentation_2014J'),\n",
       " (0.8932116523237199, 'avg_days_sub_early'),\n",
       " (0.8770082394864068, 'code_presentation_2013J'),\n",
       " (0.7267114106971799, 'age_band_55<='),\n",
       " (0.6899391264826976, 'code_module_EEE'),\n",
       " (0.6860362582742039, 'code_presentation_2014B'),\n",
       " (0.682001979226202, 'imd_band_nan'),\n",
       " (0.6816394383272958, 'clicks_per_day'),\n",
       " (0.5806803610331229, 'highest_education_No Formal quals'),\n",
       " (0.570569629303721, 'highest_education_Lower Than A Level'),\n",
       " (0.4835017812574342, 'imd_band_90-100%'),\n",
       " (0.40088635606909223, 'age_band_35-55'),\n",
       " (0.38969639181780663, 'imd_band_80-90%'),\n",
       " (0.3377184544462005, 'imd_band_60-70%'),\n",
       " (0.3362268075705257, 'imd_band_30-40%'),\n",
       " (0.32953043830039963, 'region_North Region'),\n",
       " (0.2758994513230464, 'max_clicks_one_day'),\n",
       " (0.26939274556968446, 'imd_band_50-60%'),\n",
       " (0.2616036088268248, 'region_Scotland'),\n",
       " (0.2563591447789095, 'imd_band_70-80%'),\n",
       " (0.2509321401228791, 'disability_Y'),\n",
       " (0.24402340713308646, 'score_first_assessment'),\n",
       " (0.2212882765801732, 'gender_M'),\n",
       " (0.21591561214072943, 'region_Wales'),\n",
       " (0.19950676268160342, 'imd_band_40-50%'),\n",
       " (0.18895672058450547, 'region_North Western Region'),\n",
       " (0.18840193784779996, 'region_West Midlands Region'),\n",
       " (0.18726660319647223, 'code_module_GGG'),\n",
       " (0.18621427968106957, 'highest_education_Post Graduate Qualification'),\n",
       " (0.16015916967198832, 'first_date_vle_accessed'),\n",
       " (0.11227757552678656, 'region_Ireland'),\n",
       " (0.09934357349587214, 'region_South West Region'),\n",
       " (0.09917213489431984, 'region_South Region'),\n",
       " (0.09568020666810721, 'region_Yorkshire Region'),\n",
       " (0.09041724416695121, 'code_module_BBB'),\n",
       " (0.0864450583350088, 'imd_band_20-30%'),\n",
       " (0.07971162945129318, 'region_East Midlands Region'),\n",
       " (0.07394784995326242, 'num_of_prev_attempts'),\n",
       " (0.053673624296188986, 'studied_credits'),\n",
       " (0.052849401223578396, 'imd_band_10-20'),\n",
       " (0.02726125898464354, 'region_London Region'),\n",
       " (0.01946045063946386, 'region_South East Region'),\n",
       " (0.017212478834203494, 'highest_education_HE Qualification'),\n",
       " (0.0, 'disability_nan')]"
      ]
     },
     "execution_count": 20,
     "metadata": {},
     "output_type": "execute_result"
    }
   ],
   "source": [
    "sorted(coef_dict.items(), reverse=True)"
   ]
  },
  {
   "cell_type": "code",
   "execution_count": null,
   "metadata": {},
   "outputs": [],
   "source": []
  }
 ],
 "metadata": {
  "kernelspec": {
   "display_name": "Python 3",
   "language": "python",
   "name": "python3"
  },
  "language_info": {
   "codemirror_mode": {
    "name": "ipython",
    "version": 3
   },
   "file_extension": ".py",
   "mimetype": "text/x-python",
   "name": "python",
   "nbconvert_exporter": "python",
   "pygments_lexer": "ipython3",
   "version": "3.6.6"
  }
 },
 "nbformat": 4,
 "nbformat_minor": 2
}
