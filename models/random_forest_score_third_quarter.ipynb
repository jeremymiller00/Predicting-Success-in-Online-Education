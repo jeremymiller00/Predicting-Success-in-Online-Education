{
 "cells": [
  {
   "cell_type": "code",
   "execution_count": 1,
   "metadata": {},
   "outputs": [],
   "source": [
    "import pickle\n",
    "from sklearn.ensemble import RandomForestRegressor\n",
    "from sklearn.preprocessing import StandardScaler\n",
    "import numpy as np\n",
    "import pandas as pd\n",
    "from sklearn.metrics import mean_squared_error, r2_score, explained_variance_score\n",
    "from sklearn.model_selection import cross_validate\n",
    "from sklearn.externals import joblib\n",
    "from sklearn.base import clone\n",
    "from rfpimp import *\n",
    "import collections as c\n",
    "import matplotlib.pyplot as plt\n",
    "%matplotlib inline"
   ]
  },
  {
   "cell_type": "code",
   "execution_count": 2,
   "metadata": {},
   "outputs": [],
   "source": [
    "rf_model = pickle.load(open('random_forest_score_third_quarter.p', 'rb')) # load the model"
   ]
  },
  {
   "cell_type": "code",
   "execution_count": 3,
   "metadata": {},
   "outputs": [],
   "source": [
    "# model = RandomForestClassifier(bootstrap=True, class_weight=None, criterion='gini',\n",
    "#             max_depth=20, max_features='auto', max_leaf_nodes=None,\n",
    "#             min_impurity_decrease=0.0, min_impurity_split=None,\n",
    "#             min_samples_leaf=1, min_samples_split=2,\n",
    "#             min_weight_fraction_leaf=0.0, n_estimators=100, n_jobs=None,\n",
    "#             oob_score=False, random_state=None, verbose=0,\n",
    "#             warm_start=False)"
   ]
  },
  {
   "cell_type": "code",
   "execution_count": 3,
   "metadata": {},
   "outputs": [],
   "source": [
    "def only_completed(X_train, y_train, X_test, y_test, y_train_not_comp, y_test_not_comp):\n",
    "    '''\n",
    "    Returns dataframes with only those students who completed the course for the purpose of regressing the final score.\n",
    "    '''\n",
    "    test_indices = []\n",
    "    train_indices = []\n",
    "\n",
    "    y_test_not_comp = y_test_not_comp[y_test_not_comp['module_not_completed'] == 1]\n",
    "    for index, row in y_test_not_comp.iterrows():\n",
    "        test_indices.append(index)\n",
    "\n",
    "    y_train_not_comp = y_train_not_comp[y_train_not_comp['module_not_completed'] == 1]\n",
    "    for index, row in y_train_not_comp.iterrows():\n",
    "        train_indices.append(index)\n",
    "\n",
    "    return X_train.drop(train_indices), y_train.drop(train_indices), X_test.drop(test_indices), y_test.drop(test_indices)"
   ]
  },
  {
   "cell_type": "code",
   "execution_count": 4,
   "metadata": {},
   "outputs": [],
   "source": [
    "    X_train = pd.read_csv('../data/processed/third_quarter/X_train.csv')\n",
    "    y_train = pd.read_csv('../data/processed/third_quarter/y_train.csv')\n",
    "    y_train_not_comp = y_train[['module_not_completed']]\n",
    "    y_train = y_train['estimated_final_score']\n",
    "    X_test = pd.read_csv('../data/processed/third_quarter/X_test.csv')\n",
    "    y_test = pd.read_csv('../data/processed/third_quarter/y_test.csv')\n",
    "    y_test_not_comp = y_test[['module_not_completed']]\n",
    "    y_test = y_test['estimated_final_score']\n",
    "\n",
    "    # fill\n",
    "    X_train.fillna(value = 0, inplace = True)\n",
    "    y_train.fillna(value = 0, inplace = True)\n",
    "    X_test.fillna(value = 0, inplace = True)\n",
    "    y_test.fillna(value = 0, inplace = True)\n",
    "\n",
    "    # only students who completed the course\n",
    "    X_train, y_train, X_test, y_test = only_completed(X_train, y_train, X_test, y_test, y_train_not_comp, y_test_not_comp)"
   ]
  },
  {
   "cell_type": "code",
   "execution_count": 5,
   "metadata": {},
   "outputs": [],
   "source": [
    "    predictions = rf_model.predict(X_test)\n",
    "    rmse = np.sqrt(mean_squared_error(y_test, predictions))\n",
    "    evs = explained_variance_score(y_test, predictions)\n",
    "    r2 = r2_score(y_test, predictions)"
   ]
  },
  {
   "cell_type": "code",
   "execution_count": 6,
   "metadata": {},
   "outputs": [
    {
     "name": "stdout",
     "output_type": "stream",
     "text": [
      "Root Mean Squared Error: 5.462478019022134\n",
      "R-Squared: 0.9595072676929733\n",
      "Explained Variance Score: 0.9595085436900819\n"
     ]
    }
   ],
   "source": [
    "    print('Root Mean Squared Error: {}'.format(rmse))\n",
    "    print('R-Squared: {}'.format(r2))\n",
    "    print('Explained Variance Score: {}'.format(evs))"
   ]
  },
  {
   "cell_type": "code",
   "execution_count": 7,
   "metadata": {},
   "outputs": [
    {
     "data": {
      "text/html": [
       "<div>\n",
       "<style scoped>\n",
       "    .dataframe tbody tr th:only-of-type {\n",
       "        vertical-align: middle;\n",
       "    }\n",
       "\n",
       "    .dataframe tbody tr th {\n",
       "        vertical-align: top;\n",
       "    }\n",
       "\n",
       "    .dataframe thead th {\n",
       "        text-align: right;\n",
       "    }\n",
       "</style>\n",
       "<table border=\"1\" class=\"dataframe\">\n",
       "  <thead>\n",
       "    <tr style=\"text-align: right;\">\n",
       "      <th></th>\n",
       "      <th>Importance</th>\n",
       "    </tr>\n",
       "    <tr>\n",
       "      <th>Feature</th>\n",
       "      <th></th>\n",
       "    </tr>\n",
       "  </thead>\n",
       "  <tbody>\n",
       "    <tr>\n",
       "      <th>code_module_GGG</th>\n",
       "      <td>0.807845</td>\n",
       "    </tr>\n",
       "    <tr>\n",
       "      <th>avg_score</th>\n",
       "      <td>0.207672</td>\n",
       "    </tr>\n",
       "    <tr>\n",
       "      <th>sum_click_ouwiki</th>\n",
       "      <td>0.187283</td>\n",
       "    </tr>\n",
       "    <tr>\n",
       "      <th>code_module_DDD</th>\n",
       "      <td>0.173955</td>\n",
       "    </tr>\n",
       "    <tr>\n",
       "      <th>days_early_first_assessment</th>\n",
       "      <td>0.075674</td>\n",
       "    </tr>\n",
       "    <tr>\n",
       "      <th>code_module_FFF</th>\n",
       "      <td>0.051566</td>\n",
       "    </tr>\n",
       "    <tr>\n",
       "      <th>sum_click_externalquiz</th>\n",
       "      <td>0.024009</td>\n",
       "    </tr>\n",
       "    <tr>\n",
       "      <th>sum_click_quiz</th>\n",
       "      <td>0.018939</td>\n",
       "    </tr>\n",
       "    <tr>\n",
       "      <th>module_presentation_length</th>\n",
       "      <td>0.018100</td>\n",
       "    </tr>\n",
       "    <tr>\n",
       "      <th>sum_click_oucontent</th>\n",
       "      <td>0.014279</td>\n",
       "    </tr>\n",
       "    <tr>\n",
       "      <th>code_presentation_2014J</th>\n",
       "      <td>0.010864</td>\n",
       "    </tr>\n",
       "    <tr>\n",
       "      <th>avg_days_sub_early</th>\n",
       "      <td>0.009603</td>\n",
       "    </tr>\n",
       "    <tr>\n",
       "      <th>score_first_assessment</th>\n",
       "      <td>0.007072</td>\n",
       "    </tr>\n",
       "    <tr>\n",
       "      <th>code_module_CCC</th>\n",
       "      <td>0.001758</td>\n",
       "    </tr>\n",
       "    <tr>\n",
       "      <th>code_module_EEE</th>\n",
       "      <td>0.001690</td>\n",
       "    </tr>\n",
       "    <tr>\n",
       "      <th>sum_click_subpage</th>\n",
       "      <td>0.000691</td>\n",
       "    </tr>\n",
       "    <tr>\n",
       "      <th>sum_click_url</th>\n",
       "      <td>0.000666</td>\n",
       "    </tr>\n",
       "    <tr>\n",
       "      <th>code_module_BBB</th>\n",
       "      <td>0.000548</td>\n",
       "    </tr>\n",
       "    <tr>\n",
       "      <th>sum_click_resource</th>\n",
       "      <td>0.000462</td>\n",
       "    </tr>\n",
       "    <tr>\n",
       "      <th>sum_click_homepage</th>\n",
       "      <td>0.000317</td>\n",
       "    </tr>\n",
       "  </tbody>\n",
       "</table>\n",
       "</div>"
      ],
      "text/plain": [
       "                             Importance\n",
       "Feature                                \n",
       "code_module_GGG                0.807845\n",
       "avg_score                      0.207672\n",
       "sum_click_ouwiki               0.187283\n",
       "code_module_DDD                0.173955\n",
       "days_early_first_assessment    0.075674\n",
       "code_module_FFF                0.051566\n",
       "sum_click_externalquiz         0.024009\n",
       "sum_click_quiz                 0.018939\n",
       "module_presentation_length     0.018100\n",
       "sum_click_oucontent            0.014279\n",
       "code_presentation_2014J        0.010864\n",
       "avg_days_sub_early             0.009603\n",
       "score_first_assessment         0.007072\n",
       "code_module_CCC                0.001758\n",
       "code_module_EEE                0.001690\n",
       "sum_click_subpage              0.000691\n",
       "sum_click_url                  0.000666\n",
       "code_module_BBB                0.000548\n",
       "sum_click_resource             0.000462\n",
       "sum_click_homepage             0.000317"
      ]
     },
     "execution_count": 7,
     "metadata": {},
     "output_type": "execute_result"
    }
   ],
   "source": [
    "    feat_imp = importances(rf_model, X_test, y_test)\n",
    "    feat_imp.sort_values(by='Importance', ascending=False)[0:20]"
   ]
  },
  {
   "cell_type": "code",
   "execution_count": null,
   "metadata": {},
   "outputs": [],
   "source": []
  }
 ],
 "metadata": {
  "kernelspec": {
   "display_name": "Python 3",
   "language": "python",
   "name": "python3"
  },
  "language_info": {
   "codemirror_mode": {
    "name": "ipython",
    "version": 3
   },
   "file_extension": ".py",
   "mimetype": "text/x-python",
   "name": "python",
   "nbconvert_exporter": "python",
   "pygments_lexer": "ipython3",
   "version": "3.6.6"
  }
 },
 "nbformat": 4,
 "nbformat_minor": 2
}
