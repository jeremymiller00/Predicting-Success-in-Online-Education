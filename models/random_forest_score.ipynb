{
 "cells": [
  {
   "cell_type": "code",
   "execution_count": 1,
   "metadata": {},
   "outputs": [],
   "source": [
    "import pickle\n",
    "from sklearn.ensemble import RandomForestRegressor\n",
    "from sklearn.preprocessing import StandardScaler\n",
    "import numpy as np\n",
    "import pandas as pd\n",
    "from sklearn.metrics import mean_squared_error, r2_score\n",
    "from sklearn.externals import joblib\n",
    "from sklearn.base import clone\n",
    "from rfpimp import *\n",
    "import collections as c\n",
    "import matplotlib.pyplot as plt\n",
    "%matplotlib inline"
   ]
  },
  {
   "cell_type": "code",
   "execution_count": 2,
   "metadata": {},
   "outputs": [],
   "source": [
    "model = pickle.load(open('random_forest_score.p', 'rb')) # load the model"
   ]
  },
  {
   "cell_type": "code",
   "execution_count": 3,
   "metadata": {},
   "outputs": [],
   "source": [
    "# model = RandomForestClassifier(bootstrap=True, class_weight=None, criterion='gini',\n",
    "#             max_depth=20, max_features='auto', max_leaf_nodes=None,\n",
    "#             min_impurity_decrease=0.0, min_impurity_split=None,\n",
    "#             min_samples_leaf=1, min_samples_split=2,\n",
    "#             min_weight_fraction_leaf=0.0, n_estimators=100, n_jobs=None,\n",
    "#             oob_score=False, random_state=None, verbose=0,\n",
    "#             warm_start=False)"
   ]
  },
  {
   "cell_type": "code",
   "execution_count": 4,
   "metadata": {},
   "outputs": [],
   "source": [
    "def dropcol_importances(rf, X_train, y_train):\n",
    "    '''\n",
    "    Calculates the drop-column feature importances of a Random Forest model. \n",
    "    Explanation here: https://explained.ai/rf-importance/index.html\n",
    "    '''\n",
    "\n",
    "    rf_ = clone(rf)\n",
    "    rf_.random_state = 999\n",
    "    rf_.fit(X_train, y_train)\n",
    "    baseline = rf_.oob_score\n",
    "    imp = []\n",
    "    for col in X_train.columns:\n",
    "        X = X_train.drop(col, axis=1)\n",
    "        rf_ = clone(rf)\n",
    "        rf_.random_state = 999\n",
    "        rf_.fit(X, y_train)\n",
    "        o = rf_.oob_score\n",
    "        imp.append(baseline - o)\n",
    "    imp = np.array(imp)\n",
    "    I = pd.DataFrame(\n",
    "            data={'Feature':X_train.columns,\n",
    "                  'Importance':imp})\n",
    "    I = I.set_index('Feature')\n",
    "    I = I.sort_values('Importance', ascending=True)\n",
    "    return I"
   ]
  },
  {
   "cell_type": "code",
   "execution_count": 5,
   "metadata": {},
   "outputs": [],
   "source": [
    "def only_completed(X_train, y_train, X_test, y_test, y_train_not_comp, y_test_not_comp):\n",
    "    '''\n",
    "    Returns dataframes with only those students who completed the course for the purpose of regressing the final score.\n",
    "    '''\n",
    "    test_indices = []\n",
    "    train_indices = []\n",
    "\n",
    "    y_test_not_comp = y_test_not_comp[y_test_not_comp['module_not_completed'] == 1]\n",
    "    for index, row in y_test_not_comp.iterrows():\n",
    "        test_indices.append(index)\n",
    "\n",
    "    y_train_not_comp = y_train_not_comp[y_train_not_comp['module_not_completed'] == 1]\n",
    "    for index, row in y_train_not_comp.iterrows():\n",
    "        train_indices.append(index)\n",
    "\n",
    "    return X_train.drop(train_indices), y_train.drop(train_indices), X_test.drop(test_indices), y_test.drop(test_indices)"
   ]
  },
  {
   "cell_type": "code",
   "execution_count": 6,
   "metadata": {},
   "outputs": [],
   "source": [
    "    X_train = pd.read_csv('../data/processed/X_train.csv')\n",
    "    y_train = pd.read_csv('../data/processed/y_train.csv')\n",
    "    y_train_not_comp = y_train[['module_not_completed']]\n",
    "    y_train = y_train['estimated_final_score']\n",
    "    X_test = pd.read_csv('../data/processed/X_test.csv')\n",
    "    y_test = pd.read_csv('../data/processed/y_test.csv')\n",
    "    y_test_not_comp = y_test[['module_not_completed']]\n",
    "    y_test = y_test['estimated_final_score']\n",
    "numeric_cols = ['num_of_prev_attempts', 'studied_credits',\n",
    "'clicks_per_day', 'pct_days_vle_accessed','max_clicks_one_day',\n",
    "'first_date_vle_accessed', 'avg_score', 'avg_days_sub_early', 'days_early_first_assessment',\n",
    "'score_first_assessment']\n",
    "# fill\n",
    "    X_train.fillna(value = 0, inplace = True)\n",
    "    y_train.fillna(value = 0, inplace = True)\n",
    "    X_test.fillna(value = 0, inplace = True)\n",
    "    y_test.fillna(value = 0, inplace = True)"
   ]
  },
  {
   "cell_type": "code",
   "execution_count": 7,
   "metadata": {},
   "outputs": [],
   "source": [
    "    # only students who completed the course\n",
    "    X_train, y_train, X_test, y_test = only_completed(X_train, y_train, X_test, y_test, y_train_not_comp, y_test_not_comp)\n"
   ]
  },
  {
   "cell_type": "code",
   "execution_count": 8,
   "metadata": {},
   "outputs": [],
   "source": [
    "# model.fit(X_train, y_train)"
   ]
  },
  {
   "cell_type": "code",
   "execution_count": 9,
   "metadata": {},
   "outputs": [],
   "source": [
    "predictions = model.predict(X_test)"
   ]
  },
  {
   "cell_type": "code",
   "execution_count": 10,
   "metadata": {},
   "outputs": [
    {
     "data": {
      "text/plain": [
       "7.341329793914999"
      ]
     },
     "execution_count": 10,
     "metadata": {},
     "output_type": "execute_result"
    }
   ],
   "source": [
    "rmse = np.sqrt(mean_squared_error(y_test, predictions))\n",
    "rmse"
   ]
  },
  {
   "cell_type": "code",
   "execution_count": 11,
   "metadata": {},
   "outputs": [
    {
     "data": {
      "text/plain": [
       "0.9223393063239247"
      ]
     },
     "execution_count": 11,
     "metadata": {},
     "output_type": "execute_result"
    }
   ],
   "source": [
    "r2 = r2_score(y_test, predictions)\n",
    "r2"
   ]
  },
  {
   "cell_type": "code",
   "execution_count": 13,
   "metadata": {},
   "outputs": [],
   "source": [
    "# pd.DataFrame(data={'frps': fprs, 'tprs': tprs, 'Thresholds': thresh})"
   ]
  },
  {
   "cell_type": "markdown",
   "metadata": {},
   "source": [
    "# Which features are most important?"
   ]
  },
  {
   "cell_type": "code",
   "execution_count": 19,
   "metadata": {},
   "outputs": [],
   "source": [
    "feat_imp = importances(model, X_test, y_test)"
   ]
  },
  {
   "cell_type": "code",
   "execution_count": 22,
   "metadata": {},
   "outputs": [
    {
     "data": {
      "text/html": [
       "<div>\n",
       "<style scoped>\n",
       "    .dataframe tbody tr th:only-of-type {\n",
       "        vertical-align: middle;\n",
       "    }\n",
       "\n",
       "    .dataframe tbody tr th {\n",
       "        vertical-align: top;\n",
       "    }\n",
       "\n",
       "    .dataframe thead th {\n",
       "        text-align: right;\n",
       "    }\n",
       "</style>\n",
       "<table border=\"1\" class=\"dataframe\">\n",
       "  <thead>\n",
       "    <tr style=\"text-align: right;\">\n",
       "      <th></th>\n",
       "      <th>Importance</th>\n",
       "    </tr>\n",
       "    <tr>\n",
       "      <th>Feature</th>\n",
       "      <th></th>\n",
       "    </tr>\n",
       "  </thead>\n",
       "  <tbody>\n",
       "    <tr>\n",
       "      <th>code_module_GGG</th>\n",
       "      <td>1.374746e+00</td>\n",
       "    </tr>\n",
       "    <tr>\n",
       "      <th>avg_score</th>\n",
       "      <td>3.012493e-01</td>\n",
       "    </tr>\n",
       "    <tr>\n",
       "      <th>days_early_first_assessment</th>\n",
       "      <td>1.644599e-01</td>\n",
       "    </tr>\n",
       "    <tr>\n",
       "      <th>score_first_assessment</th>\n",
       "      <td>2.078149e-02</td>\n",
       "    </tr>\n",
       "    <tr>\n",
       "      <th>avg_days_sub_early</th>\n",
       "      <td>1.332790e-02</td>\n",
       "    </tr>\n",
       "    <tr>\n",
       "      <th>code_module_BBB</th>\n",
       "      <td>1.320231e-02</td>\n",
       "    </tr>\n",
       "    <tr>\n",
       "      <th>pct_days_vle_accessed</th>\n",
       "      <td>6.954371e-03</td>\n",
       "    </tr>\n",
       "    <tr>\n",
       "      <th>clicks_per_day</th>\n",
       "      <td>4.640370e-03</td>\n",
       "    </tr>\n",
       "    <tr>\n",
       "      <th>code_module_CCC</th>\n",
       "      <td>3.759122e-03</td>\n",
       "    </tr>\n",
       "    <tr>\n",
       "      <th>first_date_vle_accessed</th>\n",
       "      <td>1.019712e-03</td>\n",
       "    </tr>\n",
       "    <tr>\n",
       "      <th>max_clicks_one_day</th>\n",
       "      <td>9.761401e-04</td>\n",
       "    </tr>\n",
       "    <tr>\n",
       "      <th>code_module_FFF</th>\n",
       "      <td>6.869480e-04</td>\n",
       "    </tr>\n",
       "    <tr>\n",
       "      <th>studied_credits</th>\n",
       "      <td>5.519740e-04</td>\n",
       "    </tr>\n",
       "    <tr>\n",
       "      <th>code_module_DDD</th>\n",
       "      <td>2.379434e-04</td>\n",
       "    </tr>\n",
       "    <tr>\n",
       "      <th>code_presentation_2014J</th>\n",
       "      <td>1.565441e-04</td>\n",
       "    </tr>\n",
       "    <tr>\n",
       "      <th>highest_education_Lower Than A Level</th>\n",
       "      <td>1.346830e-04</td>\n",
       "    </tr>\n",
       "    <tr>\n",
       "      <th>region_West Midlands Region</th>\n",
       "      <td>1.209183e-04</td>\n",
       "    </tr>\n",
       "    <tr>\n",
       "      <th>imd_band_20-30%</th>\n",
       "      <td>1.166106e-04</td>\n",
       "    </tr>\n",
       "    <tr>\n",
       "      <th>code_presentation_2014B</th>\n",
       "      <td>1.105143e-04</td>\n",
       "    </tr>\n",
       "    <tr>\n",
       "      <th>imd_band_60-70%</th>\n",
       "      <td>1.032165e-04</td>\n",
       "    </tr>\n",
       "    <tr>\n",
       "      <th>code_presentation_2013J</th>\n",
       "      <td>9.541424e-05</td>\n",
       "    </tr>\n",
       "    <tr>\n",
       "      <th>code_module_EEE</th>\n",
       "      <td>9.530262e-05</td>\n",
       "    </tr>\n",
       "    <tr>\n",
       "      <th>region_South Region</th>\n",
       "      <td>9.021646e-05</td>\n",
       "    </tr>\n",
       "    <tr>\n",
       "      <th>imd_band_10-20</th>\n",
       "      <td>7.737528e-05</td>\n",
       "    </tr>\n",
       "    <tr>\n",
       "      <th>region_North Region</th>\n",
       "      <td>7.409728e-05</td>\n",
       "    </tr>\n",
       "    <tr>\n",
       "      <th>imd_band_30-40%</th>\n",
       "      <td>7.069637e-05</td>\n",
       "    </tr>\n",
       "    <tr>\n",
       "      <th>region_South West Region</th>\n",
       "      <td>6.567997e-05</td>\n",
       "    </tr>\n",
       "    <tr>\n",
       "      <th>region_Yorkshire Region</th>\n",
       "      <td>4.905807e-05</td>\n",
       "    </tr>\n",
       "    <tr>\n",
       "      <th>region_North Western Region</th>\n",
       "      <td>3.356897e-05</td>\n",
       "    </tr>\n",
       "    <tr>\n",
       "      <th>age_band_35-55</th>\n",
       "      <td>3.091035e-05</td>\n",
       "    </tr>\n",
       "    <tr>\n",
       "      <th>region_South East Region</th>\n",
       "      <td>3.061961e-05</td>\n",
       "    </tr>\n",
       "    <tr>\n",
       "      <th>highest_education_No Formal quals</th>\n",
       "      <td>2.477581e-05</td>\n",
       "    </tr>\n",
       "    <tr>\n",
       "      <th>num_of_prev_attempts</th>\n",
       "      <td>1.994645e-05</td>\n",
       "    </tr>\n",
       "    <tr>\n",
       "      <th>imd_band_70-80%</th>\n",
       "      <td>8.465640e-06</td>\n",
       "    </tr>\n",
       "    <tr>\n",
       "      <th>region_London Region</th>\n",
       "      <td>8.967427e-07</td>\n",
       "    </tr>\n",
       "    <tr>\n",
       "      <th>age_band_nan</th>\n",
       "      <td>0.000000e+00</td>\n",
       "    </tr>\n",
       "    <tr>\n",
       "      <th>highest_education_nan</th>\n",
       "      <td>0.000000e+00</td>\n",
       "    </tr>\n",
       "    <tr>\n",
       "      <th>disability_nan</th>\n",
       "      <td>0.000000e+00</td>\n",
       "    </tr>\n",
       "    <tr>\n",
       "      <th>region_nan</th>\n",
       "      <td>0.000000e+00</td>\n",
       "    </tr>\n",
       "    <tr>\n",
       "      <th>code_module_nan</th>\n",
       "      <td>0.000000e+00</td>\n",
       "    </tr>\n",
       "    <tr>\n",
       "      <th>code_presentation_nan</th>\n",
       "      <td>0.000000e+00</td>\n",
       "    </tr>\n",
       "    <tr>\n",
       "      <th>gender_nan</th>\n",
       "      <td>0.000000e+00</td>\n",
       "    </tr>\n",
       "    <tr>\n",
       "      <th>region_Scotland</th>\n",
       "      <td>-3.643180e-06</td>\n",
       "    </tr>\n",
       "    <tr>\n",
       "      <th>highest_education_Post Graduate Qualification</th>\n",
       "      <td>-1.308131e-05</td>\n",
       "    </tr>\n",
       "    <tr>\n",
       "      <th>imd_band_80-90%</th>\n",
       "      <td>-1.556337e-05</td>\n",
       "    </tr>\n",
       "    <tr>\n",
       "      <th>imd_band_nan</th>\n",
       "      <td>-1.595292e-05</td>\n",
       "    </tr>\n",
       "    <tr>\n",
       "      <th>region_East Midlands Region</th>\n",
       "      <td>-3.159967e-05</td>\n",
       "    </tr>\n",
       "    <tr>\n",
       "      <th>region_Ireland</th>\n",
       "      <td>-4.307094e-05</td>\n",
       "    </tr>\n",
       "    <tr>\n",
       "      <th>gender_M</th>\n",
       "      <td>-4.543877e-05</td>\n",
       "    </tr>\n",
       "    <tr>\n",
       "      <th>region_Wales</th>\n",
       "      <td>-6.012392e-05</td>\n",
       "    </tr>\n",
       "    <tr>\n",
       "      <th>imd_band_40-50%</th>\n",
       "      <td>-7.660467e-05</td>\n",
       "    </tr>\n",
       "    <tr>\n",
       "      <th>imd_band_50-60%</th>\n",
       "      <td>-7.955940e-05</td>\n",
       "    </tr>\n",
       "    <tr>\n",
       "      <th>imd_band_90-100%</th>\n",
       "      <td>-9.383264e-05</td>\n",
       "    </tr>\n",
       "    <tr>\n",
       "      <th>disability_Y</th>\n",
       "      <td>-1.272386e-04</td>\n",
       "    </tr>\n",
       "    <tr>\n",
       "      <th>age_band_55&lt;=</th>\n",
       "      <td>-1.876545e-04</td>\n",
       "    </tr>\n",
       "    <tr>\n",
       "      <th>highest_education_HE Qualification</th>\n",
       "      <td>-2.033842e-04</td>\n",
       "    </tr>\n",
       "  </tbody>\n",
       "</table>\n",
       "</div>"
      ],
      "text/plain": [
       "                                                 Importance\n",
       "Feature                                                    \n",
       "code_module_GGG                                1.374746e+00\n",
       "avg_score                                      3.012493e-01\n",
       "days_early_first_assessment                    1.644599e-01\n",
       "score_first_assessment                         2.078149e-02\n",
       "avg_days_sub_early                             1.332790e-02\n",
       "code_module_BBB                                1.320231e-02\n",
       "pct_days_vle_accessed                          6.954371e-03\n",
       "clicks_per_day                                 4.640370e-03\n",
       "code_module_CCC                                3.759122e-03\n",
       "first_date_vle_accessed                        1.019712e-03\n",
       "max_clicks_one_day                             9.761401e-04\n",
       "code_module_FFF                                6.869480e-04\n",
       "studied_credits                                5.519740e-04\n",
       "code_module_DDD                                2.379434e-04\n",
       "code_presentation_2014J                        1.565441e-04\n",
       "highest_education_Lower Than A Level           1.346830e-04\n",
       "region_West Midlands Region                    1.209183e-04\n",
       "imd_band_20-30%                                1.166106e-04\n",
       "code_presentation_2014B                        1.105143e-04\n",
       "imd_band_60-70%                                1.032165e-04\n",
       "code_presentation_2013J                        9.541424e-05\n",
       "code_module_EEE                                9.530262e-05\n",
       "region_South Region                            9.021646e-05\n",
       "imd_band_10-20                                 7.737528e-05\n",
       "region_North Region                            7.409728e-05\n",
       "imd_band_30-40%                                7.069637e-05\n",
       "region_South West Region                       6.567997e-05\n",
       "region_Yorkshire Region                        4.905807e-05\n",
       "region_North Western Region                    3.356897e-05\n",
       "age_band_35-55                                 3.091035e-05\n",
       "region_South East Region                       3.061961e-05\n",
       "highest_education_No Formal quals              2.477581e-05\n",
       "num_of_prev_attempts                           1.994645e-05\n",
       "imd_band_70-80%                                8.465640e-06\n",
       "region_London Region                           8.967427e-07\n",
       "age_band_nan                                   0.000000e+00\n",
       "highest_education_nan                          0.000000e+00\n",
       "disability_nan                                 0.000000e+00\n",
       "region_nan                                     0.000000e+00\n",
       "code_module_nan                                0.000000e+00\n",
       "code_presentation_nan                          0.000000e+00\n",
       "gender_nan                                     0.000000e+00\n",
       "region_Scotland                               -3.643180e-06\n",
       "highest_education_Post Graduate Qualification -1.308131e-05\n",
       "imd_band_80-90%                               -1.556337e-05\n",
       "imd_band_nan                                  -1.595292e-05\n",
       "region_East Midlands Region                   -3.159967e-05\n",
       "region_Ireland                                -4.307094e-05\n",
       "gender_M                                      -4.543877e-05\n",
       "region_Wales                                  -6.012392e-05\n",
       "imd_band_40-50%                               -7.660467e-05\n",
       "imd_band_50-60%                               -7.955940e-05\n",
       "imd_band_90-100%                              -9.383264e-05\n",
       "disability_Y                                  -1.272386e-04\n",
       "age_band_55<=                                 -1.876545e-04\n",
       "highest_education_HE Qualification            -2.033842e-04"
      ]
     },
     "execution_count": 22,
     "metadata": {},
     "output_type": "execute_result"
    }
   ],
   "source": [
    "feat_imp"
   ]
  },
  {
   "cell_type": "code",
   "execution_count": 19,
   "metadata": {},
   "outputs": [
    {
     "data": {
      "text/plain": [
       "array([8.07021634e-04, 2.46343904e-03, 7.49502154e-03, 6.57771031e-03,\n",
       "       6.66257902e-03, 4.67870748e-03, 1.52472837e-01, 1.59989465e-02,\n",
       "       8.85809462e-02, 1.36005807e-02, 7.02534237e-03, 1.75018119e-03,\n",
       "       4.41847834e-04, 2.52877254e-04, 5.71618653e-04, 6.74198126e-01,\n",
       "       0.00000000e+00, 5.77223761e-04, 7.33430181e-04, 6.95049772e-04,\n",
       "       0.00000000e+00, 7.12977653e-04, 0.00000000e+00, 6.58347801e-04,\n",
       "       4.99801614e-04, 6.65926797e-04, 2.62420781e-04, 4.23553672e-04,\n",
       "       5.96651061e-04, 3.89146521e-04, 6.79164661e-04, 4.02729426e-04,\n",
       "       4.01828945e-04, 4.86046594e-04, 2.60950031e-04, 0.00000000e+00,\n",
       "       5.82890874e-04, 7.81097184e-04, 1.64281184e-04, 1.16456685e-04,\n",
       "       0.00000000e+00, 5.29013716e-04, 5.32234831e-04, 5.62150590e-04,\n",
       "       5.32971618e-04, 5.73773576e-04, 4.96028047e-04, 4.86645639e-04,\n",
       "       5.05468907e-04, 5.12518824e-04, 2.13168388e-04, 6.78240808e-04,\n",
       "       2.17248016e-04, 0.00000000e+00, 4.92778850e-04, 0.00000000e+00])"
      ]
     },
     "execution_count": 19,
     "metadata": {},
     "output_type": "execute_result"
    }
   ],
   "source": [
    "model.feature_importances_"
   ]
  },
  {
   "cell_type": "code",
   "execution_count": 14,
   "metadata": {},
   "outputs": [],
   "source": [
    "# feat_imp = list(list(model.feature_importances_))\n",
    "features = list(X_test.columns)"
   ]
  },
  {
   "cell_type": "code",
   "execution_count": 20,
   "metadata": {},
   "outputs": [],
   "source": [
    "coef_dict = c.OrderedDict((zip(feat_imp, features)))"
   ]
  },
  {
   "cell_type": "code",
   "execution_count": 21,
   "metadata": {},
   "outputs": [
    {
     "data": {
      "text/plain": [
       "[('Importance', 'num_of_prev_attempts')]"
      ]
     },
     "execution_count": 21,
     "metadata": {},
     "output_type": "execute_result"
    }
   ],
   "source": [
    "sorted(coef_dict.items(), reverse=True)[:10]"
   ]
  },
  {
   "cell_type": "code",
   "execution_count": 18,
   "metadata": {},
   "outputs": [
    {
     "ename": "KeyboardInterrupt",
     "evalue": "",
     "output_type": "error",
     "traceback": [
      "\u001b[0;31m---------------------------------------------------------------------------\u001b[0m",
      "\u001b[0;31mKeyboardInterrupt\u001b[0m                         Traceback (most recent call last)",
      "\u001b[0;32m<ipython-input-18-d1bbb62769d2>\u001b[0m in \u001b[0;36m<module>\u001b[0;34m\u001b[0m\n\u001b[0;32m----> 1\u001b[0;31m \u001b[0mdropcol_importances\u001b[0m\u001b[0;34m(\u001b[0m\u001b[0mmodel\u001b[0m\u001b[0;34m,\u001b[0m \u001b[0mX_train\u001b[0m\u001b[0;34m,\u001b[0m \u001b[0my_train\u001b[0m\u001b[0;34m)\u001b[0m\u001b[0;34m\u001b[0m\u001b[0m\n\u001b[0m",
      "\u001b[0;32m<ipython-input-17-fc16ff62cff9>\u001b[0m in \u001b[0;36mdropcol_importances\u001b[0;34m(rf, X_train, y_train)\u001b[0m\n\u001b[1;32m     14\u001b[0m         \u001b[0mrf_\u001b[0m \u001b[0;34m=\u001b[0m \u001b[0mclone\u001b[0m\u001b[0;34m(\u001b[0m\u001b[0mrf\u001b[0m\u001b[0;34m)\u001b[0m\u001b[0;34m\u001b[0m\u001b[0m\n\u001b[1;32m     15\u001b[0m         \u001b[0mrf_\u001b[0m\u001b[0;34m.\u001b[0m\u001b[0mrandom_state\u001b[0m \u001b[0;34m=\u001b[0m \u001b[0;36m999\u001b[0m\u001b[0;34m\u001b[0m\u001b[0m\n\u001b[0;32m---> 16\u001b[0;31m         \u001b[0mrf_\u001b[0m\u001b[0;34m.\u001b[0m\u001b[0mfit\u001b[0m\u001b[0;34m(\u001b[0m\u001b[0mX\u001b[0m\u001b[0;34m,\u001b[0m \u001b[0my_train\u001b[0m\u001b[0;34m)\u001b[0m\u001b[0;34m\u001b[0m\u001b[0m\n\u001b[0m\u001b[1;32m     17\u001b[0m         \u001b[0mo\u001b[0m \u001b[0;34m=\u001b[0m \u001b[0mrf_\u001b[0m\u001b[0;34m.\u001b[0m\u001b[0moob_score\u001b[0m\u001b[0;34m\u001b[0m\u001b[0m\n\u001b[1;32m     18\u001b[0m         \u001b[0mimp\u001b[0m\u001b[0;34m.\u001b[0m\u001b[0mappend\u001b[0m\u001b[0;34m(\u001b[0m\u001b[0mbaseline\u001b[0m \u001b[0;34m-\u001b[0m \u001b[0mo\u001b[0m\u001b[0;34m)\u001b[0m\u001b[0;34m\u001b[0m\u001b[0m\n",
      "\u001b[0;32m~/anaconda3/lib/python3.6/site-packages/sklearn/ensemble/forest.py\u001b[0m in \u001b[0;36mfit\u001b[0;34m(self, X, y, sample_weight)\u001b[0m\n\u001b[1;32m    333\u001b[0m                     \u001b[0mt\u001b[0m\u001b[0;34m,\u001b[0m \u001b[0mself\u001b[0m\u001b[0;34m,\u001b[0m \u001b[0mX\u001b[0m\u001b[0;34m,\u001b[0m \u001b[0my\u001b[0m\u001b[0;34m,\u001b[0m \u001b[0msample_weight\u001b[0m\u001b[0;34m,\u001b[0m \u001b[0mi\u001b[0m\u001b[0;34m,\u001b[0m \u001b[0mlen\u001b[0m\u001b[0;34m(\u001b[0m\u001b[0mtrees\u001b[0m\u001b[0;34m)\u001b[0m\u001b[0;34m,\u001b[0m\u001b[0;34m\u001b[0m\u001b[0m\n\u001b[1;32m    334\u001b[0m                     verbose=self.verbose, class_weight=self.class_weight)\n\u001b[0;32m--> 335\u001b[0;31m                 for i, t in enumerate(trees))\n\u001b[0m\u001b[1;32m    336\u001b[0m \u001b[0;34m\u001b[0m\u001b[0m\n\u001b[1;32m    337\u001b[0m             \u001b[0;31m# Collect newly grown trees\u001b[0m\u001b[0;34m\u001b[0m\u001b[0;34m\u001b[0m\u001b[0m\n",
      "\u001b[0;32m~/anaconda3/lib/python3.6/site-packages/sklearn/externals/joblib/parallel.py\u001b[0m in \u001b[0;36m__call__\u001b[0;34m(self, iterable)\u001b[0m\n\u001b[1;32m    984\u001b[0m                 \u001b[0mself\u001b[0m\u001b[0;34m.\u001b[0m\u001b[0m_iterating\u001b[0m \u001b[0;34m=\u001b[0m \u001b[0mself\u001b[0m\u001b[0;34m.\u001b[0m\u001b[0m_original_iterator\u001b[0m \u001b[0;32mis\u001b[0m \u001b[0;32mnot\u001b[0m \u001b[0;32mNone\u001b[0m\u001b[0;34m\u001b[0m\u001b[0m\n\u001b[1;32m    985\u001b[0m \u001b[0;34m\u001b[0m\u001b[0m\n\u001b[0;32m--> 986\u001b[0;31m             \u001b[0;32mwhile\u001b[0m \u001b[0mself\u001b[0m\u001b[0;34m.\u001b[0m\u001b[0mdispatch_one_batch\u001b[0m\u001b[0;34m(\u001b[0m\u001b[0miterator\u001b[0m\u001b[0;34m)\u001b[0m\u001b[0;34m:\u001b[0m\u001b[0;34m\u001b[0m\u001b[0m\n\u001b[0m\u001b[1;32m    987\u001b[0m                 \u001b[0;32mpass\u001b[0m\u001b[0;34m\u001b[0m\u001b[0m\n\u001b[1;32m    988\u001b[0m \u001b[0;34m\u001b[0m\u001b[0m\n",
      "\u001b[0;32m~/anaconda3/lib/python3.6/site-packages/sklearn/externals/joblib/parallel.py\u001b[0m in \u001b[0;36mdispatch_one_batch\u001b[0;34m(self, iterator)\u001b[0m\n\u001b[1;32m    823\u001b[0m                 \u001b[0;32mreturn\u001b[0m \u001b[0;32mFalse\u001b[0m\u001b[0;34m\u001b[0m\u001b[0m\n\u001b[1;32m    824\u001b[0m             \u001b[0;32melse\u001b[0m\u001b[0;34m:\u001b[0m\u001b[0;34m\u001b[0m\u001b[0m\n\u001b[0;32m--> 825\u001b[0;31m                 \u001b[0mself\u001b[0m\u001b[0;34m.\u001b[0m\u001b[0m_dispatch\u001b[0m\u001b[0;34m(\u001b[0m\u001b[0mtasks\u001b[0m\u001b[0;34m)\u001b[0m\u001b[0;34m\u001b[0m\u001b[0m\n\u001b[0m\u001b[1;32m    826\u001b[0m                 \u001b[0;32mreturn\u001b[0m \u001b[0;32mTrue\u001b[0m\u001b[0;34m\u001b[0m\u001b[0m\n\u001b[1;32m    827\u001b[0m \u001b[0;34m\u001b[0m\u001b[0m\n",
      "\u001b[0;32m~/anaconda3/lib/python3.6/site-packages/sklearn/externals/joblib/parallel.py\u001b[0m in \u001b[0;36m_dispatch\u001b[0;34m(self, batch)\u001b[0m\n\u001b[1;32m    780\u001b[0m         \u001b[0;32mwith\u001b[0m \u001b[0mself\u001b[0m\u001b[0;34m.\u001b[0m\u001b[0m_lock\u001b[0m\u001b[0;34m:\u001b[0m\u001b[0;34m\u001b[0m\u001b[0m\n\u001b[1;32m    781\u001b[0m             \u001b[0mjob_idx\u001b[0m \u001b[0;34m=\u001b[0m \u001b[0mlen\u001b[0m\u001b[0;34m(\u001b[0m\u001b[0mself\u001b[0m\u001b[0;34m.\u001b[0m\u001b[0m_jobs\u001b[0m\u001b[0;34m)\u001b[0m\u001b[0;34m\u001b[0m\u001b[0m\n\u001b[0;32m--> 782\u001b[0;31m             \u001b[0mjob\u001b[0m \u001b[0;34m=\u001b[0m \u001b[0mself\u001b[0m\u001b[0;34m.\u001b[0m\u001b[0m_backend\u001b[0m\u001b[0;34m.\u001b[0m\u001b[0mapply_async\u001b[0m\u001b[0;34m(\u001b[0m\u001b[0mbatch\u001b[0m\u001b[0;34m,\u001b[0m \u001b[0mcallback\u001b[0m\u001b[0;34m=\u001b[0m\u001b[0mcb\u001b[0m\u001b[0;34m)\u001b[0m\u001b[0;34m\u001b[0m\u001b[0m\n\u001b[0m\u001b[1;32m    783\u001b[0m             \u001b[0;31m# A job can complete so quickly than its callback is\u001b[0m\u001b[0;34m\u001b[0m\u001b[0;34m\u001b[0m\u001b[0m\n\u001b[1;32m    784\u001b[0m             \u001b[0;31m# called before we get here, causing self._jobs to\u001b[0m\u001b[0;34m\u001b[0m\u001b[0;34m\u001b[0m\u001b[0m\n",
      "\u001b[0;32m~/anaconda3/lib/python3.6/site-packages/sklearn/externals/joblib/_parallel_backends.py\u001b[0m in \u001b[0;36mapply_async\u001b[0;34m(self, func, callback)\u001b[0m\n\u001b[1;32m    180\u001b[0m     \u001b[0;32mdef\u001b[0m \u001b[0mapply_async\u001b[0m\u001b[0;34m(\u001b[0m\u001b[0mself\u001b[0m\u001b[0;34m,\u001b[0m \u001b[0mfunc\u001b[0m\u001b[0;34m,\u001b[0m \u001b[0mcallback\u001b[0m\u001b[0;34m=\u001b[0m\u001b[0;32mNone\u001b[0m\u001b[0;34m)\u001b[0m\u001b[0;34m:\u001b[0m\u001b[0;34m\u001b[0m\u001b[0m\n\u001b[1;32m    181\u001b[0m         \u001b[0;34m\"\"\"Schedule a func to be run\"\"\"\u001b[0m\u001b[0;34m\u001b[0m\u001b[0m\n\u001b[0;32m--> 182\u001b[0;31m         \u001b[0mresult\u001b[0m \u001b[0;34m=\u001b[0m \u001b[0mImmediateResult\u001b[0m\u001b[0;34m(\u001b[0m\u001b[0mfunc\u001b[0m\u001b[0;34m)\u001b[0m\u001b[0;34m\u001b[0m\u001b[0m\n\u001b[0m\u001b[1;32m    183\u001b[0m         \u001b[0;32mif\u001b[0m \u001b[0mcallback\u001b[0m\u001b[0;34m:\u001b[0m\u001b[0;34m\u001b[0m\u001b[0m\n\u001b[1;32m    184\u001b[0m             \u001b[0mcallback\u001b[0m\u001b[0;34m(\u001b[0m\u001b[0mresult\u001b[0m\u001b[0;34m)\u001b[0m\u001b[0;34m\u001b[0m\u001b[0m\n",
      "\u001b[0;32m~/anaconda3/lib/python3.6/site-packages/sklearn/externals/joblib/_parallel_backends.py\u001b[0m in \u001b[0;36m__init__\u001b[0;34m(self, batch)\u001b[0m\n\u001b[1;32m    543\u001b[0m         \u001b[0;31m# Don't delay the application, to avoid keeping the input\u001b[0m\u001b[0;34m\u001b[0m\u001b[0;34m\u001b[0m\u001b[0m\n\u001b[1;32m    544\u001b[0m         \u001b[0;31m# arguments in memory\u001b[0m\u001b[0;34m\u001b[0m\u001b[0;34m\u001b[0m\u001b[0m\n\u001b[0;32m--> 545\u001b[0;31m         \u001b[0mself\u001b[0m\u001b[0;34m.\u001b[0m\u001b[0mresults\u001b[0m \u001b[0;34m=\u001b[0m \u001b[0mbatch\u001b[0m\u001b[0;34m(\u001b[0m\u001b[0;34m)\u001b[0m\u001b[0;34m\u001b[0m\u001b[0m\n\u001b[0m\u001b[1;32m    546\u001b[0m \u001b[0;34m\u001b[0m\u001b[0m\n\u001b[1;32m    547\u001b[0m     \u001b[0;32mdef\u001b[0m \u001b[0mget\u001b[0m\u001b[0;34m(\u001b[0m\u001b[0mself\u001b[0m\u001b[0;34m)\u001b[0m\u001b[0;34m:\u001b[0m\u001b[0;34m\u001b[0m\u001b[0m\n",
      "\u001b[0;32m~/anaconda3/lib/python3.6/site-packages/sklearn/externals/joblib/parallel.py\u001b[0m in \u001b[0;36m__call__\u001b[0;34m(self)\u001b[0m\n\u001b[1;32m    259\u001b[0m         \u001b[0;32mwith\u001b[0m \u001b[0mparallel_backend\u001b[0m\u001b[0;34m(\u001b[0m\u001b[0mself\u001b[0m\u001b[0;34m.\u001b[0m\u001b[0m_backend\u001b[0m\u001b[0;34m)\u001b[0m\u001b[0;34m:\u001b[0m\u001b[0;34m\u001b[0m\u001b[0m\n\u001b[1;32m    260\u001b[0m             return [func(*args, **kwargs)\n\u001b[0;32m--> 261\u001b[0;31m                     for func, args, kwargs in self.items]\n\u001b[0m\u001b[1;32m    262\u001b[0m \u001b[0;34m\u001b[0m\u001b[0m\n\u001b[1;32m    263\u001b[0m     \u001b[0;32mdef\u001b[0m \u001b[0m__len__\u001b[0m\u001b[0;34m(\u001b[0m\u001b[0mself\u001b[0m\u001b[0;34m)\u001b[0m\u001b[0;34m:\u001b[0m\u001b[0;34m\u001b[0m\u001b[0m\n",
      "\u001b[0;32m~/anaconda3/lib/python3.6/site-packages/sklearn/externals/joblib/parallel.py\u001b[0m in \u001b[0;36m<listcomp>\u001b[0;34m(.0)\u001b[0m\n\u001b[1;32m    259\u001b[0m         \u001b[0;32mwith\u001b[0m \u001b[0mparallel_backend\u001b[0m\u001b[0;34m(\u001b[0m\u001b[0mself\u001b[0m\u001b[0;34m.\u001b[0m\u001b[0m_backend\u001b[0m\u001b[0;34m)\u001b[0m\u001b[0;34m:\u001b[0m\u001b[0;34m\u001b[0m\u001b[0m\n\u001b[1;32m    260\u001b[0m             return [func(*args, **kwargs)\n\u001b[0;32m--> 261\u001b[0;31m                     for func, args, kwargs in self.items]\n\u001b[0m\u001b[1;32m    262\u001b[0m \u001b[0;34m\u001b[0m\u001b[0m\n\u001b[1;32m    263\u001b[0m     \u001b[0;32mdef\u001b[0m \u001b[0m__len__\u001b[0m\u001b[0;34m(\u001b[0m\u001b[0mself\u001b[0m\u001b[0;34m)\u001b[0m\u001b[0;34m:\u001b[0m\u001b[0;34m\u001b[0m\u001b[0m\n",
      "\u001b[0;32m~/anaconda3/lib/python3.6/site-packages/sklearn/ensemble/forest.py\u001b[0m in \u001b[0;36m_parallel_build_trees\u001b[0;34m(tree, forest, X, y, sample_weight, tree_idx, n_trees, verbose, class_weight)\u001b[0m\n\u001b[1;32m    119\u001b[0m             \u001b[0mcurr_sample_weight\u001b[0m \u001b[0;34m*=\u001b[0m \u001b[0mcompute_sample_weight\u001b[0m\u001b[0;34m(\u001b[0m\u001b[0;34m'balanced'\u001b[0m\u001b[0;34m,\u001b[0m \u001b[0my\u001b[0m\u001b[0;34m,\u001b[0m \u001b[0mindices\u001b[0m\u001b[0;34m)\u001b[0m\u001b[0;34m\u001b[0m\u001b[0m\n\u001b[1;32m    120\u001b[0m \u001b[0;34m\u001b[0m\u001b[0m\n\u001b[0;32m--> 121\u001b[0;31m         \u001b[0mtree\u001b[0m\u001b[0;34m.\u001b[0m\u001b[0mfit\u001b[0m\u001b[0;34m(\u001b[0m\u001b[0mX\u001b[0m\u001b[0;34m,\u001b[0m \u001b[0my\u001b[0m\u001b[0;34m,\u001b[0m \u001b[0msample_weight\u001b[0m\u001b[0;34m=\u001b[0m\u001b[0mcurr_sample_weight\u001b[0m\u001b[0;34m,\u001b[0m \u001b[0mcheck_input\u001b[0m\u001b[0;34m=\u001b[0m\u001b[0;32mFalse\u001b[0m\u001b[0;34m)\u001b[0m\u001b[0;34m\u001b[0m\u001b[0m\n\u001b[0m\u001b[1;32m    122\u001b[0m     \u001b[0;32melse\u001b[0m\u001b[0;34m:\u001b[0m\u001b[0;34m\u001b[0m\u001b[0m\n\u001b[1;32m    123\u001b[0m         \u001b[0mtree\u001b[0m\u001b[0;34m.\u001b[0m\u001b[0mfit\u001b[0m\u001b[0;34m(\u001b[0m\u001b[0mX\u001b[0m\u001b[0;34m,\u001b[0m \u001b[0my\u001b[0m\u001b[0;34m,\u001b[0m \u001b[0msample_weight\u001b[0m\u001b[0;34m=\u001b[0m\u001b[0msample_weight\u001b[0m\u001b[0;34m,\u001b[0m \u001b[0mcheck_input\u001b[0m\u001b[0;34m=\u001b[0m\u001b[0;32mFalse\u001b[0m\u001b[0;34m)\u001b[0m\u001b[0;34m\u001b[0m\u001b[0m\n",
      "\u001b[0;32m~/anaconda3/lib/python3.6/site-packages/sklearn/tree/tree.py\u001b[0m in \u001b[0;36mfit\u001b[0;34m(self, X, y, sample_weight, check_input, X_idx_sorted)\u001b[0m\n\u001b[1;32m   1137\u001b[0m             \u001b[0msample_weight\u001b[0m\u001b[0;34m=\u001b[0m\u001b[0msample_weight\u001b[0m\u001b[0;34m,\u001b[0m\u001b[0;34m\u001b[0m\u001b[0m\n\u001b[1;32m   1138\u001b[0m             \u001b[0mcheck_input\u001b[0m\u001b[0;34m=\u001b[0m\u001b[0mcheck_input\u001b[0m\u001b[0;34m,\u001b[0m\u001b[0;34m\u001b[0m\u001b[0m\n\u001b[0;32m-> 1139\u001b[0;31m             X_idx_sorted=X_idx_sorted)\n\u001b[0m\u001b[1;32m   1140\u001b[0m         \u001b[0;32mreturn\u001b[0m \u001b[0mself\u001b[0m\u001b[0;34m\u001b[0m\u001b[0m\n\u001b[1;32m   1141\u001b[0m \u001b[0;34m\u001b[0m\u001b[0m\n",
      "\u001b[0;32m~/anaconda3/lib/python3.6/site-packages/sklearn/tree/tree.py\u001b[0m in \u001b[0;36mfit\u001b[0;34m(self, X, y, sample_weight, check_input, X_idx_sorted)\u001b[0m\n\u001b[1;32m    363\u001b[0m                                            min_impurity_split)\n\u001b[1;32m    364\u001b[0m \u001b[0;34m\u001b[0m\u001b[0m\n\u001b[0;32m--> 365\u001b[0;31m         \u001b[0mbuilder\u001b[0m\u001b[0;34m.\u001b[0m\u001b[0mbuild\u001b[0m\u001b[0;34m(\u001b[0m\u001b[0mself\u001b[0m\u001b[0;34m.\u001b[0m\u001b[0mtree_\u001b[0m\u001b[0;34m,\u001b[0m \u001b[0mX\u001b[0m\u001b[0;34m,\u001b[0m \u001b[0my\u001b[0m\u001b[0;34m,\u001b[0m \u001b[0msample_weight\u001b[0m\u001b[0;34m,\u001b[0m \u001b[0mX_idx_sorted\u001b[0m\u001b[0;34m)\u001b[0m\u001b[0;34m\u001b[0m\u001b[0m\n\u001b[0m\u001b[1;32m    366\u001b[0m \u001b[0;34m\u001b[0m\u001b[0m\n\u001b[1;32m    367\u001b[0m         \u001b[0;32mif\u001b[0m \u001b[0mself\u001b[0m\u001b[0;34m.\u001b[0m\u001b[0mn_outputs_\u001b[0m \u001b[0;34m==\u001b[0m \u001b[0;36m1\u001b[0m\u001b[0;34m:\u001b[0m\u001b[0;34m\u001b[0m\u001b[0m\n",
      "\u001b[0;31mKeyboardInterrupt\u001b[0m: "
     ]
    }
   ],
   "source": [
    "dropcol_importances(model, X_train, y_train)"
   ]
  },
  {
   "cell_type": "code",
   "execution_count": 34,
   "metadata": {},
   "outputs": [
    {
     "data": {
      "text/plain": [
       "False"
      ]
     },
     "execution_count": 34,
     "metadata": {},
     "output_type": "execute_result"
    }
   ],
   "source": [
    "model.oob_score"
   ]
  },
  {
   "cell_type": "code",
   "execution_count": null,
   "metadata": {},
   "outputs": [],
   "source": []
  },
  {
   "cell_type": "code",
   "execution_count": null,
   "metadata": {},
   "outputs": [],
   "source": []
  },
  {
   "cell_type": "code",
   "execution_count": null,
   "metadata": {},
   "outputs": [],
   "source": []
  },
  {
   "cell_type": "code",
   "execution_count": null,
   "metadata": {},
   "outputs": [],
   "source": []
  },
  {
   "cell_type": "code",
   "execution_count": null,
   "metadata": {},
   "outputs": [],
   "source": []
  },
  {
   "cell_type": "code",
   "execution_count": null,
   "metadata": {},
   "outputs": [],
   "source": []
  },
  {
   "cell_type": "code",
   "execution_count": null,
   "metadata": {},
   "outputs": [],
   "source": []
  },
  {
   "cell_type": "code",
   "execution_count": null,
   "metadata": {},
   "outputs": [],
   "source": []
  },
  {
   "cell_type": "code",
   "execution_count": null,
   "metadata": {},
   "outputs": [],
   "source": [
    "pickle.dump(model, open('random_forest_completion.p', 'wb')) # save the model"
   ]
  },
  {
   "cell_type": "code",
   "execution_count": null,
   "metadata": {},
   "outputs": [],
   "source": []
  }
 ],
 "metadata": {
  "kernelspec": {
   "display_name": "Python 3",
   "language": "python",
   "name": "python3"
  },
  "language_info": {
   "codemirror_mode": {
    "name": "ipython",
    "version": 3
   },
   "file_extension": ".py",
   "mimetype": "text/x-python",
   "name": "python",
   "nbconvert_exporter": "python",
   "pygments_lexer": "ipython3",
   "version": "3.6.6"
  }
 },
 "nbformat": 4,
 "nbformat_minor": 2
}
