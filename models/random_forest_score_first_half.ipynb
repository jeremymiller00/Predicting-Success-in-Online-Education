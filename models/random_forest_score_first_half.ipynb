{
 "cells": [
  {
   "cell_type": "code",
   "execution_count": 27,
   "metadata": {},
   "outputs": [],
   "source": [
    "import pickle\n",
    "from sklearn.ensemble import RandomForestRegressor\n",
    "from sklearn.preprocessing import StandardScaler\n",
    "import numpy as np\n",
    "import pandas as pd\n",
    "from sklearn.metrics import mean_squared_error, r2_score, explained_variance_score\n",
    "from sklearn.model_selection import cross_validate\n",
    "from sklearn.externals import joblib\n",
    "from sklearn.base import clone\n",
    "from rfpimp import *\n",
    "import collections as c\n",
    "import matplotlib.pyplot as plt\n",
    "%matplotlib inline"
   ]
  },
  {
   "cell_type": "code",
   "execution_count": 18,
   "metadata": {},
   "outputs": [],
   "source": [
    "rf_model = pickle.load(open('random_forest_score_first_half.p', 'rb')) # load the model"
   ]
  },
  {
   "cell_type": "code",
   "execution_count": 10,
   "metadata": {},
   "outputs": [],
   "source": [
    "# model = RandomForestClassifier(bootstrap=True, class_weight=None, criterion='gini',\n",
    "#             max_depth=20, max_features='auto', max_leaf_nodes=None,\n",
    "#             min_impurity_decrease=0.0, min_impurity_split=None,\n",
    "#             min_samples_leaf=1, min_samples_split=2,\n",
    "#             min_weight_fraction_leaf=0.0, n_estimators=100, n_jobs=None,\n",
    "#             oob_score=False, random_state=None, verbose=0,\n",
    "#             warm_start=False)"
   ]
  },
  {
   "cell_type": "code",
   "execution_count": 11,
   "metadata": {},
   "outputs": [],
   "source": [
    "def dropcol_importances(rf, X_train, y_train):\n",
    "    '''\n",
    "    Calculates the drop-column feature importances of a Random Forest model. \n",
    "    Explanation here: https://explained.ai/rf-importance/index.html\n",
    "    '''\n",
    "\n",
    "    rf_ = clone(rf)\n",
    "    rf_.random_state = 999\n",
    "    rf_.fit(X_train, y_train)\n",
    "    baseline = rf_.oob_score\n",
    "    imp = []\n",
    "    for col in X_train.columns:\n",
    "        X = X_train.drop(col, axis=1)\n",
    "        rf_ = clone(rf)\n",
    "        rf_.random_state = 999\n",
    "        rf_.fit(X, y_train)\n",
    "        o = rf_.oob_score\n",
    "        imp.append(baseline - o)\n",
    "    imp = np.array(imp)\n",
    "    I = pd.DataFrame(\n",
    "            data={'Feature':X_train.columns,\n",
    "                  'Importance':imp})\n",
    "    I = I.set_index('Feature')\n",
    "    I = I.sort_values('Importance', ascending=True)\n",
    "    return I"
   ]
  },
  {
   "cell_type": "code",
   "execution_count": 12,
   "metadata": {},
   "outputs": [],
   "source": [
    "def only_completed(X_train, y_train, X_test, y_test, y_train_not_comp, y_test_not_comp):\n",
    "    '''\n",
    "    Returns dataframes with only those students who completed the course for the purpose of regressing the final score.\n",
    "    '''\n",
    "    test_indices = []\n",
    "    train_indices = []\n",
    "\n",
    "    y_test_not_comp = y_test_not_comp[y_test_not_comp['module_not_completed'] == 1]\n",
    "    for index, row in y_test_not_comp.iterrows():\n",
    "        test_indices.append(index)\n",
    "\n",
    "    y_train_not_comp = y_train_not_comp[y_train_not_comp['module_not_completed'] == 1]\n",
    "    for index, row in y_train_not_comp.iterrows():\n",
    "        train_indices.append(index)\n",
    "\n",
    "    return X_train.drop(train_indices), y_train.drop(train_indices), X_test.drop(test_indices), y_test.drop(test_indices)"
   ]
  },
  {
   "cell_type": "code",
   "execution_count": 17,
   "metadata": {},
   "outputs": [],
   "source": [
    "    X_train = pd.read_csv('../data/processed/first_half/X_train.csv')\n",
    "    y_train = pd.read_csv('../data/processed/first_half/y_train.csv')\n",
    "    y_train_not_comp = y_train[['module_not_completed']]\n",
    "    y_train = y_train['estimated_final_score']\n",
    "    X_test = pd.read_csv('../data/processed/first_half/X_test.csv')\n",
    "    y_test = pd.read_csv('../data/processed/first_half/y_test.csv')\n",
    "    y_test_not_comp = y_test[['module_not_completed']]\n",
    "    y_test = y_test['estimated_final_score']\n",
    "\n",
    "    # fill\n",
    "    X_train.fillna(value = 0, inplace = True)\n",
    "    y_train.fillna(value = 0, inplace = True)\n",
    "    X_test.fillna(value = 0, inplace = True)\n",
    "    y_test.fillna(value = 0, inplace = True)\n",
    "\n",
    "    # only students who completed the course\n",
    "    X_train, y_train, X_test, y_test = only_completed(X_train, y_train, X_test, y_test, y_train_not_comp, y_test_not_comp)"
   ]
  },
  {
   "cell_type": "code",
   "execution_count": 22,
   "metadata": {},
   "outputs": [],
   "source": [
    "    predictions = rf_model.predict(X_test)\n",
    "    rmse = np.sqrt(mean_squared_error(y_test, predictions))\n",
    "    evs = explained_variance_score(y_test, predictions)\n",
    "    r2 = r2_score(y_test, predictions)"
   ]
  },
  {
   "cell_type": "code",
   "execution_count": 23,
   "metadata": {},
   "outputs": [
    {
     "name": "stdout",
     "output_type": "stream",
     "text": [
      "Root Mean Squared Error: 3.293200813387826\n",
      "R-Squared: 0.966577476051998\n",
      "Explained Variance Score: 0.9665942458653208\n"
     ]
    }
   ],
   "source": [
    "    print('Root Mean Squared Error: {}'.format(rmse))\n",
    "    print('R-Squared: {}'.format(r2))\n",
    "    print('Explained Variance Score: {}'.format(evs))"
   ]
  },
  {
   "cell_type": "code",
   "execution_count": 31,
   "metadata": {},
   "outputs": [
    {
     "data": {
      "text/html": [
       "<div>\n",
       "<style scoped>\n",
       "    .dataframe tbody tr th:only-of-type {\n",
       "        vertical-align: middle;\n",
       "    }\n",
       "\n",
       "    .dataframe tbody tr th {\n",
       "        vertical-align: top;\n",
       "    }\n",
       "\n",
       "    .dataframe thead th {\n",
       "        text-align: right;\n",
       "    }\n",
       "</style>\n",
       "<table border=\"1\" class=\"dataframe\">\n",
       "  <thead>\n",
       "    <tr style=\"text-align: right;\">\n",
       "      <th></th>\n",
       "      <th>Importance</th>\n",
       "    </tr>\n",
       "    <tr>\n",
       "      <th>Feature</th>\n",
       "      <th></th>\n",
       "    </tr>\n",
       "  </thead>\n",
       "  <tbody>\n",
       "    <tr>\n",
       "      <th>code_module_GGG</th>\n",
       "      <td>0.697050</td>\n",
       "    </tr>\n",
       "    <tr>\n",
       "      <th>code_module_EEE</th>\n",
       "      <td>0.303992</td>\n",
       "    </tr>\n",
       "    <tr>\n",
       "      <th>code_module_FFF</th>\n",
       "      <td>0.290800</td>\n",
       "    </tr>\n",
       "    <tr>\n",
       "      <th>avg_score</th>\n",
       "      <td>0.215230</td>\n",
       "    </tr>\n",
       "    <tr>\n",
       "      <th>code_presentation_2013J</th>\n",
       "      <td>0.111172</td>\n",
       "    </tr>\n",
       "    <tr>\n",
       "      <th>score_first_assessment</th>\n",
       "      <td>0.068568</td>\n",
       "    </tr>\n",
       "    <tr>\n",
       "      <th>days_early_first_assessment</th>\n",
       "      <td>0.067799</td>\n",
       "    </tr>\n",
       "    <tr>\n",
       "      <th>sum_click_ouwiki</th>\n",
       "      <td>0.055113</td>\n",
       "    </tr>\n",
       "    <tr>\n",
       "      <th>module_presentation_length</th>\n",
       "      <td>0.044555</td>\n",
       "    </tr>\n",
       "    <tr>\n",
       "      <th>code_module_CCC</th>\n",
       "      <td>0.024110</td>\n",
       "    </tr>\n",
       "    <tr>\n",
       "      <th>avg_days_sub_early</th>\n",
       "      <td>0.013602</td>\n",
       "    </tr>\n",
       "    <tr>\n",
       "      <th>code_module_BBB</th>\n",
       "      <td>0.011342</td>\n",
       "    </tr>\n",
       "    <tr>\n",
       "      <th>code_presentation_2014J</th>\n",
       "      <td>0.003145</td>\n",
       "    </tr>\n",
       "    <tr>\n",
       "      <th>sum_click_quiz</th>\n",
       "      <td>0.002015</td>\n",
       "    </tr>\n",
       "    <tr>\n",
       "      <th>first_date_vle_accessed</th>\n",
       "      <td>0.000699</td>\n",
       "    </tr>\n",
       "    <tr>\n",
       "      <th>code_presentation_2014B</th>\n",
       "      <td>0.000672</td>\n",
       "    </tr>\n",
       "    <tr>\n",
       "      <th>sum_click_ouelluminate</th>\n",
       "      <td>0.000506</td>\n",
       "    </tr>\n",
       "    <tr>\n",
       "      <th>code_module_DDD</th>\n",
       "      <td>0.000298</td>\n",
       "    </tr>\n",
       "    <tr>\n",
       "      <th>sum_click_oucontent</th>\n",
       "      <td>0.000230</td>\n",
       "    </tr>\n",
       "    <tr>\n",
       "      <th>sum_click_url</th>\n",
       "      <td>0.000139</td>\n",
       "    </tr>\n",
       "  </tbody>\n",
       "</table>\n",
       "</div>"
      ],
      "text/plain": [
       "                             Importance\n",
       "Feature                                \n",
       "code_module_GGG                0.697050\n",
       "code_module_EEE                0.303992\n",
       "code_module_FFF                0.290800\n",
       "avg_score                      0.215230\n",
       "code_presentation_2013J        0.111172\n",
       "score_first_assessment         0.068568\n",
       "days_early_first_assessment    0.067799\n",
       "sum_click_ouwiki               0.055113\n",
       "module_presentation_length     0.044555\n",
       "code_module_CCC                0.024110\n",
       "avg_days_sub_early             0.013602\n",
       "code_module_BBB                0.011342\n",
       "code_presentation_2014J        0.003145\n",
       "sum_click_quiz                 0.002015\n",
       "first_date_vle_accessed        0.000699\n",
       "code_presentation_2014B        0.000672\n",
       "sum_click_ouelluminate         0.000506\n",
       "code_module_DDD                0.000298\n",
       "sum_click_oucontent            0.000230\n",
       "sum_click_url                  0.000139"
      ]
     },
     "execution_count": 31,
     "metadata": {},
     "output_type": "execute_result"
    }
   ],
   "source": [
    "#     feat_imp = importances(rf_model, X_test, y_test)\n",
    "    feat_imp.sort_values(by='Importance', ascending=False)[0:20]"
   ]
  },
  {
   "cell_type": "code",
   "execution_count": 30,
   "metadata": {},
   "outputs": [
    {
     "name": "stderr",
     "output_type": "stream",
     "text": [
      "[Parallel(n_jobs=-1)]: Using backend LokyBackend with 8 concurrent workers.\n",
      "[Parallel(n_jobs=-1)]: Done   2 out of   5 | elapsed:   43.5s remaining:  1.1min\n",
      "[Parallel(n_jobs=-1)]: Done   5 out of   5 | elapsed:   44.4s finished\n"
     ]
    },
    {
     "data": {
      "text/plain": [
       "{'fit_time': array([41.78334022, 41.73199606, 42.75543714, 41.70032573, 42.56500101]),\n",
       " 'score_time': array([0.30905008, 0.30631495, 0.30998087, 0.20506907, 0.30659795]),\n",
       " 'test_score': array([ -9.90589148,  -9.83020478, -10.95959837,  -9.39391728,\n",
       "         -9.80238396]),\n",
       " 'train_score': array([-8.213786  , -8.43766347, -8.20219212, -8.38535678, -8.32339183])}"
      ]
     },
     "execution_count": 30,
     "metadata": {},
     "output_type": "execute_result"
    }
   ],
   "source": [
    "cv = cross_validate(rf_model,X_train,y_train,scoring='neg_mean_squared_error',cv=5,n_jobs=-1, verbose=1,return_train_score=1)\n",
    "print(cv)"
   ]
  },
  {
   "cell_type": "code",
   "execution_count": null,
   "metadata": {},
   "outputs": [],
   "source": []
  }
 ],
 "metadata": {
  "kernelspec": {
   "display_name": "Python 3",
   "language": "python",
   "name": "python3"
  },
  "language_info": {
   "codemirror_mode": {
    "name": "ipython",
    "version": 3
   },
   "file_extension": ".py",
   "mimetype": "text/x-python",
   "name": "python",
   "nbconvert_exporter": "python",
   "pygments_lexer": "ipython3",
   "version": "3.6.6"
  }
 },
 "nbformat": 4,
 "nbformat_minor": 2
}
