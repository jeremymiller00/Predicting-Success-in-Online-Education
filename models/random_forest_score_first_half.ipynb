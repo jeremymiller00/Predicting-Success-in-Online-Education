{
 "cells": [
  {
   "cell_type": "code",
   "execution_count": 1,
   "metadata": {},
   "outputs": [],
   "source": [
    "import pickle\n",
    "from sklearn.ensemble import RandomForestRegressor\n",
    "from sklearn.preprocessing import StandardScaler\n",
    "import numpy as np\n",
    "import pandas as pd\n",
    "from sklearn.metrics import mean_squared_error, r2_score, explained_variance_score\n",
    "from sklearn.model_selection import cross_validate\n",
    "from sklearn.externals import joblib\n",
    "from sklearn.base import clone\n",
    "from rfpimp import *\n",
    "import collections as c\n",
    "import matplotlib.pyplot as plt\n",
    "%matplotlib inline"
   ]
  },
  {
   "cell_type": "code",
   "execution_count": 2,
   "metadata": {},
   "outputs": [],
   "source": [
    "rf_model = pickle.load(open('random_forest_score_first_half.p', 'rb')) # load the model"
   ]
  },
  {
   "cell_type": "code",
   "execution_count": 4,
   "metadata": {},
   "outputs": [
    {
     "data": {
      "text/plain": [
       "<bound method BaseEstimator.get_params of RandomForestRegressor(bootstrap=True, criterion='mse', max_depth=50,\n",
       "           max_features='auto', max_leaf_nodes=None,\n",
       "           min_impurity_decrease=0.1, min_impurity_split=None,\n",
       "           min_samples_leaf=2, min_samples_split=10,\n",
       "           min_weight_fraction_leaf=0.0, n_estimators=100, n_jobs=1,\n",
       "           oob_score='True', random_state=None, verbose=0,\n",
       "           warm_start=False)>"
      ]
     },
     "execution_count": 4,
     "metadata": {},
     "output_type": "execute_result"
    }
   ],
   "source": [
    "rf_model.get_params"
   ]
  },
  {
   "cell_type": "code",
   "execution_count": 6,
   "metadata": {},
   "outputs": [],
   "source": [
    "def only_completed(X_train, y_train, X_test, y_test, y_train_not_comp, y_test_not_comp):\n",
    "    '''\n",
    "    Returns dataframes with only those students who completed the course for the purpose of regressing the final score.\n",
    "    '''\n",
    "    test_indices = []\n",
    "    train_indices = []\n",
    "\n",
    "    y_test_not_comp = y_test_not_comp[y_test_not_comp['module_not_completed'] == 1]\n",
    "    for index, row in y_test_not_comp.iterrows():\n",
    "        test_indices.append(index)\n",
    "\n",
    "    y_train_not_comp = y_train_not_comp[y_train_not_comp['module_not_completed'] == 1]\n",
    "    for index, row in y_train_not_comp.iterrows():\n",
    "        train_indices.append(index)\n",
    "\n",
    "    return X_train.drop(train_indices), y_train.drop(train_indices), X_test.drop(test_indices), y_test.drop(test_indices)"
   ]
  },
  {
   "cell_type": "code",
   "execution_count": 7,
   "metadata": {},
   "outputs": [],
   "source": [
    "    X_train = pd.read_csv('../data/processed/first_half/X_train.csv')\n",
    "    y_train = pd.read_csv('../data/processed/first_half/y_train.csv')\n",
    "    y_train_not_comp = y_train[['module_not_completed']]\n",
    "    y_train = y_train['estimated_final_score']\n",
    "    X_test = pd.read_csv('../data/processed/first_half/X_test.csv')\n",
    "    y_test = pd.read_csv('../data/processed/first_half/y_test.csv')\n",
    "    y_test_not_comp = y_test[['module_not_completed']]\n",
    "    y_test = y_test['estimated_final_score']\n",
    "\n",
    "    # fill\n",
    "    X_train.fillna(value = 0, inplace = True)\n",
    "    y_train.fillna(value = 0, inplace = True)\n",
    "    X_test.fillna(value = 0, inplace = True)\n",
    "    y_test.fillna(value = 0, inplace = True)\n",
    "\n",
    "    # only students who completed the course\n",
    "    X_train, y_train, X_test, y_test = only_completed(X_train, y_train, X_test, y_test, y_train_not_comp, y_test_not_comp)"
   ]
  },
  {
   "cell_type": "code",
   "execution_count": 8,
   "metadata": {},
   "outputs": [],
   "source": [
    "    predictions = rf_model.predict(X_test)\n",
    "    rmse = np.sqrt(mean_squared_error(y_test, predictions))\n",
    "    evs = explained_variance_score(y_test, predictions)\n",
    "    r2 = r2_score(y_test, predictions)"
   ]
  },
  {
   "cell_type": "code",
   "execution_count": 11,
   "metadata": {},
   "outputs": [
    {
     "name": "stdout",
     "output_type": "stream",
     "text": [
      "Root Mean Squared Error: 8.006195676291515\n",
      "Target Standard Deviation: 26.404166201517572\n",
      "R-Squared: 0.9080593679260965\n",
      "Explained Variance Score: 0.9080614584850643\n"
     ]
    }
   ],
   "source": [
    "    print('Root Mean Squared Error: {}'.format(rmse))\n",
    "    print('Target Standard Deviation: {}'.format(np.std(y_test)))\n",
    "    print('R-Squared: {}'.format(r2))\n",
    "    print('Explained Variance Score: {}'.format(evs))"
   ]
  },
  {
   "cell_type": "code",
   "execution_count": 10,
   "metadata": {},
   "outputs": [
    {
     "data": {
      "text/html": [
       "<div>\n",
       "<style scoped>\n",
       "    .dataframe tbody tr th:only-of-type {\n",
       "        vertical-align: middle;\n",
       "    }\n",
       "\n",
       "    .dataframe tbody tr th {\n",
       "        vertical-align: top;\n",
       "    }\n",
       "\n",
       "    .dataframe thead th {\n",
       "        text-align: right;\n",
       "    }\n",
       "</style>\n",
       "<table border=\"1\" class=\"dataframe\">\n",
       "  <thead>\n",
       "    <tr style=\"text-align: right;\">\n",
       "      <th></th>\n",
       "      <th>Importance</th>\n",
       "    </tr>\n",
       "    <tr>\n",
       "      <th>Feature</th>\n",
       "      <th></th>\n",
       "    </tr>\n",
       "  </thead>\n",
       "  <tbody>\n",
       "    <tr>\n",
       "      <th>code_module_GGG</th>\n",
       "      <td>1.172563</td>\n",
       "    </tr>\n",
       "    <tr>\n",
       "      <th>avg_score</th>\n",
       "      <td>0.270237</td>\n",
       "    </tr>\n",
       "    <tr>\n",
       "      <th>days_early_first_assessment</th>\n",
       "      <td>0.221181</td>\n",
       "    </tr>\n",
       "    <tr>\n",
       "      <th>avg_days_sub_early</th>\n",
       "      <td>0.030058</td>\n",
       "    </tr>\n",
       "    <tr>\n",
       "      <th>score_first_assessment</th>\n",
       "      <td>0.024265</td>\n",
       "    </tr>\n",
       "    <tr>\n",
       "      <th>sum_click_oucontent</th>\n",
       "      <td>0.016715</td>\n",
       "    </tr>\n",
       "    <tr>\n",
       "      <th>sum_click_quiz</th>\n",
       "      <td>0.001892</td>\n",
       "    </tr>\n",
       "    <tr>\n",
       "      <th>sum_days_vle_accessed</th>\n",
       "      <td>0.001348</td>\n",
       "    </tr>\n",
       "    <tr>\n",
       "      <th>sum_click_forumng</th>\n",
       "      <td>0.001122</td>\n",
       "    </tr>\n",
       "    <tr>\n",
       "      <th>code_module_CCC</th>\n",
       "      <td>0.001121</td>\n",
       "    </tr>\n",
       "    <tr>\n",
       "      <th>max_clicks_one_day</th>\n",
       "      <td>0.000595</td>\n",
       "    </tr>\n",
       "    <tr>\n",
       "      <th>sum_click_homepage</th>\n",
       "      <td>0.000514</td>\n",
       "    </tr>\n",
       "    <tr>\n",
       "      <th>sum_click_subpage</th>\n",
       "      <td>0.000488</td>\n",
       "    </tr>\n",
       "    <tr>\n",
       "      <th>sum_click_ouwiki</th>\n",
       "      <td>0.000366</td>\n",
       "    </tr>\n",
       "    <tr>\n",
       "      <th>sum_click_externalquiz</th>\n",
       "      <td>0.000356</td>\n",
       "    </tr>\n",
       "    <tr>\n",
       "      <th>sum_click_ouelluminate</th>\n",
       "      <td>0.000271</td>\n",
       "    </tr>\n",
       "    <tr>\n",
       "      <th>imd_band_60-70%</th>\n",
       "      <td>0.000257</td>\n",
       "    </tr>\n",
       "    <tr>\n",
       "      <th>sum_click_url</th>\n",
       "      <td>0.000252</td>\n",
       "    </tr>\n",
       "    <tr>\n",
       "      <th>module_presentation_length</th>\n",
       "      <td>0.000148</td>\n",
       "    </tr>\n",
       "    <tr>\n",
       "      <th>studied_credits</th>\n",
       "      <td>0.000115</td>\n",
       "    </tr>\n",
       "  </tbody>\n",
       "</table>\n",
       "</div>"
      ],
      "text/plain": [
       "                             Importance\n",
       "Feature                                \n",
       "code_module_GGG                1.172563\n",
       "avg_score                      0.270237\n",
       "days_early_first_assessment    0.221181\n",
       "avg_days_sub_early             0.030058\n",
       "score_first_assessment         0.024265\n",
       "sum_click_oucontent            0.016715\n",
       "sum_click_quiz                 0.001892\n",
       "sum_days_vle_accessed          0.001348\n",
       "sum_click_forumng              0.001122\n",
       "code_module_CCC                0.001121\n",
       "max_clicks_one_day             0.000595\n",
       "sum_click_homepage             0.000514\n",
       "sum_click_subpage              0.000488\n",
       "sum_click_ouwiki               0.000366\n",
       "sum_click_externalquiz         0.000356\n",
       "sum_click_ouelluminate         0.000271\n",
       "imd_band_60-70%                0.000257\n",
       "sum_click_url                  0.000252\n",
       "module_presentation_length     0.000148\n",
       "studied_credits                0.000115"
      ]
     },
     "execution_count": 10,
     "metadata": {},
     "output_type": "execute_result"
    }
   ],
   "source": [
    "    feat_imp = importances(rf_model, X_test, y_test)\n",
    "    feat_imp.sort_values(by='Importance', ascending=False)[0:20]"
   ]
  },
  {
   "cell_type": "code",
   "execution_count": null,
   "metadata": {},
   "outputs": [],
   "source": []
  }
 ],
 "metadata": {
  "kernelspec": {
   "display_name": "Python 3",
   "language": "python",
   "name": "python3"
  },
  "language_info": {
   "codemirror_mode": {
    "name": "ipython",
    "version": 3
   },
   "file_extension": ".py",
   "mimetype": "text/x-python",
   "name": "python",
   "nbconvert_exporter": "python",
   "pygments_lexer": "ipython3",
   "version": "3.6.6"
  }
 },
 "nbformat": 4,
 "nbformat_minor": 2
}
