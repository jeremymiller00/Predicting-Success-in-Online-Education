{
 "cells": [
  {
   "cell_type": "code",
   "execution_count": 1,
   "metadata": {},
   "outputs": [],
   "source": [
    "import pickle\n",
    "from sklearn.ensemble import RandomForestClassifier\n",
    "from sklearn.preprocessing import StandardScaler\n",
    "import numpy as np\n",
    "import pandas as pd\n",
    "from sklearn.metrics import recall_score, roc_auc_score, roc_curve, classification_report, confusion_matrix\n",
    "from sklearn.model_selection import cross_val_score\n",
    "from sklearn.externals import joblib\n",
    "from sklearn.base import clone\n",
    "from rfpimp import *\n",
    "import collections as c\n",
    "import matplotlib.pyplot as plt\n",
    "%matplotlib inline"
   ]
  },
  {
   "cell_type": "code",
   "execution_count": 8,
   "metadata": {},
   "outputs": [],
   "source": [
    "rf_model = pickle.load(open('random_forest_completion_first_half.p', 'rb')) # load the model"
   ]
  },
  {
   "cell_type": "code",
   "execution_count": 9,
   "metadata": {},
   "outputs": [
    {
     "data": {
      "text/plain": [
       "<bound method BaseEstimator.get_params of RandomForestClassifier(bootstrap=True, class_weight=None, criterion='gini',\n",
       "            max_depth=100, max_features='auto', max_leaf_nodes=None,\n",
       "            min_impurity_decrease=0.0, min_impurity_split=None,\n",
       "            min_samples_leaf=1, min_samples_split=2,\n",
       "            min_weight_fraction_leaf=0.0, n_estimators=1000, n_jobs=-1,\n",
       "            oob_score=False, random_state=None, verbose=1,\n",
       "            warm_start=False)>"
      ]
     },
     "execution_count": 9,
     "metadata": {},
     "output_type": "execute_result"
    }
   ],
   "source": [
    "rf_model.get_params"
   ]
  },
  {
   "cell_type": "code",
   "execution_count": 3,
   "metadata": {},
   "outputs": [],
   "source": [
    "# rf_model = RandomForestClassifier(bootstrap=True, class_weight=None, criterion='gini', max_depth=50, \n",
    "#                                   max_features='auto', max_leaf_nodes=None,min_impurity_decrease=0.0, \n",
    "#                                   min_impurity_split=None, min_samples_leaf=5, min_samples_split=5, \n",
    "#                                   min_weight_fraction_leaf=0.0, n_estimators=1000, n_jobs=-1, oob_score=False, \n",
    "#                                   random_state=None, verbose=1, warm_start=False)"
   ]
  },
  {
   "cell_type": "code",
   "execution_count": 4,
   "metadata": {},
   "outputs": [],
   "source": [
    "def standard_confusion_matrix(y_true, y_pred):\n",
    "    \"\"\"Make confusion matrix with format:\n",
    "                  -----------\n",
    "                  | TP | FP |\n",
    "                  -----------\n",
    "                  | FN | TN |\n",
    "                  -----------\n",
    "    Parameters\n",
    "    ----------\n",
    "    y_true : ndarray - 1D\n",
    "    y_pred : ndarray - 1D\n",
    "\n",
    "    Returns\n",
    "    -------\n",
    "    ndarray - 2D\n",
    "    \"\"\"\n",
    "    [[tn, fp], [fn, tp]] = confusion_matrix(y_true, y_pred)\n",
    "    return np.array([[tp, fp], [fn, tn]])\n",
    "\n",
    "def print_roc_curve(y_test, probabilities, model_type):\n",
    "    '''\n",
    "    Calculates and prints a ROC curve given a set of test classes and probabilities from a trained classifier\n",
    "    '''\n",
    "    tprs, fprs, thresh = roc_curve(y_test, probabilities)\n",
    "    plt.figure(figsize=(12,10))\n",
    "    plt.plot(fprs, tprs, \n",
    "         label=model_type, \n",
    "         color='red')\n",
    "    plt.plot([0,1],[0,1], 'k:')\n",
    "    plt.legend()\n",
    "    plt.xlabel(\"FPR\")\n",
    "    plt.ylabel(\"TPR\")\n",
    "    plt.title(\"ROC Curve AUC: {} Recall: {}\".format(roc_auc, recall))\n",
    "    plt.show()"
   ]
  },
  {
   "cell_type": "code",
   "execution_count": 5,
   "metadata": {},
   "outputs": [],
   "source": [
    "# X_train = pd.read_csv('../data/processed/first_half/X_train.csv')\n",
    "# y_train = pd.read_csv('../data/processed/first_half/y_train.csv')\n",
    "# y_train = y_train['module_not_completed']\n",
    "X_test = pd.read_csv('../data/processed/first_half/X_test.csv')\n",
    "\n",
    "y_test = pd.read_csv('../data/processed/first_half/y_test.csv')\n",
    "y_test = y_test['module_not_completed']\n",
    "\n",
    "# fill\n",
    "# X_train.fillna(value = 0, inplace = True)\n",
    "# X_train = scale_subset(X_train, numeric_cols)\n",
    "X_test.fillna(value = 0, inplace = True)"
   ]
  },
  {
   "cell_type": "code",
   "execution_count": 6,
   "metadata": {},
   "outputs": [
    {
     "name": "stderr",
     "output_type": "stream",
     "text": [
      "[Parallel(n_jobs=8)]: Using backend ThreadingBackend with 8 concurrent workers.\n",
      "[Parallel(n_jobs=8)]: Done  34 tasks      | elapsed:    0.0s\n",
      "[Parallel(n_jobs=8)]: Done 184 tasks      | elapsed:    0.1s\n",
      "[Parallel(n_jobs=8)]: Done 434 tasks      | elapsed:    0.2s\n",
      "[Parallel(n_jobs=8)]: Done 784 tasks      | elapsed:    0.3s\n",
      "[Parallel(n_jobs=8)]: Done 1000 out of 1000 | elapsed:    0.4s finished\n",
      "[Parallel(n_jobs=8)]: Using backend ThreadingBackend with 8 concurrent workers.\n",
      "[Parallel(n_jobs=8)]: Done  34 tasks      | elapsed:    0.0s\n",
      "[Parallel(n_jobs=8)]: Done 184 tasks      | elapsed:    0.1s\n",
      "[Parallel(n_jobs=8)]: Done 434 tasks      | elapsed:    0.2s\n",
      "[Parallel(n_jobs=8)]: Done 784 tasks      | elapsed:    0.3s\n",
      "[Parallel(n_jobs=8)]: Done 1000 out of 1000 | elapsed:    0.4s finished\n"
     ]
    }
   ],
   "source": [
    "    predictions = rf_model.predict(X_test)\n",
    "    roc_auc = roc_auc_score(y_test, predictions)\n",
    "    probas = rf_model.predict_proba(X_test)[:, :1]\n",
    "    tprs, fprs, thresh = roc_curve(y_test, probas)\n",
    "    recall = recall_score(y_test, predictions)\n",
    "    conf_mat = standard_confusion_matrix(y_test, predictions)\n",
    "    class_report = classification_report(y_test, predictions)"
   ]
  },
  {
   "cell_type": "code",
   "execution_count": 7,
   "metadata": {},
   "outputs": [
    {
     "data": {
      "image/png": "[encoded data removed]",
      "text/plain": [
       "<Figure size 864x720 with 1 Axes>"
      ]
     },
     "metadata": {
      "needs_background": "light"
     },
     "output_type": "display_data"
    },
    {
     "name": "stdout",
     "output_type": "stream",
     "text": [
      "Best Model: RandomForestClassifier(bootstrap=True, class_weight=None, criterion='gini',\n",
      "            max_depth=100, max_features='auto', max_leaf_nodes=None,\n",
      "            min_impurity_decrease=0.0, min_impurity_split=None,\n",
      "            min_samples_leaf=1, min_samples_split=2,\n",
      "            min_weight_fraction_leaf=0.0, n_estimators=1000, n_jobs=-1,\n",
      "            oob_score=False, random_state=None, verbose=1,\n",
      "            warm_start=False)\n",
      "\n",
      "Roc Auc: 0.763574710408174\n",
      "\n",
      "Recall Score: 0.6327006327006327\n",
      "\n",
      "Classification Report:\n",
      "               precision    recall  f1-score   support\n",
      "\n",
      "       False       0.81      0.89      0.85      5116\n",
      "        True       0.78      0.63      0.70      3003\n",
      "\n",
      "   micro avg       0.80      0.80      0.80      8119\n",
      "   macro avg       0.79      0.76      0.77      8119\n",
      "weighted avg       0.80      0.80      0.79      8119\n",
      "\n",
      "\n",
      "Confusion Matrix:\n",
      " [[1900  540]\n",
      " [1103 4576]]\n"
     ]
    }
   ],
   "source": [
    "    print_roc_curve(y_test, probas, 'Random Forest')\n",
    "    print('Best Model: {}'.format(rf_model))\n",
    "    print('\\nRoc Auc: {}'.format(roc_auc))\n",
    "    print('\\nRecall Score: {}'.format(recall))\n",
    "    print('\\nClassification Report:\\n {}'.format(class_report))\n",
    "    print('\\nConfusion Matrix:\\n {}'.format(standard_confusion_matrix(y_test, predictions)))"
   ]
  },
  {
   "cell_type": "code",
   "execution_count": null,
   "metadata": {},
   "outputs": [],
   "source": [
    "feat_imp = importances(rf_model, X_test, y_test)"
   ]
  },
  {
   "cell_type": "code",
   "execution_count": null,
   "metadata": {},
   "outputs": [],
   "source": [
    "feat_imp.sort_values(by='Importance', ascending=False)[0:10]"
   ]
  },
  {
   "cell_type": "code",
   "execution_count": null,
   "metadata": {},
   "outputs": [],
   "source": [
    "pd.DataFrame(data={'fprs': fprs, 'tprs': tprs, 'Thresholds': thresh}).loc[300:1000:25]"
   ]
  },
  {
   "cell_type": "code",
   "execution_count": null,
   "metadata": {},
   "outputs": [],
   "source": []
  }
 ],
 "metadata": {
  "kernelspec": {
   "display_name": "Python 3",
   "language": "python",
   "name": "python3"
  },
  "language_info": {
   "codemirror_mode": {
    "name": "ipython",
    "version": 3
   },
   "file_extension": ".py",
   "mimetype": "text/x-python",
   "name": "python",
   "nbconvert_exporter": "python",
   "pygments_lexer": "ipython3",
   "version": "3.6.6"
  }
 },
 "nbformat": 4,
 "nbformat_minor": 2
}
